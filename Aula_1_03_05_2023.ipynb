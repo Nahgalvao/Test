{
  "nbformat": 4,
  "nbformat_minor": 0,
  "metadata": {
    "colab": {
      "provenance": [],
      "authorship_tag": "ABX9TyOODTcUZDAMoUYo6QZHOo+d",
      "include_colab_link": true
    },
    "kernelspec": {
      "name": "python3",
      "display_name": "Python 3"
    },
    "language_info": {
      "name": "python"
    }
  },
  "cells": [
    {
      "cell_type": "markdown",
      "metadata": {
        "id": "view-in-github",
        "colab_type": "text"
      },
      "source": [
        "<a href=\"https://colab.research.google.com/github/Nahgalvao/teste/blob/main/Aula_1_03_05_2023.ipynb\" target=\"_parent\"><img src=\"https://colab.research.google.com/assets/colab-badge.svg\" alt=\"Open In Colab\"/></a>"
      ]
    },
    {
      "cell_type": "code",
      "execution_count": 1,
      "metadata": {
        "colab": {
          "base_uri": "https://localhost:8080/"
        },
        "id": "rtMG6ieg8E1k",
        "outputId": "edf35a31-6c48-476a-8556-a5b71798c49b"
      },
      "outputs": [
        {
          "output_type": "execute_result",
          "data": {
            "text/plain": [
              "[]"
            ]
          },
          "metadata": {},
          "execution_count": 1
        }
      ],
      "source": [
        "[]\n",
        "\n",
        "# Início da jornada"
      ]
    },
    {
      "cell_type": "code",
      "source": [],
      "metadata": {
        "id": "iAdAk7Cq8YIO"
      },
      "execution_count": null,
      "outputs": []
    },
    {
      "cell_type": "markdown",
      "source": [
        "# Início da jornada"
      ],
      "metadata": {
        "id": "x9jFqbUA8hvH"
      }
    },
    {
      "cell_type": "markdown",
      "source": [
        "## Função Print"
      ],
      "metadata": {
        "id": "f8RkuboI_MLI"
      }
    },
    {
      "cell_type": "code",
      "source": [
        "print(\"Hello word\")"
      ],
      "metadata": {
        "colab": {
          "base_uri": "https://localhost:8080/"
        },
        "id": "Rg1Hhs718kwH",
        "outputId": "92991b85-9ecb-4181-ec0e-5087833b5cc0"
      },
      "execution_count": 2,
      "outputs": [
        {
          "output_type": "stream",
          "name": "stdout",
          "text": [
            "Hello word\n"
          ]
        }
      ]
    },
    {
      "cell_type": "code",
      "source": [
        "\n",
        "# Esse é o meu primeiro programa\n",
        "print (\"oi\") #para escrever palavras utilizar aspas duplas ou aspas simples"
      ],
      "metadata": {
        "colab": {
          "base_uri": "https://localhost:8080/"
        },
        "id": "3iIRqWD89MUm",
        "outputId": "896192d7-baba-4c2a-e099-a6a038075876"
      },
      "execution_count": 3,
      "outputs": [
        {
          "output_type": "stream",
          "name": "stdout",
          "text": [
            "oi\n"
          ]
        }
      ]
    },
    {
      "cell_type": "code",
      "source": [
        "# vamos tentar algo diferente\n",
        "a = \"olá \"\n",
        "b = \"Mundo\"\n",
        "print (a + b)"
      ],
      "metadata": {
        "colab": {
          "base_uri": "https://localhost:8080/"
        },
        "id": "XsNKn4bk-I2X",
        "outputId": "fe40a160-63b1-4f3f-e1e3-536420ba75f0"
      },
      "execution_count": 5,
      "outputs": [
        {
          "output_type": "stream",
          "name": "stdout",
          "text": [
            "olá Mundo\n"
          ]
        }
      ]
    },
    {
      "cell_type": "markdown",
      "source": [
        "## Contas"
      ],
      "metadata": {
        "id": "V63NPU7Z_clJ"
      }
    },
    {
      "cell_type": "code",
      "source": [
        "# contas simples\n",
        "4 + 7"
      ],
      "metadata": {
        "colab": {
          "base_uri": "https://localhost:8080/"
        },
        "id": "eQF0Rcuj-zRX",
        "outputId": "59ed86f0-83f7-4753-a40a-b3736c8eb2b3"
      },
      "execution_count": 6,
      "outputs": [
        {
          "output_type": "execute_result",
          "data": {
            "text/plain": [
              "11"
            ]
          },
          "metadata": {},
          "execution_count": 6
        }
      ]
    },
    {
      "cell_type": "code",
      "source": [
        "nome = \"Natália\"\n",
        "idade = 25\n",
        "print(f'Meu nome é {nome} e minha idade é {idade} anos')"
      ],
      "metadata": {
        "colab": {
          "base_uri": "https://localhost:8080/"
        },
        "id": "eVWUnpgB_ifP",
        "outputId": "11f8f180-c894-4a45-fda2-20fd36cf6fc4"
      },
      "execution_count": 8,
      "outputs": [
        {
          "output_type": "stream",
          "name": "stdout",
          "text": [
            "Meu nome é Natália e minha idade é 25 anos\n"
          ]
        }
      ]
    },
    {
      "cell_type": "code",
      "source": [],
      "metadata": {
        "id": "GQ8shPI2_8DI"
      },
      "execution_count": null,
      "outputs": []
    }
  ]
}