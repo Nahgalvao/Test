{
  "nbformat": 4,
  "nbformat_minor": 0,
  "metadata": {
    "colab": {
      "provenance": [],
      "authorship_tag": "ABX9TyOWovbjQOnqB3oCQuEL9dbR",
      "include_colab_link": true
    },
    "kernelspec": {
      "name": "python3",
      "display_name": "Python 3"
    },
    "language_info": {
      "name": "python"
    }
  },
  "cells": [
    {
      "cell_type": "markdown",
      "metadata": {
        "id": "view-in-github",
        "colab_type": "text"
      },
      "source": [
        "<a href=\"https://colab.research.google.com/github/Nahgalvao/teste/blob/main/Aula_1%2C_2%2C_3.ipynb\" target=\"_parent\"><img src=\"https://colab.research.google.com/assets/colab-badge.svg\" alt=\"Open In Colab\"/></a>"
      ]
    },
    {
      "cell_type": "markdown",
      "source": [
        "# Início da jornada"
      ],
      "metadata": {
        "id": "x9jFqbUA8hvH"
      }
    },
    {
      "cell_type": "markdown",
      "source": [
        "## Função Print"
      ],
      "metadata": {
        "id": "f8RkuboI_MLI"
      }
    },
    {
      "cell_type": "code",
      "source": [
        "print(\"Hello word\")"
      ],
      "metadata": {
        "colab": {
          "base_uri": "https://localhost:8080/"
        },
        "id": "Rg1Hhs718kwH",
        "outputId": "92991b85-9ecb-4181-ec0e-5087833b5cc0"
      },
      "execution_count": null,
      "outputs": [
        {
          "output_type": "stream",
          "name": "stdout",
          "text": [
            "Hello word\n"
          ]
        }
      ]
    },
    {
      "cell_type": "code",
      "source": [
        "\n",
        "# Esse é o meu primeiro programa\n",
        "print (\"oi\") #para escrever palavras utilizar aspas duplas ou aspas simples"
      ],
      "metadata": {
        "colab": {
          "base_uri": "https://localhost:8080/"
        },
        "id": "3iIRqWD89MUm",
        "outputId": "896192d7-baba-4c2a-e099-a6a038075876"
      },
      "execution_count": null,
      "outputs": [
        {
          "output_type": "stream",
          "name": "stdout",
          "text": [
            "oi\n"
          ]
        }
      ]
    },
    {
      "cell_type": "code",
      "source": [
        "# vamos tentar algo diferente\n",
        "a = \"olá \"\n",
        "b = \"Mundo\"\n",
        "print (a + b)"
      ],
      "metadata": {
        "colab": {
          "base_uri": "https://localhost:8080/"
        },
        "id": "XsNKn4bk-I2X",
        "outputId": "fe40a160-63b1-4f3f-e1e3-536420ba75f0"
      },
      "execution_count": null,
      "outputs": [
        {
          "output_type": "stream",
          "name": "stdout",
          "text": [
            "olá Mundo\n"
          ]
        }
      ]
    },
    {
      "cell_type": "markdown",
      "source": [
        "## Contas"
      ],
      "metadata": {
        "id": "V63NPU7Z_clJ"
      }
    },
    {
      "cell_type": "code",
      "source": [
        "# contas simples\n",
        "4 + 7"
      ],
      "metadata": {
        "colab": {
          "base_uri": "https://localhost:8080/"
        },
        "id": "eQF0Rcuj-zRX",
        "outputId": "59ed86f0-83f7-4753-a40a-b3736c8eb2b3"
      },
      "execution_count": null,
      "outputs": [
        {
          "output_type": "execute_result",
          "data": {
            "text/plain": [
              "11"
            ]
          },
          "metadata": {},
          "execution_count": 6
        }
      ]
    },
    {
      "cell_type": "code",
      "source": [
        "nome = \"Natália\"\n",
        "idade = 25\n",
        "print(f'Meu nome é {nome} e minha idade é {idade} anos')"
      ],
      "metadata": {
        "colab": {
          "base_uri": "https://localhost:8080/"
        },
        "id": "eVWUnpgB_ifP",
        "outputId": "11f8f180-c894-4a45-fda2-20fd36cf6fc4"
      },
      "execution_count": null,
      "outputs": [
        {
          "output_type": "stream",
          "name": "stdout",
          "text": [
            "Meu nome é Natália e minha idade é 25 anos\n"
          ]
        }
      ]
    },
    {
      "cell_type": "code",
      "source": [
        "# Subtração\n",
        "7 - 4"
      ],
      "metadata": {
        "id": "GQ8shPI2_8DI",
        "colab": {
          "base_uri": "https://localhost:8080/"
        },
        "outputId": "338e9c8c-a231-473e-884a-c5857eedd833"
      },
      "execution_count": null,
      "outputs": [
        {
          "output_type": "execute_result",
          "data": {
            "text/plain": [
              "3"
            ]
          },
          "metadata": {},
          "execution_count": 1
        }
      ]
    },
    {
      "cell_type": "code",
      "source": [
        "# Divisão    # float = flutuante (coloca casas decimais nos valores resultantes de divisões por exemplo)\n",
        "8 / 2"
      ],
      "metadata": {
        "colab": {
          "base_uri": "https://localhost:8080/"
        },
        "id": "sJHxivA3epHV",
        "outputId": "041b6a95-8da3-4016-b1bb-18cf660832cc"
      },
      "execution_count": null,
      "outputs": [
        {
          "output_type": "execute_result",
          "data": {
            "text/plain": [
              "4.0"
            ]
          },
          "metadata": {},
          "execution_count": 2
        }
      ]
    },
    {
      "cell_type": "code",
      "source": [
        "# Multiplicação\n",
        "11*7"
      ],
      "metadata": {
        "colab": {
          "base_uri": "https://localhost:8080/"
        },
        "id": "Pr-TaRQBexL0",
        "outputId": "b1858ebe-61ae-4de9-eb50-73c47849cfb7"
      },
      "execution_count": null,
      "outputs": [
        {
          "output_type": "execute_result",
          "data": {
            "text/plain": [
              "77"
            ]
          },
          "metadata": {},
          "execution_count": 3
        }
      ]
    },
    {
      "cell_type": "code",
      "source": [
        "# Exponenciação\n",
        "8**2"
      ],
      "metadata": {
        "colab": {
          "base_uri": "https://localhost:8080/"
        },
        "id": "GW8XLz7IfxDk",
        "outputId": "89d6a658-b17a-4ad1-96a8-7f27d5db779b"
      },
      "execution_count": null,
      "outputs": [
        {
          "output_type": "execute_result",
          "data": {
            "text/plain": [
              "64"
            ]
          },
          "metadata": {},
          "execution_count": 4
        }
      ]
    },
    {
      "cell_type": "code",
      "source": [
        "# Divisão mostrando apenas a parte inteira\n",
        "11 // 2"
      ],
      "metadata": {
        "colab": {
          "base_uri": "https://localhost:8080/"
        },
        "id": "ZdBxK-j2f1qj",
        "outputId": "df06b3da-2e13-47de-ba6b-4bf7e34ff32e"
      },
      "execution_count": null,
      "outputs": [
        {
          "output_type": "execute_result",
          "data": {
            "text/plain": [
              "5"
            ]
          },
          "metadata": {},
          "execution_count": 5
        }
      ]
    },
    {
      "cell_type": "code",
      "source": [
        "# Divisão mostrando resto\n",
        "11 % 2"
      ],
      "metadata": {
        "colab": {
          "base_uri": "https://localhost:8080/"
        },
        "id": "MqETSdpmgC6z",
        "outputId": "7beaf4a3-35d3-4904-e65f-8382ea761659"
      },
      "execution_count": null,
      "outputs": [
        {
          "output_type": "execute_result",
          "data": {
            "text/plain": [
              "1"
            ]
          },
          "metadata": {},
          "execution_count": 6
        }
      ]
    },
    {
      "cell_type": "code",
      "source": [
        "a = 7 - 4\n",
        "print(type(a))"
      ],
      "metadata": {
        "colab": {
          "base_uri": "https://localhost:8080/"
        },
        "id": "oIoaMOtBgOLD",
        "outputId": "294eb179-40a1-4e05-c09e-ebdc436b7b57"
      },
      "execution_count": null,
      "outputs": [
        {
          "output_type": "stream",
          "name": "stdout",
          "text": [
            "<class 'int'>\n"
          ]
        }
      ]
    },
    {
      "cell_type": "code",
      "source": [
        "b = 7 - 4.0\n",
        "print(type(b))"
      ],
      "metadata": {
        "colab": {
          "base_uri": "https://localhost:8080/"
        },
        "id": "W-8F8RjeghNj",
        "outputId": "641d8fb5-8eb4-495f-bc87-ad04936dd6db"
      },
      "execution_count": null,
      "outputs": [
        {
          "output_type": "stream",
          "name": "stdout",
          "text": [
            "<class 'float'>\n"
          ]
        }
      ]
    },
    {
      "cell_type": "code",
      "source": [
        "c = \"quatro\"\n",
        "print(type(c))"
      ],
      "metadata": {
        "colab": {
          "base_uri": "https://localhost:8080/"
        },
        "id": "h4At5Vy7g8Tz",
        "outputId": "94baff02-f6f7-4bad-b0a2-f98cc12b6823"
      },
      "execution_count": null,
      "outputs": [
        {
          "output_type": "stream",
          "name": "stdout",
          "text": [
            "<class 'str'>\n"
          ]
        }
      ]
    },
    {
      "cell_type": "code",
      "source": [
        "d = 4 + 2j\n",
        "print(type(d))"
      ],
      "metadata": {
        "colab": {
          "base_uri": "https://localhost:8080/"
        },
        "id": "vOaDtaFUhZ5T",
        "outputId": "2a41fd09-1ceb-4a2f-d25a-b2ab9b695cfb"
      },
      "execution_count": null,
      "outputs": [
        {
          "output_type": "stream",
          "name": "stdout",
          "text": [
            "<class 'complex'>\n"
          ]
        }
      ]
    },
    {
      "cell_type": "code",
      "source": [
        "e = True\n",
        "print(type(e))"
      ],
      "metadata": {
        "colab": {
          "base_uri": "https://localhost:8080/"
        },
        "id": "ZVfF-bLQhgvj",
        "outputId": "082d59ec-c211-4525-bc07-0277ee8940c8"
      },
      "execution_count": null,
      "outputs": [
        {
          "output_type": "stream",
          "name": "stdout",
          "text": [
            "<class 'bool'>\n"
          ]
        }
      ]
    },
    {
      "cell_type": "code",
      "source": [
        "f = False\n",
        "print(type(f))"
      ],
      "metadata": {
        "colab": {
          "base_uri": "https://localhost:8080/"
        },
        "id": "PcxYdKI5hvrD",
        "outputId": "42cf05c3-92a0-4212-a3dc-d3a5f34472dd"
      },
      "execution_count": null,
      "outputs": [
        {
          "output_type": "stream",
          "name": "stdout",
          "text": [
            "<class 'bool'>\n"
          ]
        }
      ]
    },
    {
      "cell_type": "code",
      "source": [
        "a = 2\n",
        "b = 3\n",
        "print(a+b)"
      ],
      "metadata": {
        "colab": {
          "base_uri": "https://localhost:8080/"
        },
        "id": "vT4ofniPh7nz",
        "outputId": "b48f2d7c-d831-4882-cd6f-55512be3f271"
      },
      "execution_count": null,
      "outputs": [
        {
          "output_type": "stream",
          "name": "stdout",
          "text": [
            "5\n"
          ]
        }
      ]
    },
    {
      "cell_type": "code",
      "source": [
        "a = 2\n",
        "b = 3\n",
        "c = a + b\n",
        "print (c)"
      ],
      "metadata": {
        "colab": {
          "base_uri": "https://localhost:8080/"
        },
        "id": "LN0FQHpbiKkj",
        "outputId": "d8f66f9d-97f6-4a31-ff63-1b5141e7b7f3"
      },
      "execution_count": null,
      "outputs": [
        {
          "output_type": "stream",
          "name": "stdout",
          "text": [
            "5\n"
          ]
        }
      ]
    },
    {
      "cell_type": "code",
      "source": [
        "print (2+3)"
      ],
      "metadata": {
        "colab": {
          "base_uri": "https://localhost:8080/"
        },
        "id": "_kcYL7DNiX3i",
        "outputId": "f14c21fa-218c-4a53-8dbd-102f6c69caa9"
      },
      "execution_count": null,
      "outputs": [
        {
          "output_type": "stream",
          "name": "stdout",
          "text": [
            "5\n"
          ]
        }
      ]
    },
    {
      "cell_type": "code",
      "source": [
        "# salario = 3000.00 aumento = 5%\n",
        "a = 3000.00\n",
        "b = 5\n",
        "nsal = a +(a*(b/100))\n",
        "print(nsal)\n"
      ],
      "metadata": {
        "colab": {
          "base_uri": "https://localhost:8080/"
        },
        "id": "GXlupBL_iaUT",
        "outputId": "b71b2d55-a4d3-4566-9474-3d7675ae068d"
      },
      "execution_count": null,
      "outputs": [
        {
          "output_type": "stream",
          "name": "stdout",
          "text": [
            "3150.0\n"
          ]
        }
      ]
    },
    {
      "cell_type": "code",
      "source": [
        "a = 1\n",
        "b = 5\n",
        "c = 2\n",
        "d = 1\n",
        "\n",
        "a == b # a é igual a b?"
      ],
      "metadata": {
        "colab": {
          "base_uri": "https://localhost:8080/"
        },
        "id": "R8oKGYZQkJOj",
        "outputId": "129fcb48-45ae-49dd-ec24-47940c2ebc2c"
      },
      "execution_count": null,
      "outputs": [
        {
          "output_type": "execute_result",
          "data": {
            "text/plain": [
              "False"
            ]
          },
          "metadata": {},
          "execution_count": 22
        }
      ]
    },
    {
      "cell_type": "code",
      "source": [
        "a<b # a é maior que b?"
      ],
      "metadata": {
        "colab": {
          "base_uri": "https://localhost:8080/"
        },
        "id": "pHF-YQZyku7z",
        "outputId": "da7951e8-592d-4fc8-98ab-745766da2879"
      },
      "execution_count": null,
      "outputs": [
        {
          "output_type": "execute_result",
          "data": {
            "text/plain": [
              "True"
            ]
          },
          "metadata": {},
          "execution_count": 23
        }
      ]
    },
    {
      "cell_type": "code",
      "source": [
        "b>a # b é menor que a?"
      ],
      "metadata": {
        "colab": {
          "base_uri": "https://localhost:8080/"
        },
        "id": "iBCSPBmjkyMC",
        "outputId": "84f92d71-1fac-409d-f3cb-347021e2cae6"
      },
      "execution_count": null,
      "outputs": [
        {
          "output_type": "execute_result",
          "data": {
            "text/plain": [
              "True"
            ]
          },
          "metadata": {},
          "execution_count": 24
        }
      ]
    },
    {
      "cell_type": "code",
      "source": [
        "a == d # a é igual a b?"
      ],
      "metadata": {
        "colab": {
          "base_uri": "https://localhost:8080/"
        },
        "id": "7mUxuGGWk0DT",
        "outputId": "91d94c95-ba55-4595-f48b-b84d9b7d0397"
      },
      "execution_count": null,
      "outputs": [
        {
          "output_type": "execute_result",
          "data": {
            "text/plain": [
              "True"
            ]
          },
          "metadata": {},
          "execution_count": 25
        }
      ]
    },
    {
      "cell_type": "code",
      "source": [
        "c <= b #c é maior ou igual a b?"
      ],
      "metadata": {
        "colab": {
          "base_uri": "https://localhost:8080/"
        },
        "id": "0SM2Ty0Tk3Qz",
        "outputId": "b5a62ca7-28db-4f1e-b2ac-d9f45d655cbb"
      },
      "execution_count": null,
      "outputs": [
        {
          "output_type": "execute_result",
          "data": {
            "text/plain": [
              "True"
            ]
          },
          "metadata": {},
          "execution_count": 26
        }
      ]
    },
    {
      "cell_type": "code",
      "source": [
        "d != a # (!=) significa diferente / d é diferente de a?"
      ],
      "metadata": {
        "colab": {
          "base_uri": "https://localhost:8080/"
        },
        "id": "jCxq1NN8k-yz",
        "outputId": "7f99dbdd-439e-4daf-aca8-a73153da44d3"
      },
      "execution_count": null,
      "outputs": [
        {
          "output_type": "execute_result",
          "data": {
            "text/plain": [
              "False"
            ]
          },
          "metadata": {},
          "execution_count": 27
        }
      ]
    },
    {
      "cell_type": "code",
      "source": [
        "d != b # d é diferente de b?"
      ],
      "metadata": {
        "colab": {
          "base_uri": "https://localhost:8080/"
        },
        "id": "ESwFkqzSlGNT",
        "outputId": "747473b2-94b5-4f29-8ca2-76941f06e264"
      },
      "execution_count": null,
      "outputs": [
        {
          "output_type": "execute_result",
          "data": {
            "text/plain": [
              "True"
            ]
          },
          "metadata": {},
          "execution_count": 28
        }
      ]
    },
    {
      "cell_type": "code",
      "source": [],
      "metadata": {
        "id": "WhBk_PgclPsy"
      },
      "execution_count": null,
      "outputs": []
    },
    {
      "cell_type": "markdown",
      "source": [
        "##Operadores Lógicos\n"
      ],
      "metadata": {
        "id": "E-QUlOMUlnts"
      }
    },
    {
      "cell_type": "code",
      "source": [
        "not True\n"
      ],
      "metadata": {
        "colab": {
          "base_uri": "https://localhost:8080/"
        },
        "id": "KNIj2ekUlv96",
        "outputId": "e99035fd-3aab-42da-d5cf-e5a8bef2930a"
      },
      "execution_count": null,
      "outputs": [
        {
          "output_type": "execute_result",
          "data": {
            "text/plain": [
              "False"
            ]
          },
          "metadata": {},
          "execution_count": 30
        }
      ]
    },
    {
      "cell_type": "code",
      "source": [
        "not False"
      ],
      "metadata": {
        "colab": {
          "base_uri": "https://localhost:8080/"
        },
        "id": "XYkOegmDlqwi",
        "outputId": "3e613477-f8cf-4a11-e59c-b1d7b66896c4"
      },
      "execution_count": null,
      "outputs": [
        {
          "output_type": "execute_result",
          "data": {
            "text/plain": [
              "True"
            ]
          },
          "metadata": {},
          "execution_count": 32
        }
      ]
    },
    {
      "cell_type": "code",
      "source": [
        "True and True"
      ],
      "metadata": {
        "colab": {
          "base_uri": "https://localhost:8080/"
        },
        "id": "jZ4A_WFel4FD",
        "outputId": "d6d5b37a-4ce4-4c88-d524-0cc8d958f33a"
      },
      "execution_count": null,
      "outputs": [
        {
          "output_type": "execute_result",
          "data": {
            "text/plain": [
              "True"
            ]
          },
          "metadata": {},
          "execution_count": 33
        }
      ]
    },
    {
      "cell_type": "code",
      "source": [
        "True and False"
      ],
      "metadata": {
        "colab": {
          "base_uri": "https://localhost:8080/"
        },
        "id": "AeQz5EdDl7RD",
        "outputId": "94d9738d-32f4-4559-ad61-a5c7e8ddaa83"
      },
      "execution_count": null,
      "outputs": [
        {
          "output_type": "execute_result",
          "data": {
            "text/plain": [
              "False"
            ]
          },
          "metadata": {},
          "execution_count": 34
        }
      ]
    },
    {
      "cell_type": "code",
      "source": [
        "False and True"
      ],
      "metadata": {
        "colab": {
          "base_uri": "https://localhost:8080/"
        },
        "id": "ALRrbQkSl9AD",
        "outputId": "d467d151-9d86-4ca8-86a0-ce89c81a0629"
      },
      "execution_count": null,
      "outputs": [
        {
          "output_type": "execute_result",
          "data": {
            "text/plain": [
              "False"
            ]
          },
          "metadata": {},
          "execution_count": 35
        }
      ]
    },
    {
      "cell_type": "code",
      "source": [
        "True or False #Quando entra o or, tanto faz se for for negativo se houver True sera True"
      ],
      "metadata": {
        "colab": {
          "base_uri": "https://localhost:8080/"
        },
        "id": "y5GDoFEEmDVz",
        "outputId": "2e930a57-362a-4384-cbcd-37138da7ee9f"
      },
      "execution_count": null,
      "outputs": [
        {
          "output_type": "execute_result",
          "data": {
            "text/plain": [
              "True"
            ]
          },
          "metadata": {},
          "execution_count": 36
        }
      ]
    },
    {
      "cell_type": "code",
      "source": [
        "True or True"
      ],
      "metadata": {
        "colab": {
          "base_uri": "https://localhost:8080/"
        },
        "id": "dCr0nnUMmFET",
        "outputId": "1aaaef48-8ad9-495b-ff98-e4035deb4196"
      },
      "execution_count": null,
      "outputs": [
        {
          "output_type": "execute_result",
          "data": {
            "text/plain": [
              "True"
            ]
          },
          "metadata": {},
          "execution_count": 37
        }
      ]
    },
    {
      "cell_type": "code",
      "source": [
        "False or False"
      ],
      "metadata": {
        "colab": {
          "base_uri": "https://localhost:8080/"
        },
        "id": "JxWr8_rWonCS",
        "outputId": "095fb875-32fb-47e9-972a-2ea2d6bb494c"
      },
      "execution_count": null,
      "outputs": [
        {
          "output_type": "execute_result",
          "data": {
            "text/plain": [
              "False"
            ]
          },
          "metadata": {},
          "execution_count": 39
        }
      ]
    },
    {
      "cell_type": "code",
      "source": [
        "# Salario e idade \n",
        "sal = 2000\n",
        "idade = 18\n",
        "sal > 1000 and idade > 18"
      ],
      "metadata": {
        "colab": {
          "base_uri": "https://localhost:8080/"
        },
        "id": "bR0gl5O1ooap",
        "outputId": "38bf6242-ea41-4f5e-901c-99221c8c4cd1"
      },
      "execution_count": null,
      "outputs": [
        {
          "output_type": "execute_result",
          "data": {
            "text/plain": [
              "False"
            ]
          },
          "metadata": {},
          "execution_count": 40
        }
      ]
    },
    {
      "cell_type": "code",
      "source": [
        "sal = 2000\n",
        "idade = 52\n",
        "sal > 1000 and idade > 18"
      ],
      "metadata": {
        "colab": {
          "base_uri": "https://localhost:8080/"
        },
        "id": "JmXXclnapkQC",
        "outputId": "b8eac7d9-48c6-4e24-8aa3-4bb8c6d70540"
      },
      "execution_count": null,
      "outputs": [
        {
          "output_type": "execute_result",
          "data": {
            "text/plain": [
              "True"
            ]
          },
          "metadata": {},
          "execution_count": 45
        }
      ]
    },
    {
      "cell_type": "code",
      "source": [
        "a = True\n",
        "b = int (a)\n",
        "print(b)"
      ],
      "metadata": {
        "colab": {
          "base_uri": "https://localhost:8080/"
        },
        "id": "-l3Kh6ElprOS",
        "outputId": "e34f9c3a-da25-4091-ba66-74ead1c3e6f0"
      },
      "execution_count": null,
      "outputs": [
        {
          "output_type": "stream",
          "name": "stdout",
          "text": [
            "1\n"
          ]
        }
      ]
    },
    {
      "cell_type": "code",
      "source": [
        "a = False\n",
        "b = int (a)\n",
        "print(b)"
      ],
      "metadata": {
        "colab": {
          "base_uri": "https://localhost:8080/"
        },
        "id": "UCG_oPo8qCFz",
        "outputId": "2a162fa4-53d4-47f5-a5d9-37e27a1eb739"
      },
      "execution_count": null,
      "outputs": [
        {
          "output_type": "stream",
          "name": "stdout",
          "text": [
            "0\n"
          ]
        }
      ]
    },
    {
      "cell_type": "markdown",
      "source": [
        "## Variaveis String"
      ],
      "metadata": {
        "id": "8jyoJrL-qTtj"
      }
    },
    {
      "cell_type": "code",
      "source": [
        "len(\"A\") #Conta a quantidade de caracteres tem na String"
      ],
      "metadata": {
        "colab": {
          "base_uri": "https://localhost:8080/"
        },
        "id": "RphaCxrZqWUx",
        "outputId": "5dddbc90-fc8b-4ae2-d248-f5f5f0f144f7"
      },
      "execution_count": null,
      "outputs": [
        {
          "output_type": "execute_result",
          "data": {
            "text/plain": [
              "1"
            ]
          },
          "metadata": {},
          "execution_count": 51
        }
      ]
    },
    {
      "cell_type": "code",
      "source": [
        "len('O rato roeu a roupa')"
      ],
      "metadata": {
        "colab": {
          "base_uri": "https://localhost:8080/"
        },
        "id": "yLwucKMRqXBz",
        "outputId": "f5ee87e4-3477-45a4-ca17-b9525468dc5f"
      },
      "execution_count": null,
      "outputs": [
        {
          "output_type": "execute_result",
          "data": {
            "text/plain": [
              "19"
            ]
          },
          "metadata": {},
          "execution_count": 52
        }
      ]
    },
    {
      "cell_type": "code",
      "source": [
        "a =\"ABCDEF\""
      ],
      "metadata": {
        "id": "5dsxhmx1qm3i"
      },
      "execution_count": null,
      "outputs": []
    },
    {
      "cell_type": "code",
      "source": [
        "len(a)"
      ],
      "metadata": {
        "colab": {
          "base_uri": "https://localhost:8080/"
        },
        "id": "HXSxLeVxqsxS",
        "outputId": "93f8d710-ef73-4a04-f72e-241ff3390e3f"
      },
      "execution_count": null,
      "outputs": [
        {
          "output_type": "execute_result",
          "data": {
            "text/plain": [
              "6"
            ]
          },
          "metadata": {},
          "execution_count": 54
        }
      ]
    },
    {
      "cell_type": "code",
      "source": [
        "a[0]"
      ],
      "metadata": {
        "colab": {
          "base_uri": "https://localhost:8080/",
          "height": 35
        },
        "id": "fvAg-NVyqxeC",
        "outputId": "927e7684-28cd-400e-924a-a02260bd43ba"
      },
      "execution_count": null,
      "outputs": [
        {
          "output_type": "execute_result",
          "data": {
            "text/plain": [
              "'A'"
            ],
            "application/vnd.google.colaboratory.intrinsic+json": {
              "type": "string"
            }
          },
          "metadata": {},
          "execution_count": 55
        }
      ]
    },
    {
      "cell_type": "code",
      "source": [
        "a[1]"
      ],
      "metadata": {
        "colab": {
          "base_uri": "https://localhost:8080/",
          "height": 35
        },
        "id": "Zt4G0Cd7q40B",
        "outputId": "88bab5c1-8ffa-4a74-e599-b511584b649d"
      },
      "execution_count": null,
      "outputs": [
        {
          "output_type": "execute_result",
          "data": {
            "text/plain": [
              "'B'"
            ],
            "application/vnd.google.colaboratory.intrinsic+json": {
              "type": "string"
            }
          },
          "metadata": {},
          "execution_count": 56
        }
      ]
    },
    {
      "cell_type": "code",
      "source": [
        "a[2]"
      ],
      "metadata": {
        "colab": {
          "base_uri": "https://localhost:8080/",
          "height": 35
        },
        "id": "SQxDm7Hhq99y",
        "outputId": "31566730-9bb1-470e-fee2-48bb158e8bde"
      },
      "execution_count": null,
      "outputs": [
        {
          "output_type": "execute_result",
          "data": {
            "text/plain": [
              "'C'"
            ],
            "application/vnd.google.colaboratory.intrinsic+json": {
              "type": "string"
            }
          },
          "metadata": {},
          "execution_count": 57
        }
      ]
    },
    {
      "cell_type": "code",
      "source": [
        "a[3]"
      ],
      "metadata": {
        "colab": {
          "base_uri": "https://localhost:8080/",
          "height": 35
        },
        "id": "mcCF8pthq_7C",
        "outputId": "f2ec65c4-0d4c-406a-eb2f-e6c98c7fe476"
      },
      "execution_count": null,
      "outputs": [
        {
          "output_type": "execute_result",
          "data": {
            "text/plain": [
              "'D'"
            ],
            "application/vnd.google.colaboratory.intrinsic+json": {
              "type": "string"
            }
          },
          "metadata": {},
          "execution_count": 58
        }
      ]
    },
    {
      "cell_type": "code",
      "source": [
        "a[4]"
      ],
      "metadata": {
        "colab": {
          "base_uri": "https://localhost:8080/",
          "height": 35
        },
        "id": "lkF7Zyl3rCKi",
        "outputId": "8a42129d-ae97-4ae7-de42-6df696de2b16"
      },
      "execution_count": null,
      "outputs": [
        {
          "output_type": "execute_result",
          "data": {
            "text/plain": [
              "'E'"
            ],
            "application/vnd.google.colaboratory.intrinsic+json": {
              "type": "string"
            }
          },
          "metadata": {},
          "execution_count": 59
        }
      ]
    },
    {
      "cell_type": "code",
      "source": [
        "a[5]"
      ],
      "metadata": {
        "colab": {
          "base_uri": "https://localhost:8080/",
          "height": 35
        },
        "id": "gzVjPWfUrEPi",
        "outputId": "43aa2d42-d6bc-43f5-bc18-4bf4db7d3602"
      },
      "execution_count": null,
      "outputs": [
        {
          "output_type": "execute_result",
          "data": {
            "text/plain": [
              "'F'"
            ],
            "application/vnd.google.colaboratory.intrinsic+json": {
              "type": "string"
            }
          },
          "metadata": {},
          "execution_count": 60
        }
      ]
    },
    {
      "cell_type": "code",
      "source": [
        "a[6] #erro pois o valor esta fora "
      ],
      "metadata": {
        "colab": {
          "base_uri": "https://localhost:8080/",
          "height": 165
        },
        "id": "TPSWpwfYrF2B",
        "outputId": "f88d85fd-9f75-4b70-ea9e-27cadd32b8cd"
      },
      "execution_count": null,
      "outputs": [
        {
          "output_type": "error",
          "ename": "IndexError",
          "evalue": "ignored",
          "traceback": [
            "\u001b[0;31m---------------------------------------------------------------------------\u001b[0m",
            "\u001b[0;31mIndexError\u001b[0m                                Traceback (most recent call last)",
            "\u001b[0;32m<ipython-input-61-84c1e027215d>\u001b[0m in \u001b[0;36m<cell line: 1>\u001b[0;34m()\u001b[0m\n\u001b[0;32m----> 1\u001b[0;31m \u001b[0ma\u001b[0m\u001b[0;34m[\u001b[0m\u001b[0;36m6\u001b[0m\u001b[0;34m]\u001b[0m\u001b[0;34m\u001b[0m\u001b[0;34m\u001b[0m\u001b[0m\n\u001b[0m",
            "\u001b[0;31mIndexError\u001b[0m: string index out of range"
          ]
        }
      ]
    },
    {
      "cell_type": "code",
      "source": [
        "a, b =7, 4\n",
        "print(a)\n",
        "print (b)"
      ],
      "metadata": {
        "colab": {
          "base_uri": "https://localhost:8080/"
        },
        "id": "WBMqg5tcrQLS",
        "outputId": "cfa34034-1ad9-4d3f-ac15-c3855fd63029"
      },
      "execution_count": null,
      "outputs": [
        {
          "output_type": "stream",
          "name": "stdout",
          "text": [
            "7\n",
            "4\n"
          ]
        }
      ]
    },
    {
      "cell_type": "code",
      "source": [
        "a, b =7, 4\n",
        "print(a, b)"
      ],
      "metadata": {
        "colab": {
          "base_uri": "https://localhost:8080/"
        },
        "id": "peQo_KsAsoji",
        "outputId": "24903c56-8127-485b-8429-86878a2cffae"
      },
      "execution_count": null,
      "outputs": [
        {
          "output_type": "stream",
          "name": "stdout",
          "text": [
            "7 4\n"
          ]
        }
      ]
    },
    {
      "cell_type": "code",
      "source": [
        "a =\"ABCDEF\"\n",
        "a[-1]"
      ],
      "metadata": {
        "colab": {
          "base_uri": "https://localhost:8080/",
          "height": 35
        },
        "id": "thuGZ5Eas3aR",
        "outputId": "a8a06b2d-8324-4c5e-d0b6-76adb3f5076b"
      },
      "execution_count": null,
      "outputs": [
        {
          "output_type": "execute_result",
          "data": {
            "text/plain": [
              "'F'"
            ],
            "application/vnd.google.colaboratory.intrinsic+json": {
              "type": "string"
            }
          },
          "metadata": {},
          "execution_count": 65
        }
      ]
    },
    {
      "cell_type": "code",
      "source": [
        "a[-2]"
      ],
      "metadata": {
        "colab": {
          "base_uri": "https://localhost:8080/",
          "height": 35
        },
        "id": "QYECs1v3tFJy",
        "outputId": "193ed219-9339-4b6d-d27f-9f950b7d11a7"
      },
      "execution_count": null,
      "outputs": [
        {
          "output_type": "execute_result",
          "data": {
            "text/plain": [
              "'E'"
            ],
            "application/vnd.google.colaboratory.intrinsic+json": {
              "type": "string"
            }
          },
          "metadata": {},
          "execution_count": 66
        }
      ]
    },
    {
      "cell_type": "code",
      "source": [
        "a[-6]"
      ],
      "metadata": {
        "colab": {
          "base_uri": "https://localhost:8080/",
          "height": 35
        },
        "id": "Ej6PZJdftJwy",
        "outputId": "6da7ab3a-8af5-459f-9ac8-e5303e36c7a0"
      },
      "execution_count": null,
      "outputs": [
        {
          "output_type": "execute_result",
          "data": {
            "text/plain": [
              "'A'"
            ],
            "application/vnd.google.colaboratory.intrinsic+json": {
              "type": "string"
            }
          },
          "metadata": {},
          "execution_count": 67
        }
      ]
    },
    {
      "cell_type": "code",
      "source": [
        "a[:] # \":\" significa todos os valores"
      ],
      "metadata": {
        "colab": {
          "base_uri": "https://localhost:8080/",
          "height": 35
        },
        "id": "Fkyi1O41tOQS",
        "outputId": "846ac289-e715-4528-a335-0609c228ef56"
      },
      "execution_count": null,
      "outputs": [
        {
          "output_type": "execute_result",
          "data": {
            "text/plain": [
              "'ABCDEF'"
            ],
            "application/vnd.google.colaboratory.intrinsic+json": {
              "type": "string"
            }
          },
          "metadata": {},
          "execution_count": 68
        }
      ]
    },
    {
      "cell_type": "code",
      "source": [
        "a[0:6]"
      ],
      "metadata": {
        "colab": {
          "base_uri": "https://localhost:8080/",
          "height": 35
        },
        "id": "iZvr8UIltRuB",
        "outputId": "20f905a4-efe6-470e-a7ed-c1af2b0a3507"
      },
      "execution_count": null,
      "outputs": [
        {
          "output_type": "execute_result",
          "data": {
            "text/plain": [
              "'ABCDEF'"
            ],
            "application/vnd.google.colaboratory.intrinsic+json": {
              "type": "string"
            }
          },
          "metadata": {},
          "execution_count": 69
        }
      ]
    },
    {
      "cell_type": "code",
      "source": [
        "a[0:]"
      ],
      "metadata": {
        "colab": {
          "base_uri": "https://localhost:8080/",
          "height": 35
        },
        "id": "Yi7RTZOetaaR",
        "outputId": "a6f43e3a-3311-4723-804d-7b0990337764"
      },
      "execution_count": null,
      "outputs": [
        {
          "output_type": "execute_result",
          "data": {
            "text/plain": [
              "'ABCDEF'"
            ],
            "application/vnd.google.colaboratory.intrinsic+json": {
              "type": "string"
            }
          },
          "metadata": {},
          "execution_count": 70
        }
      ]
    },
    {
      "cell_type": "code",
      "source": [
        "a[0:3]"
      ],
      "metadata": {
        "colab": {
          "base_uri": "https://localhost:8080/",
          "height": 35
        },
        "id": "p77r-EDKuvXT",
        "outputId": "16584ac7-079b-483e-f359-5be3b3e65a34"
      },
      "execution_count": null,
      "outputs": [
        {
          "output_type": "execute_result",
          "data": {
            "text/plain": [
              "'ABC'"
            ],
            "application/vnd.google.colaboratory.intrinsic+json": {
              "type": "string"
            }
          },
          "metadata": {},
          "execution_count": 71
        }
      ]
    },
    {
      "cell_type": "code",
      "source": [
        "a[2:6]"
      ],
      "metadata": {
        "colab": {
          "base_uri": "https://localhost:8080/",
          "height": 35
        },
        "id": "gNZXIwVmuxLR",
        "outputId": "22321085-b26c-4fb0-a0fe-1ddf24480d7e"
      },
      "execution_count": null,
      "outputs": [
        {
          "output_type": "execute_result",
          "data": {
            "text/plain": [
              "'CDEF'"
            ],
            "application/vnd.google.colaboratory.intrinsic+json": {
              "type": "string"
            }
          },
          "metadata": {},
          "execution_count": 72
        }
      ]
    },
    {
      "cell_type": "code",
      "source": [
        "a[-5:-1]"
      ],
      "metadata": {
        "colab": {
          "base_uri": "https://localhost:8080/",
          "height": 35
        },
        "id": "gHRRxzwru0eB",
        "outputId": "613dba94-fa8e-45a3-8acb-a1c8e4975fa9"
      },
      "execution_count": null,
      "outputs": [
        {
          "output_type": "execute_result",
          "data": {
            "text/plain": [
              "'BCDE'"
            ],
            "application/vnd.google.colaboratory.intrinsic+json": {
              "type": "string"
            }
          },
          "metadata": {},
          "execution_count": 73
        }
      ]
    },
    {
      "cell_type": "code",
      "source": [
        "a[-5:4]"
      ],
      "metadata": {
        "colab": {
          "base_uri": "https://localhost:8080/",
          "height": 35
        },
        "id": "kvyqAVu-u6zR",
        "outputId": "d51eb61c-13f9-46d8-b146-235ef34d62e9"
      },
      "execution_count": null,
      "outputs": [
        {
          "output_type": "execute_result",
          "data": {
            "text/plain": [
              "'BCD'"
            ],
            "application/vnd.google.colaboratory.intrinsic+json": {
              "type": "string"
            }
          },
          "metadata": {},
          "execution_count": 74
        }
      ]
    },
    {
      "cell_type": "markdown",
      "source": [
        "##Concatenação"
      ],
      "metadata": {
        "id": "h7PpKw9MvSFS"
      }
    },
    {
      "cell_type": "code",
      "source": [
        "s = \"ABC\"\n",
        "s + \"C\""
      ],
      "metadata": {
        "colab": {
          "base_uri": "https://localhost:8080/",
          "height": 35
        },
        "id": "h7OWdMo3vTvR",
        "outputId": "4cf5fc8e-4c1c-484f-e056-ce92086f88f7"
      },
      "execution_count": null,
      "outputs": [
        {
          "output_type": "execute_result",
          "data": {
            "text/plain": [
              "'ABCC'"
            ],
            "application/vnd.google.colaboratory.intrinsic+json": {
              "type": "string"
            }
          },
          "metadata": {},
          "execution_count": 75
        }
      ]
    },
    {
      "cell_type": "code",
      "source": [
        "s + \"D\"*4"
      ],
      "metadata": {
        "colab": {
          "base_uri": "https://localhost:8080/",
          "height": 35
        },
        "id": "Tmy8SuICvUUJ",
        "outputId": "6d6a61a0-0a81-44d6-9cf7-3a5d15a1c9b6"
      },
      "execution_count": null,
      "outputs": [
        {
          "output_type": "execute_result",
          "data": {
            "text/plain": [
              "'ABCDDDD'"
            ],
            "application/vnd.google.colaboratory.intrinsic+json": {
              "type": "string"
            }
          },
          "metadata": {},
          "execution_count": 76
        }
      ]
    },
    {
      "cell_type": "code",
      "source": [
        "\"X\" + \"-\"*10 + \"X\""
      ],
      "metadata": {
        "colab": {
          "base_uri": "https://localhost:8080/",
          "height": 35
        },
        "id": "yfQRBH-SvjuA",
        "outputId": "833c81a9-02b6-4276-b43a-86ff59c87cd5"
      },
      "execution_count": null,
      "outputs": [
        {
          "output_type": "execute_result",
          "data": {
            "text/plain": [
              "'X----------X'"
            ],
            "application/vnd.google.colaboratory.intrinsic+json": {
              "type": "string"
            }
          },
          "metadata": {},
          "execution_count": 77
        }
      ]
    },
    {
      "cell_type": "code",
      "source": [
        "50*\"_\""
      ],
      "metadata": {
        "colab": {
          "base_uri": "https://localhost:8080/",
          "height": 35
        },
        "id": "XixN2kJxv9Ex",
        "outputId": "12f05d17-2b32-481c-f610-3c47231c353e"
      },
      "execution_count": null,
      "outputs": [
        {
          "output_type": "execute_result",
          "data": {
            "text/plain": [
              "'__________________________________________________'"
            ],
            "application/vnd.google.colaboratory.intrinsic+json": {
              "type": "string"
            }
          },
          "metadata": {},
          "execution_count": 78
        }
      ]
    },
    {
      "cell_type": "code",
      "source": [
        "nome = \"Natalia\"\n",
        "idade= 25\n",
        "print(f'Meu nome é {nome} e minha idade é {idade} anos')"
      ],
      "metadata": {
        "colab": {
          "base_uri": "https://localhost:8080/"
        },
        "id": "AgwdUDQswAph",
        "outputId": "28e23454-be0b-4cb2-ed2c-2c93eb6cb8c5"
      },
      "execution_count": null,
      "outputs": [
        {
          "output_type": "stream",
          "name": "stdout",
          "text": [
            "Meu nome é Natalia e minha idade é 25 anos\n"
          ]
        }
      ]
    },
    {
      "cell_type": "code",
      "source": [
        "idade = 39\n",
        "\"João tem %d anos\" %idade"
      ],
      "metadata": {
        "colab": {
          "base_uri": "https://localhost:8080/",
          "height": 35
        },
        "id": "f5Z7K_9bwh6h",
        "outputId": "1f7d1c54-f142-4f6b-b7e0-a066bb711d19"
      },
      "execution_count": null,
      "outputs": [
        {
          "output_type": "execute_result",
          "data": {
            "text/plain": [
              "'João tem 39 anos'"
            ],
            "application/vnd.google.colaboratory.intrinsic+json": {
              "type": "string"
            }
          },
          "metadata": {},
          "execution_count": 80
        }
      ]
    },
    {
      "cell_type": "code",
      "source": [
        "\"João tem %f anos\" %idade"
      ],
      "metadata": {
        "colab": {
          "base_uri": "https://localhost:8080/",
          "height": 35
        },
        "id": "VkK2Paexwr_W",
        "outputId": "adeaff4e-ebb9-49bd-e037-8a8ee91abb7c"
      },
      "execution_count": null,
      "outputs": [
        {
          "output_type": "execute_result",
          "data": {
            "text/plain": [
              "'João tem 39.000000 anos'"
            ],
            "application/vnd.google.colaboratory.intrinsic+json": {
              "type": "string"
            }
          },
          "metadata": {},
          "execution_count": 81
        }
      ]
    },
    {
      "cell_type": "code",
      "source": [
        "\"João tem %2.2f anos\" %idade"
      ],
      "metadata": {
        "colab": {
          "base_uri": "https://localhost:8080/",
          "height": 35
        },
        "id": "4BQGr7REwzaQ",
        "outputId": "edd9a7b2-746b-4bc8-e0b5-5742a984466e"
      },
      "execution_count": null,
      "outputs": [
        {
          "output_type": "execute_result",
          "data": {
            "text/plain": [
              "'João tem 39.00 anos'"
            ],
            "application/vnd.google.colaboratory.intrinsic+json": {
              "type": "string"
            }
          },
          "metadata": {},
          "execution_count": 82
        }
      ]
    },
    {
      "cell_type": "markdown",
      "source": [
        "## Entrada de Dados"
      ],
      "metadata": {
        "id": "MLPyIcUzxnHQ"
      }
    },
    {
      "cell_type": "code",
      "source": [
        "nome = input(\"Qual é o seu nome?\")\n",
        "print(\"Olá + nome\")"
      ],
      "metadata": {
        "colab": {
          "base_uri": "https://localhost:8080/"
        },
        "id": "RSjyHG50xqVx",
        "outputId": "9b0260a3-9d02-488a-ee02-9c55567f17a6"
      },
      "execution_count": 30,
      "outputs": [
        {
          "output_type": "stream",
          "name": "stdout",
          "text": [
            "Qual é o seu nome?Natalia\n",
            "Olá + nome\n"
          ]
        }
      ]
    },
    {
      "cell_type": "code",
      "source": [
        "x = input(\"Digite um número: \")\n",
        "print(x)"
      ],
      "metadata": {
        "colab": {
          "base_uri": "https://localhost:8080/"
        },
        "id": "DvpvWEKIx1Cj",
        "outputId": "7add7136-15c7-4d63-cef5-4179bb129d92"
      },
      "execution_count": 31,
      "outputs": [
        {
          "output_type": "stream",
          "name": "stdout",
          "text": [
            "Digite um número: 2\n",
            "2\n"
          ]
        }
      ]
    },
    {
      "cell_type": "code",
      "source": [
        "#calcular bonificação com variavel anos e valor por ano\n",
        "anos = int(input(\"Digite o número de anos de trabalho: \"))\n",
        "valor_por_ano = float(input(\"Digite o valor: \"))\n",
        "bonus = valor_por_ano * anos\n",
        "print(f'O valor da bonificação sera de {bonus}')"
      ],
      "metadata": {
        "colab": {
          "base_uri": "https://localhost:8080/"
        },
        "id": "AaC8Nx6AyAH7",
        "outputId": "2070a207-62ac-49ff-a86e-7a3796a14efa"
      },
      "execution_count": 32,
      "outputs": [
        {
          "output_type": "stream",
          "name": "stdout",
          "text": [
            "Digite o número de anos de trabalho: 10\n",
            "Digite o valor: 2.000\n",
            "O valor da bonificação sera de 20.0\n"
          ]
        }
      ]
    },
    {
      "cell_type": "markdown",
      "source": [
        "##Exercício tarefa para 10/05/2023"
      ],
      "metadata": {
        "id": "_bHL2b4I0k9q"
      }
    },
    {
      "cell_type": "code",
      "source": [
        "# Passar Celsius para Farenheit  #Valor inteiro\n",
        "c = int(input(\"Temperatura em Celsius (c): \"))\n",
        "f = 9*c/5+32\n",
        "print(\"%.f graus celsius equivalem a %.f graus Farenheit\" %(c,f))"
      ],
      "metadata": {
        "id": "xbnZiOXx0rBg",
        "colab": {
          "base_uri": "https://localhost:8080/"
        },
        "outputId": "cfa66457-0bc7-48a9-fa9a-6f206ea78d24"
      },
      "execution_count": null,
      "outputs": [
        {
          "output_type": "stream",
          "name": "stdout",
          "text": [
            "Temperatura em Celsius (c): 25\n",
            "25 graus celsius equivalem a 77 graus Farenheit\n"
          ]
        }
      ]
    },
    {
      "cell_type": "code",
      "source": [
        "# Passar Celsius para Farenheit  #Valor quebrado\n",
        "c = float(input(\"Temperatura em Celsius (c): \"))\n",
        "f = 9*c/5+32\n",
        "print(\"%.2f graus celsius equivalem a %.2f graus Farenheit\" %(c,f))"
      ],
      "metadata": {
        "colab": {
          "base_uri": "https://localhost:8080/"
        },
        "id": "oJ1n0d2k4q3U",
        "outputId": "9d06a5c0-dd97-46a3-c9f2-e18ded39a730"
      },
      "execution_count": null,
      "outputs": [
        {
          "output_type": "stream",
          "name": "stdout",
          "text": [
            "Temperatura em Celsius (c): 25.8\n",
            "25.80 graus celsius equivalem a 78.44 graus Farenheit\n"
          ]
        }
      ]
    },
    {
      "cell_type": "markdown",
      "source": [
        "## Calcule o IMC"
      ],
      "metadata": {
        "id": "2d1jnZACwERb"
      }
    },
    {
      "cell_type": "code",
      "source": [
        "massa = float(input(\"Qual é seu peso?(massa): \"))\n",
        "h = float(input(\"Qual sua altura?(h): \"))\n",
        "imc = massa/h**2\n",
        "print(\"seu imc e de %.2f\"%(imc))"
      ],
      "metadata": {
        "colab": {
          "base_uri": "https://localhost:8080/"
        },
        "id": "Xrktc-YzwITf",
        "outputId": "06b1487a-340b-41bb-fb11-d74da5b21ec3"
      },
      "execution_count": 2,
      "outputs": [
        {
          "output_type": "stream",
          "name": "stdout",
          "text": [
            "Qual é seu peso?(massa): 50\n",
            "Qual sua altura?(h): 1.55\n",
            "seu imc e de 20.81\n"
          ]
        }
      ]
    },
    {
      "cell_type": "markdown",
      "source": [
        "## Arredondando"
      ],
      "metadata": {
        "id": "bkDMbzBgxf7j"
      }
    },
    {
      "cell_type": "code",
      "source": [
        "# se for arredondar o exercicio anterior\n",
        "round(imc, 2)\n"
      ],
      "metadata": {
        "colab": {
          "base_uri": "https://localhost:8080/"
        },
        "id": "PBz5VUN2xjLL",
        "outputId": "0daf43a8-5a6d-4a30-fc4e-e1de5df4e6db"
      },
      "execution_count": 5,
      "outputs": [
        {
          "output_type": "execute_result",
          "data": {
            "text/plain": [
              "20.81"
            ]
          },
          "metadata": {},
          "execution_count": 5
        }
      ]
    },
    {
      "cell_type": "code",
      "source": [
        "# que acontece quando voce faz:\n",
        "print(\"seu imc e de %.2f\"%(imc))"
      ],
      "metadata": {
        "colab": {
          "base_uri": "https://localhost:8080/"
        },
        "id": "mfnpyunFxzgo",
        "outputId": "7fe1e44e-01f1-4bbd-cdd6-86069450eca5"
      },
      "execution_count": 6,
      "outputs": [
        {
          "output_type": "stream",
          "name": "stdout",
          "text": [
            "seu imc e de 20.81\n"
          ]
        }
      ]
    },
    {
      "cell_type": "markdown",
      "source": [
        "# IF"
      ],
      "metadata": {
        "id": "LCjAal8jyoWp"
      }
    },
    {
      "cell_type": "code",
      "source": [
        "# Exemplo do uso de if\n",
        "a = int(input(\"Entre com o numero: \"))\n",
        "b = int(input(\"Entre com o segundo numero: \"))\n",
        "if a > b:\n",
        "  print(\"O primeiro valor é maior\")\n",
        "if b > a:\n",
        "  print(\"O segundo valor é maior\")"
      ],
      "metadata": {
        "colab": {
          "base_uri": "https://localhost:8080/"
        },
        "id": "eNGY6KeryqCY",
        "outputId": "78357b0f-2079-4b78-f98b-ec41686b7655"
      },
      "execution_count": 7,
      "outputs": [
        {
          "output_type": "stream",
          "name": "stdout",
          "text": [
            "Entre com o numero: 10\n",
            "Entre com o segundo numero: 2\n",
            "O primeiro valor é maior\n"
          ]
        }
      ]
    },
    {
      "cell_type": "code",
      "source": [
        "a = int(input(\"Entre com o numero: \"))\n",
        "b = int(input(\"Entre com o segundo numero: \"))\n",
        "if a > b:\n",
        "  print(\"O primeiro valor é maior\")\n",
        "if b > a:\n",
        "  print(\"O segundo valor é maior\")"
      ],
      "metadata": {
        "colab": {
          "base_uri": "https://localhost:8080/"
        },
        "id": "84zl4anVzazE",
        "outputId": "efc4dcb5-a4fa-4012-ec58-79ab049d964a"
      },
      "execution_count": 8,
      "outputs": [
        {
          "output_type": "stream",
          "name": "stdout",
          "text": [
            "Entre com o numero: 3\n",
            "Entre com o segundo numero: 10\n",
            "O segundo valor é maior\n"
          ]
        }
      ]
    },
    {
      "cell_type": "code",
      "source": [
        "# Usando else"
      ],
      "metadata": {
        "id": "XXAO7tlvz-W5"
      },
      "execution_count": null,
      "outputs": []
    },
    {
      "cell_type": "code",
      "source": [
        "a = int(input(\"Entre com o numero: \"))\n",
        "b = int(input(\"Entre com o segundo numero: \"))\n",
        "if a > b:\n",
        "  print(\"O primeiro valor é maior\")\n",
        "else:\n",
        "  print(\"O segundo valor é maior\")"
      ],
      "metadata": {
        "colab": {
          "base_uri": "https://localhost:8080/"
        },
        "id": "8vElgUP4zlyO",
        "outputId": "126fa3bc-18f6-4196-cdf4-d42b5fb609ce"
      },
      "execution_count": 9,
      "outputs": [
        {
          "output_type": "stream",
          "name": "stdout",
          "text": [
            "Entre com o numero: 10\n",
            "Entre com o segundo numero: 2\n",
            "O primeiro valor é maior\n"
          ]
        }
      ]
    },
    {
      "cell_type": "markdown",
      "source": [
        "## Par / Impar"
      ],
      "metadata": {
        "id": "okPmMF3a10st"
      }
    },
    {
      "cell_type": "markdown",
      "source": [
        "# Errado"
      ],
      "metadata": {
        "id": "4Ji4KPWq16BB"
      }
    },
    {
      "cell_type": "code",
      "source": [
        "\"\"\"\n",
        "a = int(input(\"Entre com o numero: \"))\n",
        "if a/2 == 0:\n",
        "  print(\"O numero é par\")\n",
        "else:\n",
        "  print(\"O valor é impar\")"
      ],
      "metadata": {
        "colab": {
          "base_uri": "https://localhost:8080/",
          "height": 130
        },
        "id": "vpF4cVZ30OSn",
        "outputId": "0278b68a-01d7-4f37-cc88-85adeb115b13"
      },
      "execution_count": 35,
      "outputs": [
        {
          "output_type": "error",
          "ename": "SyntaxError",
          "evalue": "ignored",
          "traceback": [
            "\u001b[0;36m  File \u001b[0;32m\"<ipython-input-35-5d4b04f14f87>\"\u001b[0;36m, line \u001b[0;32m1\u001b[0m\n\u001b[0;31m    \"\"\"\u001b[0m\n\u001b[0m    ^\u001b[0m\n\u001b[0;31mSyntaxError\u001b[0m\u001b[0;31m:\u001b[0m incomplete input\n"
          ]
        }
      ]
    },
    {
      "cell_type": "code",
      "source": [
        "a = int(input(\"Entre com o numero: \"))\n",
        "if a/2 == 0:\n",
        "  print(\"O numero é par\")\n",
        "else:\n",
        "  print(\"O valor é impar\")"
      ],
      "metadata": {
        "colab": {
          "base_uri": "https://localhost:8080/"
        },
        "id": "z-Sf0fNP08mE",
        "outputId": "bb01798e-3a65-4525-b4b2-926d0cf2b1a6"
      },
      "execution_count": 36,
      "outputs": [
        {
          "output_type": "stream",
          "name": "stdout",
          "text": [
            "Entre com o numero: 10\n",
            "O valor é impar\n"
          ]
        }
      ]
    },
    {
      "cell_type": "code",
      "source": [
        "# Certo\n",
        "a = int(input(\"Entre com o numero: \"))\n",
        "\n",
        "if a % 2 == 0:\n",
        "  print(\"O numero é par\")\n",
        "else:\n",
        "  print(\"O valor é impar\")"
      ],
      "metadata": {
        "colab": {
          "base_uri": "https://localhost:8080/"
        },
        "id": "pgvQ0eQo1U5U",
        "outputId": "9e7af0e6-934c-4f91-8af2-3e914be4edfd"
      },
      "execution_count": 37,
      "outputs": [
        {
          "output_type": "stream",
          "name": "stdout",
          "text": [
            "Entre com o numero: 9\n",
            "O valor é impar\n"
          ]
        }
      ]
    },
    {
      "cell_type": "markdown",
      "source": [
        "## Par / impar e IMC\n"
      ],
      "metadata": {
        "id": "aCBriOUQ-aF6"
      }
    },
    {
      "cell_type": "code",
      "source": [
        "a = int(input(\"Entre com o numero: \"))\n",
        "if a/2 == 0:\n",
        "  print(\"O numero é par\")\n",
        "else:\n",
        "  print(\"O valor é impar\")"
      ],
      "metadata": {
        "colab": {
          "base_uri": "https://localhost:8080/"
        },
        "id": "qbngRLHl2K_9",
        "outputId": "9e66f8a4-4ac2-4032-c5cc-97fb482a08be"
      },
      "execution_count": 38,
      "outputs": [
        {
          "output_type": "stream",
          "name": "stdout",
          "text": [
            "Entre com o numero: 5\n",
            "O valor é impar\n"
          ]
        }
      ]
    },
    {
      "cell_type": "code",
      "source": [
        "# imc: < 18 desnutricao / 18 a 25 normal / 25 a 35 sobrepeso / > 35 obesidade\n",
        "\n",
        "massa = float(input(\"Qual é seu peso?(kg): \"))\n",
        "h = float(input(\"Qual sua altura?(m): \"))\n",
        "imc = massa/h**2\n",
        "imc = round(imc, 2)\n",
        "print(\"seu imc e de %.2f\"%(imc))\n",
        "\n",
        "if imc <= 18:\n",
        "  print(\"Desnutrição\")\n",
        "elif imc > 18 and imc <= 25:\n",
        "  print(\"Normal\")\n",
        "elif imc > 25 and imc <= 35:\n",
        "  print(\"Sobrepeso\")\n",
        "else:\n",
        "  print(\"Obesidade\")\n",
        "\n"
      ],
      "metadata": {
        "colab": {
          "base_uri": "https://localhost:8080/"
        },
        "id": "RykCYkfP2P51",
        "outputId": "de095a7e-845a-4ba4-cf27-08762c2f56ae"
      },
      "execution_count": 39,
      "outputs": [
        {
          "output_type": "stream",
          "name": "stdout",
          "text": [
            "Qual é seu peso?(kg): 53\n",
            "Qual sua altura?(m): 1.55\n",
            "seu imc e de 22.06\n",
            "Normal\n"
          ]
        }
      ]
    },
    {
      "cell_type": "code",
      "source": [
        "\"\"\"\n",
        "Solução de raízes de uma equação de segundo grau\n",
        "y = ax**2 + bx + c\n",
        "Entrando com os valores de a, b, c o programa calcula as raízes\n",
        "\"\"\"\n",
        "a = float(input(\"Entre com o primeiro numero: \"))\n",
        "b = float(input(\"Entre com o segundo numero: \"))\n",
        "c = float(input(\"Entre com o terceiro numero: \"))\n",
        "\n",
        "# Calculo do delta\n",
        "delta = b**2 - 4*a*c\n",
        "print(\"Os valores das raízes %.f\"%(delta))\n",
        "\n",
        "if delta < 0:\n",
        "  print(\"esta equação não possui raízes reais\")\n",
        "elif Delta == 0:\n",
        "  raiz = -b / 2*a\n",
        "  print(\"O valor da equação é %.f\"%raiz)\n",
        "else:\n",
        "  raiz_1 = (-b - (delta**0.5))/(2*a)\n",
        "  raiz_2 = (-b + (delta**0.5))/(2*a)\n",
        "  print(f\"As raízes são {raiz_1} e {raiz_2}\")"
      ],
      "metadata": {
        "colab": {
          "base_uri": "https://localhost:8080/"
        },
        "id": "xGz8l9jb3lrw",
        "outputId": "05010ee7-0f83-4217-8942-30e1f1533bea"
      },
      "execution_count": 40,
      "outputs": [
        {
          "output_type": "stream",
          "name": "stdout",
          "text": [
            "Entre com o primeiro numero: 5\n",
            "Entre com o segundo numero: 8\n",
            "Entre com o terceiro numero: 11\n",
            "Os valores das raízes -156\n",
            "esta equação não possui raízes reais\n"
          ]
        }
      ]
    },
    {
      "cell_type": "code",
      "source": [
        "a = float(input(\"Entre com o primeiro numero: \"))\n",
        "b = float(input(\"Entre com o segundo numero: \"))\n",
        "c = float(input(\"Entre com o terceiro numero: \"))\n",
        "\n",
        "# Calculo do delta\n",
        "delta = b**2 - 4*a*c\n",
        "print(\"Os valores das raízes %.f\"%(delta))\n",
        "\n",
        "if delta < 0:\n",
        "  print(\"esta equação não possui raízes reais\")\n",
        "elif Delta == 0:\n",
        "  raiz = -b / 2*a\n",
        "  print(\"O valor da equação é %.f\"%raiz)\n",
        "else:\n",
        "  raiz_1 = (-b - (delta**0.5))/(2*a)\n",
        "  raiz_2 = (-b + (delta**0.5))/(2*a)\n",
        "  print(f\"As raízes são {raiz_1} e {raiz_2}\")\n"
      ],
      "metadata": {
        "colab": {
          "base_uri": "https://localhost:8080/"
        },
        "id": "533grXrc6oAt",
        "outputId": "504cf8af-ffaa-4a10-9845-2548aa9e1650"
      },
      "execution_count": 41,
      "outputs": [
        {
          "output_type": "stream",
          "name": "stdout",
          "text": [
            "Entre com o primeiro numero: 7\n",
            "Entre com o segundo numero: 25\n",
            "Entre com o terceiro numero: 50\n",
            "Os valores das raízes -775\n",
            "esta equação não possui raízes reais\n"
          ]
        }
      ]
    },
    {
      "cell_type": "markdown",
      "source": [
        "## Estruturas Aninhadas"
      ],
      "metadata": {
        "id": "Qq-37awr9xnv"
      }
    },
    {
      "cell_type": "code",
      "source": [
        "min = int(input(\"Quantos minutos voce utilizou esse mes: \"))\n",
        "if min < 200:\n",
        "  preco = 0.20\n",
        "else:\n",
        "  if min < 400:\n",
        "    preco = 0.18\n",
        "  else:\n",
        "    preco = 0.15\n",
        "\n",
        "print(f\"Voce vai pagar este mes : R$ {min*preco:6.2f}\")"
      ],
      "metadata": {
        "colab": {
          "base_uri": "https://localhost:8080/"
        },
        "id": "BUPPDNWk90xh",
        "outputId": "26a0f979-43f1-47a4-f5d8-33d47e1906eb"
      },
      "execution_count": 42,
      "outputs": [
        {
          "output_type": "stream",
          "name": "stdout",
          "text": [
            "Quantos minutos voce utilizou esse mes: 300\n",
            "Voce vai pagar este mes : R$  54.00\n"
          ]
        }
      ]
    },
    {
      "cell_type": "markdown",
      "source": [
        "## Biblioteca para Gráficos\n",
        "\n",
        "#Matplotilib"
      ],
      "metadata": {
        "id": "onle6nuQB-7b"
      }
    },
    {
      "cell_type": "markdown",
      "source": [
        "https://matplotlib.org/stable/plot_types/basic/index.html"
      ],
      "metadata": {
        "id": "yvK2kisaDFA8"
      }
    },
    {
      "cell_type": "code",
      "source": [
        "import matplotlib.pyplot as plt\n",
        "import numpy as np\n",
        "\n",
        "plt.style.use('_mpl-gallery')\n",
        "\n",
        "# make data\n",
        "x = np.linspace(0, 10, 100)\n",
        "y = 4 + 2 * np.sin(2 * x)\n",
        "\n",
        "# plot\n",
        "fig, ax = plt.subplots()\n",
        "\n",
        "ax.plot(x, y, linewidth=2.0)  #espessura da linha\n",
        "\n",
        "ax.set(xlim=(0, 8), xticks=np.arange(1, 8),    #intervalos\n",
        "       ylim=(0, 8), yticks=np.arange(1, 8))\n",
        "\n",
        "plt.show()"
      ],
      "metadata": {
        "colab": {
          "base_uri": "https://localhost:8080/",
          "height": 251
        },
        "id": "gZXsRNXQ_DMk",
        "outputId": "499901a2-3aa4-4e16-a2b5-d16bb56ccaf9"
      },
      "execution_count": 43,
      "outputs": [
        {
          "output_type": "display_data",
          "data": {
            "text/plain": [
              "<Figure size 200x200 with 1 Axes>"
            ],
            "image/png": "[encoded data removed]"
          },
          "metadata": {}
        }
      ]
    },
    {
      "cell_type": "markdown",
      "source": [
        "# Pandas Python"
      ],
      "metadata": {
        "id": "FdUt4ctZC9NT"
      }
    },
    {
      "cell_type": "markdown",
      "source": [
        "https://pandas.pydata.org/"
      ],
      "metadata": {
        "id": "Y8Ltl9SnDMgb"
      }
    },
    {
      "cell_type": "markdown",
      "source": [
        "#NumPY"
      ],
      "metadata": {
        "id": "pap5u4u5DUcK"
      }
    },
    {
      "cell_type": "markdown",
      "source": [
        "https://numpy.org/"
      ],
      "metadata": {
        "id": "lsXNlCBaDYUC"
      }
    },
    {
      "cell_type": "markdown",
      "source": [
        "##Tarefa para o final da disciplina / final de junho\n",
        "\n",
        "Achar biblioteca da nossa area para aplicar na tese"
      ],
      "metadata": {
        "id": "C34onQk7EV09"
      }
    },
    {
      "cell_type": "code",
      "source": [],
      "metadata": {
        "id": "vgtaLwP-E0QT"
      },
      "execution_count": null,
      "outputs": []
    }
  ]
}