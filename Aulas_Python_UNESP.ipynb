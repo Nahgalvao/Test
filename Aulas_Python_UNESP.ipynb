{
  "nbformat": 4,
  "nbformat_minor": 0,
  "metadata": {
    "colab": {
      "provenance": [],
      "collapsed_sections": [
        "f8RkuboI_MLI",
        "V63NPU7Z_clJ",
        "E-QUlOMUlnts",
        "8jyoJrL-qTtj",
        "h7PpKw9MvSFS",
        "MLPyIcUzxnHQ",
        "_bHL2b4I0k9q",
        "2d1jnZACwERb",
        "bkDMbzBgxf7j",
        "4Ji4KPWq16BB",
        "aCBriOUQ-aF6",
        "onle6nuQB-7b",
        "6btkxaRZjoBE",
        "jhO6B97HtlAj",
        "yHAOriX7vOLl",
        "drF1tfmtyjTs",
        "cVwkmU_vzm-S",
        "M6C-J0YZ3Oni",
        "jnKIfhH514H4",
        "Z87nh4tQ3avs",
        "eqYAE-vaEAMQ",
        "m_lG1qHwmdb0",
        "dB3Ka7h71xnu",
        "O9BBZcSS6kEX",
        "khxZWGSSCxh0",
        "y-4kWLDpGJ8R",
        "O-Fc6oKQIdY1"
      ],
      "authorship_tag": "ABX9TyNyjI+p92Rl9beyCnTvaW8Z",
      "include_colab_link": true
    },
    "kernelspec": {
      "name": "python3",
      "display_name": "Python 3"
    },
    "language_info": {
      "name": "python"
    }
  },
  "cells": [
    {
      "cell_type": "markdown",
      "metadata": {
        "id": "view-in-github",
        "colab_type": "text"
      },
      "source": [
        "<a href=\"https://colab.research.google.com/github/Nahgalvao/Test/blob/main/Aulas_Python_UNESP.ipynb\" target=\"_parent\"><img src=\"https://colab.research.google.com/assets/colab-badge.svg\" alt=\"Open In Colab\"/></a>"
      ]
    },
    {
      "cell_type": "markdown",
      "source": [
        "# Início da jornada"
      ],
      "metadata": {
        "id": "x9jFqbUA8hvH"
      }
    },
    {
      "cell_type": "markdown",
      "source": [
        "# Função Print"
      ],
      "metadata": {
        "id": "f8RkuboI_MLI"
      }
    },
    {
      "cell_type": "code",
      "source": [
        "print(\"Hello word\")"
      ],
      "metadata": {
        "colab": {
          "base_uri": "https://localhost:8080/"
        },
        "id": "Rg1Hhs718kwH",
        "outputId": "69ed3b14-9661-4028-ba6f-de685327e9ce"
      },
      "execution_count": null,
      "outputs": [
        {
          "output_type": "stream",
          "name": "stdout",
          "text": [
            "Hello word\n"
          ]
        }
      ]
    },
    {
      "cell_type": "code",
      "source": [
        "\n",
        "# Esse é o meu primeiro programa\n",
        "print (\"oi\") #para escrever palavras utilizar aspas duplas ou aspas simples"
      ],
      "metadata": {
        "colab": {
          "base_uri": "https://localhost:8080/"
        },
        "id": "3iIRqWD89MUm",
        "outputId": "bf4d1498-90a1-42c9-ace7-d630168c3ec3"
      },
      "execution_count": null,
      "outputs": [
        {
          "output_type": "stream",
          "name": "stdout",
          "text": [
            "oi\n"
          ]
        }
      ]
    },
    {
      "cell_type": "code",
      "source": [
        "# vamos tentar algo diferente\n",
        "a = \"olá \"\n",
        "b = \"Mundo\"\n",
        "print (a + b)"
      ],
      "metadata": {
        "colab": {
          "base_uri": "https://localhost:8080/"
        },
        "id": "XsNKn4bk-I2X",
        "outputId": "5a402490-5c4f-4adf-d0c9-272239b4a307"
      },
      "execution_count": null,
      "outputs": [
        {
          "output_type": "stream",
          "name": "stdout",
          "text": [
            "olá Mundo\n"
          ]
        }
      ]
    },
    {
      "cell_type": "markdown",
      "source": [
        "# Contas"
      ],
      "metadata": {
        "id": "V63NPU7Z_clJ"
      }
    },
    {
      "cell_type": "code",
      "source": [
        "# contas simples\n",
        "4 + 7"
      ],
      "metadata": {
        "colab": {
          "base_uri": "https://localhost:8080/"
        },
        "id": "eQF0Rcuj-zRX",
        "outputId": "59ed86f0-83f7-4753-a40a-b3736c8eb2b3"
      },
      "execution_count": null,
      "outputs": [
        {
          "output_type": "execute_result",
          "data": {
            "text/plain": [
              "11"
            ]
          },
          "metadata": {},
          "execution_count": 6
        }
      ]
    },
    {
      "cell_type": "code",
      "source": [
        "nome = \"Natália\"\n",
        "idade = 25\n",
        "print(f'Meu nome é {nome} e minha idade é {idade} anos')"
      ],
      "metadata": {
        "colab": {
          "base_uri": "https://localhost:8080/"
        },
        "id": "eVWUnpgB_ifP",
        "outputId": "11f8f180-c894-4a45-fda2-20fd36cf6fc4"
      },
      "execution_count": null,
      "outputs": [
        {
          "output_type": "stream",
          "name": "stdout",
          "text": [
            "Meu nome é Natália e minha idade é 25 anos\n"
          ]
        }
      ]
    },
    {
      "cell_type": "code",
      "source": [
        "# Subtração\n",
        "7 - 4"
      ],
      "metadata": {
        "id": "GQ8shPI2_8DI",
        "colab": {
          "base_uri": "https://localhost:8080/"
        },
        "outputId": "338e9c8c-a231-473e-884a-c5857eedd833"
      },
      "execution_count": null,
      "outputs": [
        {
          "output_type": "execute_result",
          "data": {
            "text/plain": [
              "3"
            ]
          },
          "metadata": {},
          "execution_count": 1
        }
      ]
    },
    {
      "cell_type": "code",
      "source": [
        "# Divisão    # float = flutuante (coloca casas decimais nos valores resultantes de divisões por exemplo)\n",
        "8 / 2"
      ],
      "metadata": {
        "colab": {
          "base_uri": "https://localhost:8080/"
        },
        "id": "sJHxivA3epHV",
        "outputId": "041b6a95-8da3-4016-b1bb-18cf660832cc"
      },
      "execution_count": null,
      "outputs": [
        {
          "output_type": "execute_result",
          "data": {
            "text/plain": [
              "4.0"
            ]
          },
          "metadata": {},
          "execution_count": 2
        }
      ]
    },
    {
      "cell_type": "code",
      "source": [
        "# Multiplicação\n",
        "11*7"
      ],
      "metadata": {
        "colab": {
          "base_uri": "https://localhost:8080/"
        },
        "id": "Pr-TaRQBexL0",
        "outputId": "b1858ebe-61ae-4de9-eb50-73c47849cfb7"
      },
      "execution_count": null,
      "outputs": [
        {
          "output_type": "execute_result",
          "data": {
            "text/plain": [
              "77"
            ]
          },
          "metadata": {},
          "execution_count": 3
        }
      ]
    },
    {
      "cell_type": "code",
      "source": [
        "# Exponenciação\n",
        "8**2"
      ],
      "metadata": {
        "colab": {
          "base_uri": "https://localhost:8080/"
        },
        "id": "GW8XLz7IfxDk",
        "outputId": "89d6a658-b17a-4ad1-96a8-7f27d5db779b"
      },
      "execution_count": null,
      "outputs": [
        {
          "output_type": "execute_result",
          "data": {
            "text/plain": [
              "64"
            ]
          },
          "metadata": {},
          "execution_count": 4
        }
      ]
    },
    {
      "cell_type": "code",
      "source": [
        "# Divisão mostrando apenas a parte inteira\n",
        "11 // 2"
      ],
      "metadata": {
        "colab": {
          "base_uri": "https://localhost:8080/"
        },
        "id": "ZdBxK-j2f1qj",
        "outputId": "df06b3da-2e13-47de-ba6b-4bf7e34ff32e"
      },
      "execution_count": null,
      "outputs": [
        {
          "output_type": "execute_result",
          "data": {
            "text/plain": [
              "5"
            ]
          },
          "metadata": {},
          "execution_count": 5
        }
      ]
    },
    {
      "cell_type": "code",
      "source": [
        "# Divisão mostrando resto\n",
        "11 % 2"
      ],
      "metadata": {
        "colab": {
          "base_uri": "https://localhost:8080/"
        },
        "id": "MqETSdpmgC6z",
        "outputId": "7beaf4a3-35d3-4904-e65f-8382ea761659"
      },
      "execution_count": null,
      "outputs": [
        {
          "output_type": "execute_result",
          "data": {
            "text/plain": [
              "1"
            ]
          },
          "metadata": {},
          "execution_count": 6
        }
      ]
    },
    {
      "cell_type": "code",
      "source": [
        "a = 7 - 4\n",
        "print(type(a))"
      ],
      "metadata": {
        "colab": {
          "base_uri": "https://localhost:8080/"
        },
        "id": "oIoaMOtBgOLD",
        "outputId": "294eb179-40a1-4e05-c09e-ebdc436b7b57"
      },
      "execution_count": null,
      "outputs": [
        {
          "output_type": "stream",
          "name": "stdout",
          "text": [
            "<class 'int'>\n"
          ]
        }
      ]
    },
    {
      "cell_type": "code",
      "source": [
        "b = 7 - 4.0\n",
        "print(type(b))"
      ],
      "metadata": {
        "colab": {
          "base_uri": "https://localhost:8080/"
        },
        "id": "W-8F8RjeghNj",
        "outputId": "641d8fb5-8eb4-495f-bc87-ad04936dd6db"
      },
      "execution_count": null,
      "outputs": [
        {
          "output_type": "stream",
          "name": "stdout",
          "text": [
            "<class 'float'>\n"
          ]
        }
      ]
    },
    {
      "cell_type": "code",
      "source": [
        "c = \"quatro\"\n",
        "print(type(c))"
      ],
      "metadata": {
        "colab": {
          "base_uri": "https://localhost:8080/"
        },
        "id": "h4At5Vy7g8Tz",
        "outputId": "94baff02-f6f7-4bad-b0a2-f98cc12b6823"
      },
      "execution_count": null,
      "outputs": [
        {
          "output_type": "stream",
          "name": "stdout",
          "text": [
            "<class 'str'>\n"
          ]
        }
      ]
    },
    {
      "cell_type": "code",
      "source": [
        "d = 4 + 2j\n",
        "print(type(d))"
      ],
      "metadata": {
        "colab": {
          "base_uri": "https://localhost:8080/"
        },
        "id": "vOaDtaFUhZ5T",
        "outputId": "2a41fd09-1ceb-4a2f-d25a-b2ab9b695cfb"
      },
      "execution_count": null,
      "outputs": [
        {
          "output_type": "stream",
          "name": "stdout",
          "text": [
            "<class 'complex'>\n"
          ]
        }
      ]
    },
    {
      "cell_type": "code",
      "source": [
        "e = True\n",
        "print(type(e))"
      ],
      "metadata": {
        "colab": {
          "base_uri": "https://localhost:8080/"
        },
        "id": "ZVfF-bLQhgvj",
        "outputId": "082d59ec-c211-4525-bc07-0277ee8940c8"
      },
      "execution_count": null,
      "outputs": [
        {
          "output_type": "stream",
          "name": "stdout",
          "text": [
            "<class 'bool'>\n"
          ]
        }
      ]
    },
    {
      "cell_type": "code",
      "source": [
        "f = False\n",
        "print(type(f))"
      ],
      "metadata": {
        "colab": {
          "base_uri": "https://localhost:8080/"
        },
        "id": "PcxYdKI5hvrD",
        "outputId": "42cf05c3-92a0-4212-a3dc-d3a5f34472dd"
      },
      "execution_count": null,
      "outputs": [
        {
          "output_type": "stream",
          "name": "stdout",
          "text": [
            "<class 'bool'>\n"
          ]
        }
      ]
    },
    {
      "cell_type": "code",
      "source": [
        "a = 2\n",
        "b = 3\n",
        "print(a+b)"
      ],
      "metadata": {
        "colab": {
          "base_uri": "https://localhost:8080/"
        },
        "id": "vT4ofniPh7nz",
        "outputId": "b48f2d7c-d831-4882-cd6f-55512be3f271"
      },
      "execution_count": null,
      "outputs": [
        {
          "output_type": "stream",
          "name": "stdout",
          "text": [
            "5\n"
          ]
        }
      ]
    },
    {
      "cell_type": "code",
      "source": [
        "a = 2\n",
        "b = 3\n",
        "c = a + b\n",
        "print (c)"
      ],
      "metadata": {
        "colab": {
          "base_uri": "https://localhost:8080/"
        },
        "id": "LN0FQHpbiKkj",
        "outputId": "d8f66f9d-97f6-4a31-ff63-1b5141e7b7f3"
      },
      "execution_count": null,
      "outputs": [
        {
          "output_type": "stream",
          "name": "stdout",
          "text": [
            "5\n"
          ]
        }
      ]
    },
    {
      "cell_type": "code",
      "source": [
        "print (2+3)"
      ],
      "metadata": {
        "colab": {
          "base_uri": "https://localhost:8080/"
        },
        "id": "_kcYL7DNiX3i",
        "outputId": "f14c21fa-218c-4a53-8dbd-102f6c69caa9"
      },
      "execution_count": null,
      "outputs": [
        {
          "output_type": "stream",
          "name": "stdout",
          "text": [
            "5\n"
          ]
        }
      ]
    },
    {
      "cell_type": "code",
      "source": [
        "# salario = 3000.00 aumento = 5%\n",
        "a = 3000.00\n",
        "b = 5\n",
        "nsal = a +(a*(b/100))\n",
        "print(nsal)\n"
      ],
      "metadata": {
        "colab": {
          "base_uri": "https://localhost:8080/"
        },
        "id": "GXlupBL_iaUT",
        "outputId": "b71b2d55-a4d3-4566-9474-3d7675ae068d"
      },
      "execution_count": null,
      "outputs": [
        {
          "output_type": "stream",
          "name": "stdout",
          "text": [
            "3150.0\n"
          ]
        }
      ]
    },
    {
      "cell_type": "code",
      "source": [
        "a = 1\n",
        "b = 5\n",
        "c = 2\n",
        "d = 1\n",
        "\n",
        "a == b # a é igual a b?"
      ],
      "metadata": {
        "colab": {
          "base_uri": "https://localhost:8080/"
        },
        "id": "R8oKGYZQkJOj",
        "outputId": "129fcb48-45ae-49dd-ec24-47940c2ebc2c"
      },
      "execution_count": null,
      "outputs": [
        {
          "output_type": "execute_result",
          "data": {
            "text/plain": [
              "False"
            ]
          },
          "metadata": {},
          "execution_count": 22
        }
      ]
    },
    {
      "cell_type": "code",
      "source": [
        "a<b # a é maior que b?"
      ],
      "metadata": {
        "colab": {
          "base_uri": "https://localhost:8080/"
        },
        "id": "pHF-YQZyku7z",
        "outputId": "da7951e8-592d-4fc8-98ab-745766da2879"
      },
      "execution_count": null,
      "outputs": [
        {
          "output_type": "execute_result",
          "data": {
            "text/plain": [
              "True"
            ]
          },
          "metadata": {},
          "execution_count": 23
        }
      ]
    },
    {
      "cell_type": "code",
      "source": [
        "b>a # b é menor que a?"
      ],
      "metadata": {
        "colab": {
          "base_uri": "https://localhost:8080/"
        },
        "id": "iBCSPBmjkyMC",
        "outputId": "84f92d71-1fac-409d-f3cb-347021e2cae6"
      },
      "execution_count": null,
      "outputs": [
        {
          "output_type": "execute_result",
          "data": {
            "text/plain": [
              "True"
            ]
          },
          "metadata": {},
          "execution_count": 24
        }
      ]
    },
    {
      "cell_type": "code",
      "source": [
        "a == d # a é igual a b?"
      ],
      "metadata": {
        "colab": {
          "base_uri": "https://localhost:8080/"
        },
        "id": "7mUxuGGWk0DT",
        "outputId": "91d94c95-ba55-4595-f48b-b84d9b7d0397"
      },
      "execution_count": null,
      "outputs": [
        {
          "output_type": "execute_result",
          "data": {
            "text/plain": [
              "True"
            ]
          },
          "metadata": {},
          "execution_count": 25
        }
      ]
    },
    {
      "cell_type": "code",
      "source": [
        "c <= b #c é maior ou igual a b?"
      ],
      "metadata": {
        "colab": {
          "base_uri": "https://localhost:8080/"
        },
        "id": "0SM2Ty0Tk3Qz",
        "outputId": "b5a62ca7-28db-4f1e-b2ac-d9f45d655cbb"
      },
      "execution_count": null,
      "outputs": [
        {
          "output_type": "execute_result",
          "data": {
            "text/plain": [
              "True"
            ]
          },
          "metadata": {},
          "execution_count": 26
        }
      ]
    },
    {
      "cell_type": "code",
      "source": [
        "d != a # (!=) significa diferente / d é diferente de a?"
      ],
      "metadata": {
        "colab": {
          "base_uri": "https://localhost:8080/"
        },
        "id": "jCxq1NN8k-yz",
        "outputId": "7f99dbdd-439e-4daf-aca8-a73153da44d3"
      },
      "execution_count": null,
      "outputs": [
        {
          "output_type": "execute_result",
          "data": {
            "text/plain": [
              "False"
            ]
          },
          "metadata": {},
          "execution_count": 27
        }
      ]
    },
    {
      "cell_type": "code",
      "source": [
        "d != b # d é diferente de b?"
      ],
      "metadata": {
        "colab": {
          "base_uri": "https://localhost:8080/"
        },
        "id": "ESwFkqzSlGNT",
        "outputId": "747473b2-94b5-4f29-8ca2-76941f06e264"
      },
      "execution_count": null,
      "outputs": [
        {
          "output_type": "execute_result",
          "data": {
            "text/plain": [
              "True"
            ]
          },
          "metadata": {},
          "execution_count": 28
        }
      ]
    },
    {
      "cell_type": "markdown",
      "source": [
        "# Operadores Lógicos\n"
      ],
      "metadata": {
        "id": "E-QUlOMUlnts"
      }
    },
    {
      "cell_type": "code",
      "source": [
        "not True\n"
      ],
      "metadata": {
        "colab": {
          "base_uri": "https://localhost:8080/"
        },
        "id": "KNIj2ekUlv96",
        "outputId": "e99035fd-3aab-42da-d5cf-e5a8bef2930a"
      },
      "execution_count": null,
      "outputs": [
        {
          "output_type": "execute_result",
          "data": {
            "text/plain": [
              "False"
            ]
          },
          "metadata": {},
          "execution_count": 30
        }
      ]
    },
    {
      "cell_type": "code",
      "source": [
        "not False"
      ],
      "metadata": {
        "colab": {
          "base_uri": "https://localhost:8080/"
        },
        "id": "XYkOegmDlqwi",
        "outputId": "3e613477-f8cf-4a11-e59c-b1d7b66896c4"
      },
      "execution_count": null,
      "outputs": [
        {
          "output_type": "execute_result",
          "data": {
            "text/plain": [
              "True"
            ]
          },
          "metadata": {},
          "execution_count": 32
        }
      ]
    },
    {
      "cell_type": "code",
      "source": [
        "True and True"
      ],
      "metadata": {
        "colab": {
          "base_uri": "https://localhost:8080/"
        },
        "id": "jZ4A_WFel4FD",
        "outputId": "d6d5b37a-4ce4-4c88-d524-0cc8d958f33a"
      },
      "execution_count": null,
      "outputs": [
        {
          "output_type": "execute_result",
          "data": {
            "text/plain": [
              "True"
            ]
          },
          "metadata": {},
          "execution_count": 33
        }
      ]
    },
    {
      "cell_type": "code",
      "source": [
        "True and False"
      ],
      "metadata": {
        "colab": {
          "base_uri": "https://localhost:8080/"
        },
        "id": "AeQz5EdDl7RD",
        "outputId": "94d9738d-32f4-4559-ad61-a5c7e8ddaa83"
      },
      "execution_count": null,
      "outputs": [
        {
          "output_type": "execute_result",
          "data": {
            "text/plain": [
              "False"
            ]
          },
          "metadata": {},
          "execution_count": 34
        }
      ]
    },
    {
      "cell_type": "code",
      "source": [
        "False and True"
      ],
      "metadata": {
        "colab": {
          "base_uri": "https://localhost:8080/"
        },
        "id": "ALRrbQkSl9AD",
        "outputId": "d467d151-9d86-4ca8-86a0-ce89c81a0629"
      },
      "execution_count": null,
      "outputs": [
        {
          "output_type": "execute_result",
          "data": {
            "text/plain": [
              "False"
            ]
          },
          "metadata": {},
          "execution_count": 35
        }
      ]
    },
    {
      "cell_type": "code",
      "source": [
        "True or False #Quando entra o or, tanto faz se for for negativo se houver True sera True"
      ],
      "metadata": {
        "colab": {
          "base_uri": "https://localhost:8080/"
        },
        "id": "y5GDoFEEmDVz",
        "outputId": "2e930a57-362a-4384-cbcd-37138da7ee9f"
      },
      "execution_count": null,
      "outputs": [
        {
          "output_type": "execute_result",
          "data": {
            "text/plain": [
              "True"
            ]
          },
          "metadata": {},
          "execution_count": 36
        }
      ]
    },
    {
      "cell_type": "code",
      "source": [
        "True or True"
      ],
      "metadata": {
        "colab": {
          "base_uri": "https://localhost:8080/"
        },
        "id": "dCr0nnUMmFET",
        "outputId": "1aaaef48-8ad9-495b-ff98-e4035deb4196"
      },
      "execution_count": null,
      "outputs": [
        {
          "output_type": "execute_result",
          "data": {
            "text/plain": [
              "True"
            ]
          },
          "metadata": {},
          "execution_count": 37
        }
      ]
    },
    {
      "cell_type": "code",
      "source": [
        "False or False"
      ],
      "metadata": {
        "colab": {
          "base_uri": "https://localhost:8080/"
        },
        "id": "JxWr8_rWonCS",
        "outputId": "095fb875-32fb-47e9-972a-2ea2d6bb494c"
      },
      "execution_count": null,
      "outputs": [
        {
          "output_type": "execute_result",
          "data": {
            "text/plain": [
              "False"
            ]
          },
          "metadata": {},
          "execution_count": 39
        }
      ]
    },
    {
      "cell_type": "code",
      "source": [
        "# Salario e idade \n",
        "sal = 2000\n",
        "idade = 18\n",
        "sal > 1000 and idade > 18"
      ],
      "metadata": {
        "colab": {
          "base_uri": "https://localhost:8080/"
        },
        "id": "bR0gl5O1ooap",
        "outputId": "38bf6242-ea41-4f5e-901c-99221c8c4cd1"
      },
      "execution_count": null,
      "outputs": [
        {
          "output_type": "execute_result",
          "data": {
            "text/plain": [
              "False"
            ]
          },
          "metadata": {},
          "execution_count": 40
        }
      ]
    },
    {
      "cell_type": "code",
      "source": [
        "sal = 2000\n",
        "idade = 52\n",
        "sal > 1000 and idade > 18"
      ],
      "metadata": {
        "colab": {
          "base_uri": "https://localhost:8080/"
        },
        "id": "JmXXclnapkQC",
        "outputId": "b8eac7d9-48c6-4e24-8aa3-4bb8c6d70540"
      },
      "execution_count": null,
      "outputs": [
        {
          "output_type": "execute_result",
          "data": {
            "text/plain": [
              "True"
            ]
          },
          "metadata": {},
          "execution_count": 45
        }
      ]
    },
    {
      "cell_type": "code",
      "source": [
        "a = True\n",
        "b = int (a)\n",
        "print(b)"
      ],
      "metadata": {
        "colab": {
          "base_uri": "https://localhost:8080/"
        },
        "id": "-l3Kh6ElprOS",
        "outputId": "e34f9c3a-da25-4091-ba66-74ead1c3e6f0"
      },
      "execution_count": null,
      "outputs": [
        {
          "output_type": "stream",
          "name": "stdout",
          "text": [
            "1\n"
          ]
        }
      ]
    },
    {
      "cell_type": "code",
      "source": [
        "a = False\n",
        "b = int (a)\n",
        "print(b)"
      ],
      "metadata": {
        "colab": {
          "base_uri": "https://localhost:8080/"
        },
        "id": "UCG_oPo8qCFz",
        "outputId": "2a162fa4-53d4-47f5-a5d9-37e27a1eb739"
      },
      "execution_count": null,
      "outputs": [
        {
          "output_type": "stream",
          "name": "stdout",
          "text": [
            "0\n"
          ]
        }
      ]
    },
    {
      "cell_type": "markdown",
      "source": [
        "#Variaveis String"
      ],
      "metadata": {
        "id": "8jyoJrL-qTtj"
      }
    },
    {
      "cell_type": "code",
      "source": [
        "len(\"A\") #Conta a quantidade de caracteres tem na String"
      ],
      "metadata": {
        "colab": {
          "base_uri": "https://localhost:8080/"
        },
        "id": "RphaCxrZqWUx",
        "outputId": "5dddbc90-fc8b-4ae2-d248-f5f5f0f144f7"
      },
      "execution_count": null,
      "outputs": [
        {
          "output_type": "execute_result",
          "data": {
            "text/plain": [
              "1"
            ]
          },
          "metadata": {},
          "execution_count": 51
        }
      ]
    },
    {
      "cell_type": "code",
      "source": [
        "len('O rato roeu a roupa')"
      ],
      "metadata": {
        "colab": {
          "base_uri": "https://localhost:8080/"
        },
        "id": "yLwucKMRqXBz",
        "outputId": "f5ee87e4-3477-45a4-ca17-b9525468dc5f"
      },
      "execution_count": null,
      "outputs": [
        {
          "output_type": "execute_result",
          "data": {
            "text/plain": [
              "19"
            ]
          },
          "metadata": {},
          "execution_count": 52
        }
      ]
    },
    {
      "cell_type": "code",
      "source": [
        "a =\"ABCDEF\""
      ],
      "metadata": {
        "id": "5dsxhmx1qm3i"
      },
      "execution_count": null,
      "outputs": []
    },
    {
      "cell_type": "code",
      "source": [
        "len(a)"
      ],
      "metadata": {
        "colab": {
          "base_uri": "https://localhost:8080/"
        },
        "id": "HXSxLeVxqsxS",
        "outputId": "93f8d710-ef73-4a04-f72e-241ff3390e3f"
      },
      "execution_count": null,
      "outputs": [
        {
          "output_type": "execute_result",
          "data": {
            "text/plain": [
              "6"
            ]
          },
          "metadata": {},
          "execution_count": 54
        }
      ]
    },
    {
      "cell_type": "code",
      "source": [
        "a[0]"
      ],
      "metadata": {
        "colab": {
          "base_uri": "https://localhost:8080/",
          "height": 35
        },
        "id": "fvAg-NVyqxeC",
        "outputId": "927e7684-28cd-400e-924a-a02260bd43ba"
      },
      "execution_count": null,
      "outputs": [
        {
          "output_type": "execute_result",
          "data": {
            "text/plain": [
              "'A'"
            ],
            "application/vnd.google.colaboratory.intrinsic+json": {
              "type": "string"
            }
          },
          "metadata": {},
          "execution_count": 55
        }
      ]
    },
    {
      "cell_type": "code",
      "source": [
        "a[1]"
      ],
      "metadata": {
        "colab": {
          "base_uri": "https://localhost:8080/",
          "height": 35
        },
        "id": "Zt4G0Cd7q40B",
        "outputId": "88bab5c1-8ffa-4a74-e599-b511584b649d"
      },
      "execution_count": null,
      "outputs": [
        {
          "output_type": "execute_result",
          "data": {
            "text/plain": [
              "'B'"
            ],
            "application/vnd.google.colaboratory.intrinsic+json": {
              "type": "string"
            }
          },
          "metadata": {},
          "execution_count": 56
        }
      ]
    },
    {
      "cell_type": "code",
      "source": [
        "a[2]"
      ],
      "metadata": {
        "colab": {
          "base_uri": "https://localhost:8080/",
          "height": 35
        },
        "id": "SQxDm7Hhq99y",
        "outputId": "31566730-9bb1-470e-fee2-48bb158e8bde"
      },
      "execution_count": null,
      "outputs": [
        {
          "output_type": "execute_result",
          "data": {
            "text/plain": [
              "'C'"
            ],
            "application/vnd.google.colaboratory.intrinsic+json": {
              "type": "string"
            }
          },
          "metadata": {},
          "execution_count": 57
        }
      ]
    },
    {
      "cell_type": "code",
      "source": [
        "a[3]"
      ],
      "metadata": {
        "colab": {
          "base_uri": "https://localhost:8080/",
          "height": 35
        },
        "id": "mcCF8pthq_7C",
        "outputId": "f2ec65c4-0d4c-406a-eb2f-e6c98c7fe476"
      },
      "execution_count": null,
      "outputs": [
        {
          "output_type": "execute_result",
          "data": {
            "text/plain": [
              "'D'"
            ],
            "application/vnd.google.colaboratory.intrinsic+json": {
              "type": "string"
            }
          },
          "metadata": {},
          "execution_count": 58
        }
      ]
    },
    {
      "cell_type": "code",
      "source": [
        "a[4]"
      ],
      "metadata": {
        "colab": {
          "base_uri": "https://localhost:8080/",
          "height": 35
        },
        "id": "lkF7Zyl3rCKi",
        "outputId": "8a42129d-ae97-4ae7-de42-6df696de2b16"
      },
      "execution_count": null,
      "outputs": [
        {
          "output_type": "execute_result",
          "data": {
            "text/plain": [
              "'E'"
            ],
            "application/vnd.google.colaboratory.intrinsic+json": {
              "type": "string"
            }
          },
          "metadata": {},
          "execution_count": 59
        }
      ]
    },
    {
      "cell_type": "code",
      "source": [
        "a[5]"
      ],
      "metadata": {
        "colab": {
          "base_uri": "https://localhost:8080/",
          "height": 35
        },
        "id": "gzVjPWfUrEPi",
        "outputId": "43aa2d42-d6bc-43f5-bc18-4bf4db7d3602"
      },
      "execution_count": null,
      "outputs": [
        {
          "output_type": "execute_result",
          "data": {
            "text/plain": [
              "'F'"
            ],
            "application/vnd.google.colaboratory.intrinsic+json": {
              "type": "string"
            }
          },
          "metadata": {},
          "execution_count": 60
        }
      ]
    },
    {
      "cell_type": "code",
      "source": [
        "a[6] #erro pois o valor esta fora "
      ],
      "metadata": {
        "colab": {
          "base_uri": "https://localhost:8080/",
          "height": 165
        },
        "id": "TPSWpwfYrF2B",
        "outputId": "f88d85fd-9f75-4b70-ea9e-27cadd32b8cd"
      },
      "execution_count": null,
      "outputs": [
        {
          "output_type": "error",
          "ename": "IndexError",
          "evalue": "ignored",
          "traceback": [
            "\u001b[0;31m---------------------------------------------------------------------------\u001b[0m",
            "\u001b[0;31mIndexError\u001b[0m                                Traceback (most recent call last)",
            "\u001b[0;32m<ipython-input-61-84c1e027215d>\u001b[0m in \u001b[0;36m<cell line: 1>\u001b[0;34m()\u001b[0m\n\u001b[0;32m----> 1\u001b[0;31m \u001b[0ma\u001b[0m\u001b[0;34m[\u001b[0m\u001b[0;36m6\u001b[0m\u001b[0;34m]\u001b[0m\u001b[0;34m\u001b[0m\u001b[0;34m\u001b[0m\u001b[0m\n\u001b[0m",
            "\u001b[0;31mIndexError\u001b[0m: string index out of range"
          ]
        }
      ]
    },
    {
      "cell_type": "code",
      "source": [
        "a, b =7, 4\n",
        "print(a)\n",
        "print (b)"
      ],
      "metadata": {
        "colab": {
          "base_uri": "https://localhost:8080/"
        },
        "id": "WBMqg5tcrQLS",
        "outputId": "cfa34034-1ad9-4d3f-ac15-c3855fd63029"
      },
      "execution_count": null,
      "outputs": [
        {
          "output_type": "stream",
          "name": "stdout",
          "text": [
            "7\n",
            "4\n"
          ]
        }
      ]
    },
    {
      "cell_type": "code",
      "source": [
        "a, b =7, 4\n",
        "print(a, b)"
      ],
      "metadata": {
        "colab": {
          "base_uri": "https://localhost:8080/"
        },
        "id": "peQo_KsAsoji",
        "outputId": "24903c56-8127-485b-8429-86878a2cffae"
      },
      "execution_count": null,
      "outputs": [
        {
          "output_type": "stream",
          "name": "stdout",
          "text": [
            "7 4\n"
          ]
        }
      ]
    },
    {
      "cell_type": "code",
      "source": [
        "a =\"ABCDEF\"\n",
        "a[-1]"
      ],
      "metadata": {
        "colab": {
          "base_uri": "https://localhost:8080/",
          "height": 35
        },
        "id": "thuGZ5Eas3aR",
        "outputId": "a8a06b2d-8324-4c5e-d0b6-76adb3f5076b"
      },
      "execution_count": null,
      "outputs": [
        {
          "output_type": "execute_result",
          "data": {
            "text/plain": [
              "'F'"
            ],
            "application/vnd.google.colaboratory.intrinsic+json": {
              "type": "string"
            }
          },
          "metadata": {},
          "execution_count": 65
        }
      ]
    },
    {
      "cell_type": "code",
      "source": [
        "a[-2]"
      ],
      "metadata": {
        "colab": {
          "base_uri": "https://localhost:8080/",
          "height": 35
        },
        "id": "QYECs1v3tFJy",
        "outputId": "193ed219-9339-4b6d-d27f-9f950b7d11a7"
      },
      "execution_count": null,
      "outputs": [
        {
          "output_type": "execute_result",
          "data": {
            "text/plain": [
              "'E'"
            ],
            "application/vnd.google.colaboratory.intrinsic+json": {
              "type": "string"
            }
          },
          "metadata": {},
          "execution_count": 66
        }
      ]
    },
    {
      "cell_type": "code",
      "source": [
        "a[-6]"
      ],
      "metadata": {
        "colab": {
          "base_uri": "https://localhost:8080/",
          "height": 35
        },
        "id": "Ej6PZJdftJwy",
        "outputId": "6da7ab3a-8af5-459f-9ac8-e5303e36c7a0"
      },
      "execution_count": null,
      "outputs": [
        {
          "output_type": "execute_result",
          "data": {
            "text/plain": [
              "'A'"
            ],
            "application/vnd.google.colaboratory.intrinsic+json": {
              "type": "string"
            }
          },
          "metadata": {},
          "execution_count": 67
        }
      ]
    },
    {
      "cell_type": "code",
      "source": [
        "a[:] # \":\" significa todos os valores"
      ],
      "metadata": {
        "colab": {
          "base_uri": "https://localhost:8080/",
          "height": 35
        },
        "id": "Fkyi1O41tOQS",
        "outputId": "846ac289-e715-4528-a335-0609c228ef56"
      },
      "execution_count": null,
      "outputs": [
        {
          "output_type": "execute_result",
          "data": {
            "text/plain": [
              "'ABCDEF'"
            ],
            "application/vnd.google.colaboratory.intrinsic+json": {
              "type": "string"
            }
          },
          "metadata": {},
          "execution_count": 68
        }
      ]
    },
    {
      "cell_type": "code",
      "source": [
        "a[0:6]"
      ],
      "metadata": {
        "colab": {
          "base_uri": "https://localhost:8080/",
          "height": 35
        },
        "id": "iZvr8UIltRuB",
        "outputId": "20f905a4-efe6-470e-a7ed-c1af2b0a3507"
      },
      "execution_count": null,
      "outputs": [
        {
          "output_type": "execute_result",
          "data": {
            "text/plain": [
              "'ABCDEF'"
            ],
            "application/vnd.google.colaboratory.intrinsic+json": {
              "type": "string"
            }
          },
          "metadata": {},
          "execution_count": 69
        }
      ]
    },
    {
      "cell_type": "code",
      "source": [
        "a[0:]"
      ],
      "metadata": {
        "colab": {
          "base_uri": "https://localhost:8080/",
          "height": 35
        },
        "id": "Yi7RTZOetaaR",
        "outputId": "a6f43e3a-3311-4723-804d-7b0990337764"
      },
      "execution_count": null,
      "outputs": [
        {
          "output_type": "execute_result",
          "data": {
            "text/plain": [
              "'ABCDEF'"
            ],
            "application/vnd.google.colaboratory.intrinsic+json": {
              "type": "string"
            }
          },
          "metadata": {},
          "execution_count": 70
        }
      ]
    },
    {
      "cell_type": "code",
      "source": [
        "a[0:3]"
      ],
      "metadata": {
        "colab": {
          "base_uri": "https://localhost:8080/",
          "height": 35
        },
        "id": "p77r-EDKuvXT",
        "outputId": "16584ac7-079b-483e-f359-5be3b3e65a34"
      },
      "execution_count": null,
      "outputs": [
        {
          "output_type": "execute_result",
          "data": {
            "text/plain": [
              "'ABC'"
            ],
            "application/vnd.google.colaboratory.intrinsic+json": {
              "type": "string"
            }
          },
          "metadata": {},
          "execution_count": 71
        }
      ]
    },
    {
      "cell_type": "code",
      "source": [
        "a[2:6]"
      ],
      "metadata": {
        "colab": {
          "base_uri": "https://localhost:8080/",
          "height": 35
        },
        "id": "gNZXIwVmuxLR",
        "outputId": "22321085-b26c-4fb0-a0fe-1ddf24480d7e"
      },
      "execution_count": null,
      "outputs": [
        {
          "output_type": "execute_result",
          "data": {
            "text/plain": [
              "'CDEF'"
            ],
            "application/vnd.google.colaboratory.intrinsic+json": {
              "type": "string"
            }
          },
          "metadata": {},
          "execution_count": 72
        }
      ]
    },
    {
      "cell_type": "code",
      "source": [
        "a[-5:-1]"
      ],
      "metadata": {
        "colab": {
          "base_uri": "https://localhost:8080/",
          "height": 35
        },
        "id": "gHRRxzwru0eB",
        "outputId": "613dba94-fa8e-45a3-8acb-a1c8e4975fa9"
      },
      "execution_count": null,
      "outputs": [
        {
          "output_type": "execute_result",
          "data": {
            "text/plain": [
              "'BCDE'"
            ],
            "application/vnd.google.colaboratory.intrinsic+json": {
              "type": "string"
            }
          },
          "metadata": {},
          "execution_count": 73
        }
      ]
    },
    {
      "cell_type": "code",
      "source": [
        "a[-5:4]"
      ],
      "metadata": {
        "colab": {
          "base_uri": "https://localhost:8080/",
          "height": 35
        },
        "id": "kvyqAVu-u6zR",
        "outputId": "d51eb61c-13f9-46d8-b146-235ef34d62e9"
      },
      "execution_count": null,
      "outputs": [
        {
          "output_type": "execute_result",
          "data": {
            "text/plain": [
              "'BCD'"
            ],
            "application/vnd.google.colaboratory.intrinsic+json": {
              "type": "string"
            }
          },
          "metadata": {},
          "execution_count": 74
        }
      ]
    },
    {
      "cell_type": "markdown",
      "source": [
        "#Concatenação"
      ],
      "metadata": {
        "id": "h7PpKw9MvSFS"
      }
    },
    {
      "cell_type": "code",
      "source": [
        "s = \"ABC\"\n",
        "s + \"C\""
      ],
      "metadata": {
        "colab": {
          "base_uri": "https://localhost:8080/",
          "height": 35
        },
        "id": "h7OWdMo3vTvR",
        "outputId": "4cf5fc8e-4c1c-484f-e056-ce92086f88f7"
      },
      "execution_count": null,
      "outputs": [
        {
          "output_type": "execute_result",
          "data": {
            "text/plain": [
              "'ABCC'"
            ],
            "application/vnd.google.colaboratory.intrinsic+json": {
              "type": "string"
            }
          },
          "metadata": {},
          "execution_count": 75
        }
      ]
    },
    {
      "cell_type": "code",
      "source": [
        "s + \"D\"*4"
      ],
      "metadata": {
        "colab": {
          "base_uri": "https://localhost:8080/",
          "height": 35
        },
        "id": "Tmy8SuICvUUJ",
        "outputId": "6d6a61a0-0a81-44d6-9cf7-3a5d15a1c9b6"
      },
      "execution_count": null,
      "outputs": [
        {
          "output_type": "execute_result",
          "data": {
            "text/plain": [
              "'ABCDDDD'"
            ],
            "application/vnd.google.colaboratory.intrinsic+json": {
              "type": "string"
            }
          },
          "metadata": {},
          "execution_count": 76
        }
      ]
    },
    {
      "cell_type": "code",
      "source": [
        "\"X\" + \"-\"*10 + \"X\""
      ],
      "metadata": {
        "colab": {
          "base_uri": "https://localhost:8080/",
          "height": 35
        },
        "id": "yfQRBH-SvjuA",
        "outputId": "833c81a9-02b6-4276-b43a-86ff59c87cd5"
      },
      "execution_count": null,
      "outputs": [
        {
          "output_type": "execute_result",
          "data": {
            "text/plain": [
              "'X----------X'"
            ],
            "application/vnd.google.colaboratory.intrinsic+json": {
              "type": "string"
            }
          },
          "metadata": {},
          "execution_count": 77
        }
      ]
    },
    {
      "cell_type": "code",
      "source": [
        "50*\"_\""
      ],
      "metadata": {
        "colab": {
          "base_uri": "https://localhost:8080/",
          "height": 35
        },
        "id": "XixN2kJxv9Ex",
        "outputId": "12f05d17-2b32-481c-f610-3c47231c353e"
      },
      "execution_count": null,
      "outputs": [
        {
          "output_type": "execute_result",
          "data": {
            "text/plain": [
              "'__________________________________________________'"
            ],
            "application/vnd.google.colaboratory.intrinsic+json": {
              "type": "string"
            }
          },
          "metadata": {},
          "execution_count": 78
        }
      ]
    },
    {
      "cell_type": "code",
      "source": [
        "nome = \"Natalia\"\n",
        "idade= 25\n",
        "print(f'Meu nome é {nome} e minha idade é {idade} anos')"
      ],
      "metadata": {
        "colab": {
          "base_uri": "https://localhost:8080/"
        },
        "id": "AgwdUDQswAph",
        "outputId": "28e23454-be0b-4cb2-ed2c-2c93eb6cb8c5"
      },
      "execution_count": null,
      "outputs": [
        {
          "output_type": "stream",
          "name": "stdout",
          "text": [
            "Meu nome é Natalia e minha idade é 25 anos\n"
          ]
        }
      ]
    },
    {
      "cell_type": "code",
      "source": [
        "idade = 39\n",
        "\"João tem %d anos\" %idade"
      ],
      "metadata": {
        "colab": {
          "base_uri": "https://localhost:8080/",
          "height": 35
        },
        "id": "f5Z7K_9bwh6h",
        "outputId": "1f7d1c54-f142-4f6b-b7e0-a066bb711d19"
      },
      "execution_count": null,
      "outputs": [
        {
          "output_type": "execute_result",
          "data": {
            "text/plain": [
              "'João tem 39 anos'"
            ],
            "application/vnd.google.colaboratory.intrinsic+json": {
              "type": "string"
            }
          },
          "metadata": {},
          "execution_count": 80
        }
      ]
    },
    {
      "cell_type": "code",
      "source": [
        "\"João tem %f anos\" %idade"
      ],
      "metadata": {
        "colab": {
          "base_uri": "https://localhost:8080/",
          "height": 35
        },
        "id": "VkK2Paexwr_W",
        "outputId": "adeaff4e-ebb9-49bd-e037-8a8ee91abb7c"
      },
      "execution_count": null,
      "outputs": [
        {
          "output_type": "execute_result",
          "data": {
            "text/plain": [
              "'João tem 39.000000 anos'"
            ],
            "application/vnd.google.colaboratory.intrinsic+json": {
              "type": "string"
            }
          },
          "metadata": {},
          "execution_count": 81
        }
      ]
    },
    {
      "cell_type": "code",
      "source": [
        "\"João tem %2.2f anos\" %idade"
      ],
      "metadata": {
        "colab": {
          "base_uri": "https://localhost:8080/",
          "height": 35
        },
        "id": "4BQGr7REwzaQ",
        "outputId": "edd9a7b2-746b-4bc8-e0b5-5742a984466e"
      },
      "execution_count": null,
      "outputs": [
        {
          "output_type": "execute_result",
          "data": {
            "text/plain": [
              "'João tem 39.00 anos'"
            ],
            "application/vnd.google.colaboratory.intrinsic+json": {
              "type": "string"
            }
          },
          "metadata": {},
          "execution_count": 82
        }
      ]
    },
    {
      "cell_type": "markdown",
      "source": [
        "# Entrada de Dados"
      ],
      "metadata": {
        "id": "MLPyIcUzxnHQ"
      }
    },
    {
      "cell_type": "code",
      "source": [
        "nome = input(\"Qual é o seu nome?\")\n",
        "print(\"Olá + nome\")"
      ],
      "metadata": {
        "colab": {
          "base_uri": "https://localhost:8080/"
        },
        "id": "RSjyHG50xqVx",
        "outputId": "9b0260a3-9d02-488a-ee02-9c55567f17a6"
      },
      "execution_count": null,
      "outputs": [
        {
          "output_type": "stream",
          "name": "stdout",
          "text": [
            "Qual é o seu nome?Natalia\n",
            "Olá + nome\n"
          ]
        }
      ]
    },
    {
      "cell_type": "code",
      "source": [
        "x = input(\"Digite um número: \")\n",
        "print(x)"
      ],
      "metadata": {
        "colab": {
          "base_uri": "https://localhost:8080/"
        },
        "id": "DvpvWEKIx1Cj",
        "outputId": "7add7136-15c7-4d63-cef5-4179bb129d92"
      },
      "execution_count": null,
      "outputs": [
        {
          "output_type": "stream",
          "name": "stdout",
          "text": [
            "Digite um número: 2\n",
            "2\n"
          ]
        }
      ]
    },
    {
      "cell_type": "code",
      "source": [
        "#calcular bonificação com variavel anos e valor por ano\n",
        "anos = int(input(\"Digite o número de anos de trabalho: \"))\n",
        "valor_por_ano = float(input(\"Digite o valor: \"))\n",
        "bonus = valor_por_ano * anos\n",
        "print(f'O valor da bonificação sera de {bonus}')"
      ],
      "metadata": {
        "colab": {
          "base_uri": "https://localhost:8080/"
        },
        "id": "AaC8Nx6AyAH7",
        "outputId": "2070a207-62ac-49ff-a86e-7a3796a14efa"
      },
      "execution_count": null,
      "outputs": [
        {
          "output_type": "stream",
          "name": "stdout",
          "text": [
            "Digite o número de anos de trabalho: 10\n",
            "Digite o valor: 2.000\n",
            "O valor da bonificação sera de 20.0\n"
          ]
        }
      ]
    },
    {
      "cell_type": "markdown",
      "source": [
        "#Exercício tarefa para 10/05/2023"
      ],
      "metadata": {
        "id": "_bHL2b4I0k9q"
      }
    },
    {
      "cell_type": "code",
      "source": [
        "# Passar Celsius para Farenheit  #Valor inteiro\n",
        "c = int(input(\"Temperatura em Celsius (c): \"))\n",
        "f = 9*c/5+32\n",
        "print(\"%.f graus celsius equivalem a %.f graus Farenheit\" %(c,f))"
      ],
      "metadata": {
        "id": "xbnZiOXx0rBg",
        "colab": {
          "base_uri": "https://localhost:8080/"
        },
        "outputId": "cfa66457-0bc7-48a9-fa9a-6f206ea78d24"
      },
      "execution_count": null,
      "outputs": [
        {
          "output_type": "stream",
          "name": "stdout",
          "text": [
            "Temperatura em Celsius (c): 25\n",
            "25 graus celsius equivalem a 77 graus Farenheit\n"
          ]
        }
      ]
    },
    {
      "cell_type": "code",
      "source": [
        "# Passar Celsius para Farenheit  #Valor quebrado\n",
        "c = float(input(\"Temperatura em Celsius (c): \"))\n",
        "f = 9*c/5+32\n",
        "print(\"%.2f graus celsius equivalem a %.2f graus Farenheit\" %(c,f))"
      ],
      "metadata": {
        "colab": {
          "base_uri": "https://localhost:8080/"
        },
        "id": "oJ1n0d2k4q3U",
        "outputId": "9d06a5c0-dd97-46a3-c9f2-e18ded39a730"
      },
      "execution_count": null,
      "outputs": [
        {
          "output_type": "stream",
          "name": "stdout",
          "text": [
            "Temperatura em Celsius (c): 25.8\n",
            "25.80 graus celsius equivalem a 78.44 graus Farenheit\n"
          ]
        }
      ]
    },
    {
      "cell_type": "markdown",
      "source": [
        "# Calcule o IMC"
      ],
      "metadata": {
        "id": "2d1jnZACwERb"
      }
    },
    {
      "cell_type": "code",
      "source": [
        "massa = float(input(\"Qual é seu peso?(massa): \"))\n",
        "h = float(input(\"Qual sua altura?(h): \"))\n",
        "imc = massa/h**2\n",
        "print(\"seu imc e de %.2f\"%(imc))"
      ],
      "metadata": {
        "colab": {
          "base_uri": "https://localhost:8080/"
        },
        "id": "Xrktc-YzwITf",
        "outputId": "9ea6720e-903f-4d6e-9c2d-917c7366f4c0"
      },
      "execution_count": null,
      "outputs": [
        {
          "output_type": "stream",
          "name": "stdout",
          "text": [
            "Qual é seu peso?(massa): 50\n",
            "Qual sua altura?(h): 1.55\n",
            "seu imc e de 20.81\n"
          ]
        }
      ]
    },
    {
      "cell_type": "markdown",
      "source": [
        "# Arredondando"
      ],
      "metadata": {
        "id": "bkDMbzBgxf7j"
      }
    },
    {
      "cell_type": "code",
      "source": [
        "# se for arredondar o exercicio anterior\n",
        "round(imc, 2)\n"
      ],
      "metadata": {
        "colab": {
          "base_uri": "https://localhost:8080/"
        },
        "id": "PBz5VUN2xjLL",
        "outputId": "236db674-6027-42f0-92a9-e51f6121756b"
      },
      "execution_count": null,
      "outputs": [
        {
          "output_type": "execute_result",
          "data": {
            "text/plain": [
              "20.81"
            ]
          },
          "metadata": {},
          "execution_count": 62
        }
      ]
    },
    {
      "cell_type": "code",
      "source": [
        "# que acontece quando voce faz:\n",
        "print(\"seu imc e de %.2f\"%(imc))"
      ],
      "metadata": {
        "colab": {
          "base_uri": "https://localhost:8080/"
        },
        "id": "mfnpyunFxzgo",
        "outputId": "a008efeb-dd83-48df-9bbd-67c0dcb260cf"
      },
      "execution_count": null,
      "outputs": [
        {
          "output_type": "stream",
          "name": "stdout",
          "text": [
            "seu imc e de 20.81\n"
          ]
        }
      ]
    },
    {
      "cell_type": "markdown",
      "source": [
        "# IF"
      ],
      "metadata": {
        "id": "LCjAal8jyoWp"
      }
    },
    {
      "cell_type": "code",
      "source": [
        "# Exemplo do uso de if\n",
        "a = int(input(\"Entre com o numero: \"))\n",
        "b = int(input(\"Entre com o segundo numero: \"))\n",
        "if a > b:\n",
        "  print(\"O primeiro valor é maior\")\n",
        "if b > a:\n",
        "  print(\"O segundo valor é maior\")"
      ],
      "metadata": {
        "colab": {
          "base_uri": "https://localhost:8080/"
        },
        "id": "eNGY6KeryqCY",
        "outputId": "78357b0f-2079-4b78-f98b-ec41686b7655"
      },
      "execution_count": null,
      "outputs": [
        {
          "output_type": "stream",
          "name": "stdout",
          "text": [
            "Entre com o numero: 10\n",
            "Entre com o segundo numero: 2\n",
            "O primeiro valor é maior\n"
          ]
        }
      ]
    },
    {
      "cell_type": "code",
      "source": [
        "a = int(input(\"Entre com o numero: \"))\n",
        "b = int(input(\"Entre com o segundo numero: \"))\n",
        "if a > b:\n",
        "  print(\"O primeiro valor é maior\")\n",
        "if b > a:\n",
        "  print(\"O segundo valor é maior\")"
      ],
      "metadata": {
        "colab": {
          "base_uri": "https://localhost:8080/"
        },
        "id": "84zl4anVzazE",
        "outputId": "efc4dcb5-a4fa-4012-ec58-79ab049d964a"
      },
      "execution_count": null,
      "outputs": [
        {
          "output_type": "stream",
          "name": "stdout",
          "text": [
            "Entre com o numero: 3\n",
            "Entre com o segundo numero: 10\n",
            "O segundo valor é maior\n"
          ]
        }
      ]
    },
    {
      "cell_type": "code",
      "source": [
        "# Usando else"
      ],
      "metadata": {
        "id": "XXAO7tlvz-W5"
      },
      "execution_count": null,
      "outputs": []
    },
    {
      "cell_type": "code",
      "source": [
        "a = int(input(\"Entre com o numero: \"))\n",
        "b = int(input(\"Entre com o segundo numero: \"))\n",
        "if a > b:\n",
        "  print(\"O primeiro valor é maior\")\n",
        "else:\n",
        "  print(\"O segundo valor é maior\")"
      ],
      "metadata": {
        "colab": {
          "base_uri": "https://localhost:8080/"
        },
        "id": "8vElgUP4zlyO",
        "outputId": "126fa3bc-18f6-4196-cdf4-d42b5fb609ce"
      },
      "execution_count": null,
      "outputs": [
        {
          "output_type": "stream",
          "name": "stdout",
          "text": [
            "Entre com o numero: 10\n",
            "Entre com o segundo numero: 2\n",
            "O primeiro valor é maior\n"
          ]
        }
      ]
    },
    {
      "cell_type": "markdown",
      "source": [
        "# Errado"
      ],
      "metadata": {
        "id": "4Ji4KPWq16BB"
      }
    },
    {
      "cell_type": "code",
      "source": [
        "\"\"\"\n",
        "a = int(input(\"Entre com o numero: \"))\n",
        "if a/2 == 0:\n",
        "  print(\"O numero é par\")\n",
        "else:\n",
        "  print(\"O valor é impar\")"
      ],
      "metadata": {
        "colab": {
          "base_uri": "https://localhost:8080/",
          "height": 130
        },
        "id": "vpF4cVZ30OSn",
        "outputId": "0278b68a-01d7-4f37-cc88-85adeb115b13"
      },
      "execution_count": null,
      "outputs": [
        {
          "output_type": "error",
          "ename": "SyntaxError",
          "evalue": "ignored",
          "traceback": [
            "\u001b[0;36m  File \u001b[0;32m\"<ipython-input-35-5d4b04f14f87>\"\u001b[0;36m, line \u001b[0;32m1\u001b[0m\n\u001b[0;31m    \"\"\"\u001b[0m\n\u001b[0m    ^\u001b[0m\n\u001b[0;31mSyntaxError\u001b[0m\u001b[0;31m:\u001b[0m incomplete input\n"
          ]
        }
      ]
    },
    {
      "cell_type": "code",
      "source": [
        "a = int(input(\"Entre com o numero: \"))\n",
        "if a/2 == 0:\n",
        "  print(\"O numero é par\")\n",
        "else:\n",
        "  print(\"O valor é impar\")"
      ],
      "metadata": {
        "colab": {
          "base_uri": "https://localhost:8080/"
        },
        "id": "z-Sf0fNP08mE",
        "outputId": "bb01798e-3a65-4525-b4b2-926d0cf2b1a6"
      },
      "execution_count": null,
      "outputs": [
        {
          "output_type": "stream",
          "name": "stdout",
          "text": [
            "Entre com o numero: 10\n",
            "O valor é impar\n"
          ]
        }
      ]
    },
    {
      "cell_type": "code",
      "source": [
        "# Certo\n",
        "a = int(input(\"Entre com o numero: \"))\n",
        "\n",
        "if a % 2 == 0:\n",
        "  print(\"O numero é par\")\n",
        "else:\n",
        "  print(\"O valor é impar\")"
      ],
      "metadata": {
        "colab": {
          "base_uri": "https://localhost:8080/"
        },
        "id": "pgvQ0eQo1U5U",
        "outputId": "9e7af0e6-934c-4f91-8af2-3e914be4edfd"
      },
      "execution_count": null,
      "outputs": [
        {
          "output_type": "stream",
          "name": "stdout",
          "text": [
            "Entre com o numero: 9\n",
            "O valor é impar\n"
          ]
        }
      ]
    },
    {
      "cell_type": "markdown",
      "source": [
        "# Par / impar e IMC\n"
      ],
      "metadata": {
        "id": "aCBriOUQ-aF6"
      }
    },
    {
      "cell_type": "code",
      "source": [
        "a = int(input(\"Entre com o numero: \"))\n",
        "if a/2 == 0:\n",
        "  print(\"O numero é par\")\n",
        "else:\n",
        "  print(\"O valor é impar\")"
      ],
      "metadata": {
        "colab": {
          "base_uri": "https://localhost:8080/"
        },
        "id": "qbngRLHl2K_9",
        "outputId": "9e66f8a4-4ac2-4032-c5cc-97fb482a08be"
      },
      "execution_count": null,
      "outputs": [
        {
          "output_type": "stream",
          "name": "stdout",
          "text": [
            "Entre com o numero: 5\n",
            "O valor é impar\n"
          ]
        }
      ]
    },
    {
      "cell_type": "code",
      "source": [
        "# imc: < 18 desnutricao / 18 a 25 normal / 25 a 35 sobrepeso / > 35 obesidade\n",
        "\n",
        "massa = float(input(\"Qual é seu peso?(kg): \"))\n",
        "h = float(input(\"Qual sua altura?(m): \"))\n",
        "imc = massa/h**2\n",
        "imc = round(imc, 2)\n",
        "print(\"seu imc e de %.2f\"%(imc))\n",
        "\n",
        "if imc <= 18:\n",
        "  print(\"Desnutrição\")\n",
        "elif imc > 18 and imc <= 25:\n",
        "  print(\"Normal\")\n",
        "elif imc > 25 and imc <= 35:\n",
        "  print(\"Sobrepeso\")\n",
        "else:\n",
        "  print(\"Obesidade\")\n",
        "\n"
      ],
      "metadata": {
        "colab": {
          "base_uri": "https://localhost:8080/"
        },
        "id": "RykCYkfP2P51",
        "outputId": "42e831c5-3aef-4364-d1c2-d847fd30fdc2"
      },
      "execution_count": null,
      "outputs": [
        {
          "output_type": "stream",
          "name": "stdout",
          "text": [
            "Qual é seu peso?(kg): 58.6\n",
            "Qual sua altura?(m): 1.57\n",
            "seu imc e de 23.77\n",
            "Normal\n"
          ]
        }
      ]
    },
    {
      "cell_type": "code",
      "source": [
        "\"\"\"\n",
        "Solução de raízes de uma equação de segundo grau\n",
        "y = ax**2 + bx + c\n",
        "Entrando com os valores de a, b, c o programa calcula as raízes\n",
        "\"\"\"\n",
        "a = float(input(\"Entre com o primeiro numero: \"))\n",
        "b = float(input(\"Entre com o segundo numero: \"))\n",
        "c = float(input(\"Entre com o terceiro numero: \"))\n",
        "\n",
        "# Calculo do delta\n",
        "delta = b**2 - 4*a*c\n",
        "print(\"Os valores das raízes %.f\"%(delta))\n",
        "\n",
        "if delta < 0:\n",
        "  print(\"esta equação não possui raízes reais\")\n",
        "elif Delta == 0:\n",
        "  raiz = -b / 2*a\n",
        "  print(\"O valor da equação é %.f\"%raiz)\n",
        "else:\n",
        "  raiz_1 = (-b - (delta**0.5))/(2*a)\n",
        "  raiz_2 = (-b + (delta**0.5))/(2*a)\n",
        "  print(f\"As raízes são {raiz_1} e {raiz_2}\")"
      ],
      "metadata": {
        "colab": {
          "base_uri": "https://localhost:8080/"
        },
        "id": "xGz8l9jb3lrw",
        "outputId": "05010ee7-0f83-4217-8942-30e1f1533bea"
      },
      "execution_count": null,
      "outputs": [
        {
          "output_type": "stream",
          "name": "stdout",
          "text": [
            "Entre com o primeiro numero: 5\n",
            "Entre com o segundo numero: 8\n",
            "Entre com o terceiro numero: 11\n",
            "Os valores das raízes -156\n",
            "esta equação não possui raízes reais\n"
          ]
        }
      ]
    },
    {
      "cell_type": "code",
      "source": [
        "a = float(input(\"Entre com o primeiro numero: \"))\n",
        "b = float(input(\"Entre com o segundo numero: \"))\n",
        "c = float(input(\"Entre com o terceiro numero: \"))\n",
        "\n",
        "# Calculo do delta\n",
        "delta = b**2 - 4*a*c\n",
        "print(\"Os valores das raízes %.f\"%(delta))\n",
        "\n",
        "if delta < 0:\n",
        "  print(\"esta equação não possui raízes reais\")\n",
        "elif Delta == 0:\n",
        "  raiz = -b / 2*a\n",
        "  print(\"O valor da equação é %.f\"%raiz)\n",
        "else:\n",
        "  raiz_1 = (-b - (delta**0.5))/(2*a)\n",
        "  raiz_2 = (-b + (delta**0.5))/(2*a)\n",
        "  print(f\"As raízes são {raiz_1} e {raiz_2}\")\n"
      ],
      "metadata": {
        "colab": {
          "base_uri": "https://localhost:8080/"
        },
        "id": "533grXrc6oAt",
        "outputId": "504cf8af-ffaa-4a10-9845-2548aa9e1650"
      },
      "execution_count": null,
      "outputs": [
        {
          "output_type": "stream",
          "name": "stdout",
          "text": [
            "Entre com o primeiro numero: 7\n",
            "Entre com o segundo numero: 25\n",
            "Entre com o terceiro numero: 50\n",
            "Os valores das raízes -775\n",
            "esta equação não possui raízes reais\n"
          ]
        }
      ]
    },
    {
      "cell_type": "markdown",
      "source": [
        "## Estruturas Aninhadas"
      ],
      "metadata": {
        "id": "Qq-37awr9xnv"
      }
    },
    {
      "cell_type": "code",
      "source": [
        "min = int(input(\"Quantos minutos voce utilizou esse mes: \"))\n",
        "if min < 200:\n",
        "  preco = 0.20\n",
        "else:\n",
        "  if min < 400:\n",
        "    preco = 0.18\n",
        "  else:\n",
        "    preco = 0.15\n",
        "\n",
        "print(f\"Voce vai pagar este mes : R$ {min*preco:6.2f}\")"
      ],
      "metadata": {
        "colab": {
          "base_uri": "https://localhost:8080/"
        },
        "id": "BUPPDNWk90xh",
        "outputId": "26a0f979-43f1-47a4-f5d8-33d47e1906eb"
      },
      "execution_count": null,
      "outputs": [
        {
          "output_type": "stream",
          "name": "stdout",
          "text": [
            "Quantos minutos voce utilizou esse mes: 300\n",
            "Voce vai pagar este mes : R$  54.00\n"
          ]
        }
      ]
    },
    {
      "cell_type": "markdown",
      "source": [
        "#Biblioteca para Gráficos\n"
      ],
      "metadata": {
        "id": "onle6nuQB-7b"
      }
    },
    {
      "cell_type": "markdown",
      "source": [
        "\n",
        "##Matplotilib"
      ],
      "metadata": {
        "id": "jDwU20o1uo4c"
      }
    },
    {
      "cell_type": "markdown",
      "source": [
        "https://matplotlib.org/stable/plot_types/basic/index.html"
      ],
      "metadata": {
        "id": "yvK2kisaDFA8"
      }
    },
    {
      "cell_type": "code",
      "source": [
        "import matplotlib.pyplot as plt\n",
        "import numpy as np\n",
        "\n",
        "plt.style.use('_mpl-gallery')\n",
        "\n",
        "# make data\n",
        "x = np.linspace(0, 10, 100)\n",
        "y = 4 + 2 * np.sin(2 * x)\n",
        "\n",
        "# plot\n",
        "fig, ax = plt.subplots()\n",
        "\n",
        "ax.plot(x, y, linewidth=2.0)  #espessura da linha\n",
        "\n",
        "ax.set(xlim=(0, 8), xticks=np.arange(1, 8),    #intervalos\n",
        "       ylim=(0, 8), yticks=np.arange(1, 8))\n",
        "\n",
        "plt.show()"
      ],
      "metadata": {
        "colab": {
          "base_uri": "https://localhost:8080/",
          "height": 251
        },
        "id": "gZXsRNXQ_DMk",
        "outputId": "1b552ab4-90b1-49f9-db04-331ed68bfa05"
      },
      "execution_count": null,
      "outputs": [
        {
          "output_type": "display_data",
          "data": {
            "text/plain": [
              "<Figure size 200x200 with 1 Axes>"
            ],
            "image/png": "[encoded data removed]"
          },
          "metadata": {}
        }
      ]
    },
    {
      "cell_type": "markdown",
      "source": [
        "## Pandas Python"
      ],
      "metadata": {
        "id": "FdUt4ctZC9NT"
      }
    },
    {
      "cell_type": "markdown",
      "source": [
        "https://pandas.pydata.org/"
      ],
      "metadata": {
        "id": "Y8Ltl9SnDMgb"
      }
    },
    {
      "cell_type": "markdown",
      "source": [
        "##NumPY"
      ],
      "metadata": {
        "id": "pap5u4u5DUcK"
      }
    },
    {
      "cell_type": "markdown",
      "source": [
        "https://numpy.org/"
      ],
      "metadata": {
        "id": "lsXNlCBaDYUC"
      }
    },
    {
      "cell_type": "markdown",
      "source": [
        "#Tarefa para o final da disciplina / final de junho\n",
        "\n",
        "Achar biblioteca da nossa area para aplicar na tese"
      ],
      "metadata": {
        "id": "C34onQk7EV09"
      }
    },
    {
      "cell_type": "markdown",
      "source": [
        "#Repetições\n"
      ],
      "metadata": {
        "id": "2naGaOl5hLom"
      }
    },
    {
      "cell_type": "code",
      "source": [
        "num = float(input(\"Entre com o número; \"))\n",
        "\n",
        "if num >= 0:\n",
        "  if num == 0:\n",
        "    print(\"zero\")\n",
        "  else:\n",
        "    print(\"Número positivo\")\n",
        "else:\n",
        "  print(\"Número negativo\")"
      ],
      "metadata": {
        "colab": {
          "base_uri": "https://localhost:8080/"
        },
        "id": "-5KTRdANhShl",
        "outputId": "27d8b3a4-2d1f-4aee-a5b9-c58f7ccc9bc4"
      },
      "execution_count": null,
      "outputs": [
        {
          "output_type": "stream",
          "name": "stdout",
          "text": [
            "Entre com o número; 0\n",
            "zero\n"
          ]
        }
      ]
    },
    {
      "cell_type": "code",
      "source": [
        "x = 1\n",
        "while x <= 15:\n",
        "  print(x)\n",
        "  x = x + 1"
      ],
      "metadata": {
        "colab": {
          "base_uri": "https://localhost:8080/"
        },
        "id": "YYzRtI7qh2gc",
        "outputId": "0bfdaa9a-e853-41cc-8573-af168444dbdb"
      },
      "execution_count": null,
      "outputs": [
        {
          "output_type": "stream",
          "name": "stdout",
          "text": [
            "1\n",
            "2\n",
            "3\n",
            "4\n",
            "5\n",
            "6\n",
            "7\n",
            "8\n",
            "9\n",
            "10\n",
            "11\n",
            "12\n",
            "13\n",
            "14\n",
            "15\n"
          ]
        }
      ]
    },
    {
      "cell_type": "code",
      "source": [
        "contador = 0\n",
        "\n",
        "while contador < 4:\n",
        "  print(\"Dentro do while\")\n",
        "  contador = contador + 1 \n",
        "else:\n",
        "  print(\"Dentro do else\")"
      ],
      "metadata": {
        "colab": {
          "base_uri": "https://localhost:8080/"
        },
        "id": "rrcfDoYCinSy",
        "outputId": "2cd3fbb7-2c4e-4f78-af73-4141615ab983"
      },
      "execution_count": null,
      "outputs": [
        {
          "output_type": "stream",
          "name": "stdout",
          "text": [
            "Dentro do while\n",
            "Dentro do while\n",
            "Dentro do while\n",
            "Dentro do while\n",
            "Dentro do else\n"
          ]
        }
      ]
    },
    {
      "cell_type": "code",
      "source": [
        "contador = 0\n",
        "\n",
        "while contador < 4:\n",
        "  print(\"Dentro do while\")\n",
        "  contador += 1 \n",
        "else:\n",
        "  print(\"Dentro do else\")"
      ],
      "metadata": {
        "colab": {
          "base_uri": "https://localhost:8080/"
        },
        "id": "rOzy-HXAjAnl",
        "outputId": "fbd78e71-be60-4ca7-d568-624d6a805d50"
      },
      "execution_count": null,
      "outputs": [
        {
          "output_type": "stream",
          "name": "stdout",
          "text": [
            "Dentro do while\n",
            "Dentro do while\n",
            "Dentro do while\n",
            "Dentro do while\n",
            "Dentro do else\n"
          ]
        }
      ]
    },
    {
      "cell_type": "markdown",
      "source": [
        "#Exercicios \n"
      ],
      "metadata": {
        "id": "6btkxaRZjoBE"
      }
    },
    {
      "cell_type": "markdown",
      "source": [
        "##1) Imprimir contagem regressiva até 10 para lançamento de **foguete**"
      ],
      "metadata": {
        "id": "lgHhxEIXq8t8"
      }
    },
    {
      "cell_type": "code",
      "source": [
        "x = 10\n",
        "while x >=0:\n",
        "  print(x)\n",
        "  x = x - 1\n",
        "else:\n",
        "  print(\"Fogo\")"
      ],
      "metadata": {
        "colab": {
          "base_uri": "https://localhost:8080/"
        },
        "id": "Y4Uy7x2ykJ10",
        "outputId": "e8f4a4d5-3206-4304-efe7-6d597f34b946"
      },
      "execution_count": null,
      "outputs": [
        {
          "output_type": "stream",
          "name": "stdout",
          "text": [
            "10\n",
            "9\n",
            "8\n",
            "7\n",
            "6\n",
            "5\n",
            "4\n",
            "3\n",
            "2\n",
            "1\n",
            "0\n",
            "Fogo\n"
          ]
        }
      ]
    },
    {
      "cell_type": "code",
      "source": [
        "contador = 10\n",
        "\n",
        "while contador >= 0:\n",
        "  print(contador)\n",
        "  contador -= 1 \n",
        "else:\n",
        "  print(\"Fogo\")"
      ],
      "metadata": {
        "colab": {
          "base_uri": "https://localhost:8080/"
        },
        "id": "ZwLKFly3kODk",
        "outputId": "a9873a64-d1c3-4f85-dff7-a0659c23f8be"
      },
      "execution_count": null,
      "outputs": [
        {
          "output_type": "stream",
          "name": "stdout",
          "text": [
            "10\n",
            "9\n",
            "8\n",
            "7\n",
            "6\n",
            "5\n",
            "4\n",
            "3\n",
            "2\n",
            "1\n",
            "0\n",
            "Fogo\n"
          ]
        }
      ]
    },
    {
      "cell_type": "markdown",
      "source": [
        "##2) Quantos numeros pares tem dentro de um intervalo?"
      ],
      "metadata": {
        "id": "0MF6jg6qlUAl"
      }
    },
    {
      "cell_type": "code",
      "source": [
        "num1 = int(input(\"Entre com o valor inicial: \"))\n",
        "num2 = int(input(\"Entre com o valor final: \"))\n",
        "\n",
        "contador_pares = 0\n",
        "while num1 <= num2:\n",
        "  if num1 % 2 == 0:\n",
        "    contador_pares += 1\n",
        "  num1 += 1\n",
        "print(contador_pares)"
      ],
      "metadata": {
        "colab": {
          "base_uri": "https://localhost:8080/"
        },
        "id": "1Px1jAlMlfY5",
        "outputId": "5ad37072-de04-43c9-dd7d-b498b29b74b4"
      },
      "execution_count": null,
      "outputs": [
        {
          "output_type": "stream",
          "name": "stdout",
          "text": [
            "Entre com o valor inicial: 10\n",
            "Entre com o valor final: 20\n",
            "6\n"
          ]
        }
      ]
    },
    {
      "cell_type": "code",
      "source": [
        "fatorial = 5\n",
        "\n",
        "while fatorial >= 0:\n",
        "  print(fatorial)\n",
        "  fatorial -= 1 \n",
        "else:\n",
        "  print(\"Fog\")"
      ],
      "metadata": {
        "colab": {
          "base_uri": "https://localhost:8080/"
        },
        "id": "at5d9f6-mlXd",
        "outputId": "20d7c43c-77a9-4be7-e780-5e319785ef58"
      },
      "execution_count": null,
      "outputs": [
        {
          "output_type": "stream",
          "name": "stdout",
          "text": [
            "5\n",
            "4\n",
            "3\n",
            "2\n",
            "1\n",
            "0\n",
            "Fogo\n"
          ]
        }
      ]
    },
    {
      "cell_type": "code",
      "source": [
        "n = int(input(\"Entre com valor inteiro: \"))\n",
        "num = n\n",
        "resultado = 1\n",
        "\n",
        "if n < 0:\n",
        "  print(\"não é possivel calcular fatorial de numero negativo\")\n",
        "elif n == 0:\n",
        "  print(\"O fatorial de 0 é 1\")\n",
        "else:\n",
        "  while n>1:\n",
        "    resultado = resultado * n\n",
        "    n -= 1\n",
        "  print(f\"O valor fatorial de {num} é {resultado}\")"
      ],
      "metadata": {
        "colab": {
          "base_uri": "https://localhost:8080/"
        },
        "id": "epPfslabnRQk",
        "outputId": "12f69601-abc8-4d26-82d5-e3d94a57d8c3"
      },
      "execution_count": null,
      "outputs": [
        {
          "output_type": "stream",
          "name": "stdout",
          "text": [
            "Entre com valor inteiro: 6\n",
            "O valor fatorial de 6 é 720\n"
          ]
        }
      ]
    },
    {
      "cell_type": "code",
      "source": [
        "n = int(input(\"Fatore valor: \"))\n",
        "\n",
        "fatorial = n\n",
        "while num1 <= num2:\n",
        "  if num1 % 2 == 0:\n",
        "     += 1\n",
        "  num1 += 1\n",
        "print()"
      ],
      "metadata": {
        "colab": {
          "base_uri": "https://localhost:8080/",
          "height": 131
        },
        "outputId": "af903ce7-7bfa-4030-ee88-f988e6398ebc",
        "id": "Mut5LsRinlMP"
      },
      "execution_count": null,
      "outputs": [
        {
          "output_type": "error",
          "ename": "SyntaxError",
          "evalue": "ignored",
          "traceback": [
            "\u001b[0;36m  File \u001b[0;32m\"<ipython-input-4-f892ff568121>\"\u001b[0;36m, line \u001b[0;32m6\u001b[0m\n\u001b[0;31m    += 1\u001b[0m\n\u001b[0m    ^\u001b[0m\n\u001b[0;31mSyntaxError\u001b[0m\u001b[0;31m:\u001b[0m invalid syntax\n"
          ]
        }
      ]
    },
    {
      "cell_type": "markdown",
      "source": [
        "##Interrompendo a repetição\n",
        "  3) Calculadora de somar, inserindo o conceito de break\n"
      ],
      "metadata": {
        "id": "JrMCZ2vQqFF8"
      }
    },
    {
      "cell_type": "code",
      "source": [
        "soma = 0\n",
        "\n",
        "while True:\n",
        "  valor = int(input(\"Digite um número para somar ou 0 para sair: \"))\n",
        "  if valor == 0:\n",
        "    break\n",
        "  soma = soma + valor\n",
        "print(soma)"
      ],
      "metadata": {
        "colab": {
          "base_uri": "https://localhost:8080/"
        },
        "id": "bADFI7ZCqJNM",
        "outputId": "b1284e7c-4a36-482e-c476-c6d9e154abbd"
      },
      "execution_count": null,
      "outputs": [
        {
          "output_type": "stream",
          "name": "stdout",
          "text": [
            "Digite um número para somar ou 0 para sair: 10\n",
            "Digite um número para somar ou 0 para sair: 20\n",
            "Digite um número para somar ou 0 para sair: 30\n",
            "Digite um número para somar ou 0 para sair: 40\n",
            "Digite um número para somar ou 0 para sair: 0\n",
            "100\n"
          ]
        }
      ]
    },
    {
      "cell_type": "markdown",
      "source": [
        "##4) Calculadora de somar e média"
      ],
      "metadata": {
        "id": "RQdrQRSisTqc"
      }
    },
    {
      "cell_type": "code",
      "source": [
        "soma = 0\n",
        "n = 0\n",
        "\n",
        "while True:\n",
        "  valor = int(input(\"Digite um número para somar ou 0 para sair: \"))\n",
        "  if valor == 0:\n",
        "    break\n",
        "  soma = soma + valor\n",
        "  n = n + 1\n",
        "  print(f\"A soma dos numeros digitados foi {soma}\")\n",
        "  print(f\"O numero dos valores digitados foi {n}\")\n",
        "  print(f\"A média aritmética dos numeros digitados foi {soma/n}\")"
      ],
      "metadata": {
        "colab": {
          "base_uri": "https://localhost:8080/"
        },
        "id": "YkMHj1rkqPwU",
        "outputId": "da3490a8-1df0-4ac7-bc6f-508c06767ae7"
      },
      "execution_count": null,
      "outputs": [
        {
          "name": "stdout",
          "output_type": "stream",
          "text": [
            "Digite um número para somar ou 0 para sair: 10\n",
            "A soma dos numeros digitados foi 10\n",
            "O numero dos valores digitados foi 1\n",
            "A média aritmética dos numeros digitados foi 10.0\n",
            "Digite um número para somar ou 0 para sair: 5\n",
            "A soma dos numeros digitados foi 15\n",
            "O numero dos valores digitados foi 2\n",
            "A média aritmética dos numeros digitados foi 7.5\n",
            "Digite um número para somar ou 0 para sair: 6\n",
            "A soma dos numeros digitados foi 21\n",
            "O numero dos valores digitados foi 3\n",
            "A média aritmética dos numeros digitados foi 7.0\n",
            "Digite um número para somar ou 0 para sair: 8\n",
            "A soma dos numeros digitados foi 29\n",
            "O numero dos valores digitados foi 4\n",
            "A média aritmética dos numeros digitados foi 7.25\n",
            "Digite um número para somar ou 0 para sair: 9\n",
            "A soma dos numeros digitados foi 38\n",
            "O numero dos valores digitados foi 5\n",
            "A média aritmética dos numeros digitados foi 7.6\n",
            "Digite um número para somar ou 0 para sair: 0\n"
          ]
        }
      ]
    },
    {
      "cell_type": "markdown",
      "source": [
        "#Usando while"
      ],
      "metadata": {
        "id": "jhO6B97HtlAj"
      }
    },
    {
      "cell_type": "code",
      "source": [
        "cor = [\"vermelho\", \"verde\", \"azul\", \"amarelo\"]\n",
        "i=0\n",
        "while i< len(cor):\n",
        "  print(cor[i])\n",
        "  i = i + 1"
      ],
      "metadata": {
        "colab": {
          "base_uri": "https://localhost:8080/"
        },
        "id": "QVUZaw5vs8yX",
        "outputId": "e3ff2ebf-1ff3-4509-aa03-871b695b3ef3"
      },
      "execution_count": null,
      "outputs": [
        {
          "output_type": "stream",
          "name": "stdout",
          "text": [
            "vermelho\n",
            "verde\n",
            "azul\n",
            "amarelo\n"
          ]
        }
      ]
    },
    {
      "cell_type": "code",
      "source": [
        "cor = [\"vermelho\", \"verde\", \"azul\", \"amarelo\"]\n",
        "for i in range(len(cor)):\n",
        "  print(cor[i])"
      ],
      "metadata": {
        "colab": {
          "base_uri": "https://localhost:8080/"
        },
        "id": "62Rbgf6ZutfU",
        "outputId": "0c37bdcb-8ad4-46ba-d027-c05155a1f487"
      },
      "execution_count": null,
      "outputs": [
        {
          "output_type": "stream",
          "name": "stdout",
          "text": [
            "vermelho\n",
            "verde\n",
            "azul\n",
            "amarelo\n"
          ]
        }
      ]
    },
    {
      "cell_type": "markdown",
      "source": [
        "#Range"
      ],
      "metadata": {
        "id": "yHAOriX7vOLl"
      }
    },
    {
      "cell_type": "markdown",
      "source": [
        "https://pythonacademy.com.br/blog/a-funcao-range-do-python\n"
      ],
      "metadata": {
        "id": "FHG_nJZrwqPs"
      }
    },
    {
      "cell_type": "code",
      "source": [
        "cor = [\"vermelho\", \"verde\", \"azul\", \"amarelo\"]\n",
        "for i in range(len(cor)):\n",
        "  print(cor[i])"
      ],
      "metadata": {
        "colab": {
          "base_uri": "https://localhost:8080/"
        },
        "id": "vwjFEbLavTjb",
        "outputId": "e1674d4e-2744-46c1-ff1c-7248c49db1ab"
      },
      "execution_count": null,
      "outputs": [
        {
          "output_type": "stream",
          "name": "stdout",
          "text": [
            "vermelho\n",
            "verde\n",
            "azul\n",
            "amarelo\n"
          ]
        }
      ]
    },
    {
      "cell_type": "code",
      "source": [
        "cor = [\"vermelho\", \"verde\", \"azul\", \"amarelo\"]\n",
        "for i in cor:\n",
        "  print(i)"
      ],
      "metadata": {
        "colab": {
          "base_uri": "https://localhost:8080/"
        },
        "id": "9tLcvMFgwwRV",
        "outputId": "ba343b84-b7ad-419c-c6fd-0c0505801272"
      },
      "execution_count": null,
      "outputs": [
        {
          "output_type": "stream",
          "name": "stdout",
          "text": [
            "vermelho\n",
            "verde\n",
            "azul\n",
            "amarelo\n"
          ]
        }
      ]
    },
    {
      "cell_type": "code",
      "source": [
        "notas = [6, 7, 5, 8, 9]\n",
        "soma = 0 \n",
        "i = 0\n",
        "\n",
        "while i < len(notas):\n",
        "  soma = soma + notas[i]\n",
        "  i = i + 1\n",
        "  media = soma/i\n",
        "\n",
        "print(media)"
      ],
      "metadata": {
        "colab": {
          "base_uri": "https://localhost:8080/"
        },
        "id": "zNU5uWCLw5Q0",
        "outputId": "6fb7ab0e-0e81-4bf2-8556-da16adea2312"
      },
      "execution_count": null,
      "outputs": [
        {
          "output_type": "stream",
          "name": "stdout",
          "text": [
            "7.0\n"
          ]
        }
      ]
    },
    {
      "cell_type": "markdown",
      "source": [
        "#Listas"
      ],
      "metadata": {
        "id": "drF1tfmtyjTs"
      }
    },
    {
      "cell_type": "code",
      "source": [
        "L = []\n",
        "print(L)"
      ],
      "metadata": {
        "colab": {
          "base_uri": "https://localhost:8080/"
        },
        "id": "nUcEsslzyCLU",
        "outputId": "1c75495d-cceb-4387-bbbf-d0f2ca678759"
      },
      "execution_count": null,
      "outputs": [
        {
          "output_type": "stream",
          "name": "stdout",
          "text": [
            "[]\n"
          ]
        }
      ]
    },
    {
      "cell_type": "code",
      "source": [
        "z = [15, 8, 9]\n",
        "print(z[0])"
      ],
      "metadata": {
        "colab": {
          "base_uri": "https://localhost:8080/"
        },
        "id": "F6Bq8RBGyqgk",
        "outputId": "3cbb02df-bb56-411a-8322-30f28736fd79"
      },
      "execution_count": null,
      "outputs": [
        {
          "output_type": "stream",
          "name": "stdout",
          "text": [
            "15\n"
          ]
        }
      ]
    },
    {
      "cell_type": "code",
      "source": [
        "print(z[2])"
      ],
      "metadata": {
        "colab": {
          "base_uri": "https://localhost:8080/"
        },
        "id": "ptFc4D1By1ME",
        "outputId": "4504270d-cf8c-432e-bb6b-e9169414f593"
      },
      "execution_count": null,
      "outputs": [
        {
          "output_type": "stream",
          "name": "stdout",
          "text": [
            "9\n"
          ]
        }
      ]
    },
    {
      "cell_type": "code",
      "source": [
        "z[0]=7       #lista\n",
        "print(z)\n",
        "type(z)"
      ],
      "metadata": {
        "colab": {
          "base_uri": "https://localhost:8080/"
        },
        "id": "oA0jygGiy8zk",
        "outputId": "f110f124-0ec9-43b7-c546-c0b089eaf04d"
      },
      "execution_count": null,
      "outputs": [
        {
          "output_type": "stream",
          "name": "stdout",
          "text": [
            "[7, 8, 9]\n"
          ]
        },
        {
          "output_type": "execute_result",
          "data": {
            "text/plain": [
              "list"
            ]
          },
          "metadata": {},
          "execution_count": 45
        }
      ]
    },
    {
      "cell_type": "code",
      "source": [
        "print(z[0])"
      ],
      "metadata": {
        "colab": {
          "base_uri": "https://localhost:8080/"
        },
        "id": "blBI4646zFIE",
        "outputId": "96298a67-5688-4b9c-aba9-46c5da296f82"
      },
      "execution_count": null,
      "outputs": [
        {
          "output_type": "stream",
          "name": "stdout",
          "text": [
            "7\n"
          ]
        }
      ]
    },
    {
      "cell_type": "code",
      "source": [
        "T = (15, 8, 9)    #tupla nao recebe i\n",
        "type(T)"
      ],
      "metadata": {
        "colab": {
          "base_uri": "https://localhost:8080/"
        },
        "id": "LjakzZezzJ-0",
        "outputId": "5331dc58-f871-41b8-efb6-b45129109315"
      },
      "execution_count": null,
      "outputs": [
        {
          "output_type": "execute_result",
          "data": {
            "text/plain": [
              "tuple"
            ]
          },
          "metadata": {},
          "execution_count": 46
        }
      ]
    },
    {
      "cell_type": "code",
      "source": [
        "z = [7, 8, 9]\n",
        "print(z)"
      ],
      "metadata": {
        "colab": {
          "base_uri": "https://localhost:8080/"
        },
        "id": "4UG6F7yw0MlT",
        "outputId": "3c9279b7-52da-4255-befa-68169b68d7f8"
      },
      "execution_count": null,
      "outputs": [
        {
          "output_type": "stream",
          "name": "stdout",
          "text": [
            "[7, 8, 9]\n"
          ]
        }
      ]
    },
    {
      "cell_type": "code",
      "source": [
        "z.append(10)    #append = acrescentar\n",
        "print(z)"
      ],
      "metadata": {
        "colab": {
          "base_uri": "https://localhost:8080/"
        },
        "id": "OywhHZS2zm8k",
        "outputId": "12a4b527-1065-4e3b-8ca8-060dff75eca9"
      },
      "execution_count": null,
      "outputs": [
        {
          "output_type": "stream",
          "name": "stdout",
          "text": [
            "[7, 8, 9, 10, 10]\n"
          ]
        }
      ]
    },
    {
      "cell_type": "code",
      "source": [
        "a = [1, 2, 3]\n",
        "b = [4, 5, 6]\n",
        "c = a + b\n",
        "print(c)"
      ],
      "metadata": {
        "colab": {
          "base_uri": "https://localhost:8080/"
        },
        "id": "NycwogQ70CbF",
        "outputId": "8034a20a-fbb5-4aa7-cde2-6f1b11a076e9"
      },
      "execution_count": null,
      "outputs": [
        {
          "output_type": "stream",
          "name": "stdout",
          "text": [
            "[1, 2, 3, 4, 5, 6]\n"
          ]
        }
      ]
    },
    {
      "cell_type": "code",
      "source": [
        "a = [1, 2, 3]     #ordem invertida\n",
        "b = [4, 5, 6]\n",
        "c = b + a\n",
        "print(c)"
      ],
      "metadata": {
        "colab": {
          "base_uri": "https://localhost:8080/"
        },
        "id": "j45MTwNl1F6d",
        "outputId": "6c2ec607-2832-42b7-b8f1-f2603477a7b1"
      },
      "execution_count": null,
      "outputs": [
        {
          "output_type": "stream",
          "name": "stdout",
          "text": [
            "[4, 5, 6, 1, 2, 3]\n"
          ]
        }
      ]
    },
    {
      "cell_type": "markdown",
      "source": [
        "https://docs.python.org/3/howto/sorting.html\n"
      ],
      "metadata": {
        "id": "tXwN9W141Zqj"
      }
    },
    {
      "cell_type": "code",
      "source": [
        "a = [1, 2, 3]     #ordem invertida\n",
        "b = [4, 5, 6]\n",
        "c = b + a\n",
        "c.sort()\n",
        "print(c)"
      ],
      "metadata": {
        "colab": {
          "base_uri": "https://localhost:8080/"
        },
        "id": "0Yr1-xRr1cmT",
        "outputId": "e6c96455-b8e5-467c-dc74-d833523caa0d"
      },
      "execution_count": null,
      "outputs": [
        {
          "output_type": "stream",
          "name": "stdout",
          "text": [
            "[1, 2, 3, 4, 5, 6]\n"
          ]
        }
      ]
    },
    {
      "cell_type": "code",
      "source": [
        "del  z[3]\n",
        "print(z)"
      ],
      "metadata": {
        "colab": {
          "base_uri": "https://localhost:8080/"
        },
        "id": "QQ6MNb0C0910",
        "outputId": "04abcb0c-8c74-4e2b-f518-c11cc6038c8f"
      },
      "execution_count": null,
      "outputs": [
        {
          "output_type": "stream",
          "name": "stdout",
          "text": [
            "[7, 8, 9, 10]\n"
          ]
        }
      ]
    },
    {
      "cell_type": "code",
      "source": [
        "print(sum(z))"
      ],
      "metadata": {
        "colab": {
          "base_uri": "https://localhost:8080/"
        },
        "id": "Qqf2GIvZ1mLT",
        "outputId": "5ac6ed20-4612-4275-93c8-9ce989337ed9"
      },
      "execution_count": null,
      "outputs": [
        {
          "output_type": "stream",
          "name": "stdout",
          "text": [
            "34\n"
          ]
        }
      ]
    },
    {
      "cell_type": "code",
      "source": [
        "print(max(z))"
      ],
      "metadata": {
        "colab": {
          "base_uri": "https://localhost:8080/"
        },
        "id": "HU-P_7mj1yUE",
        "outputId": "641cd0b7-e64e-4a6c-ff37-2597abb325de"
      },
      "execution_count": null,
      "outputs": [
        {
          "output_type": "stream",
          "name": "stdout",
          "text": [
            "10\n"
          ]
        }
      ]
    },
    {
      "cell_type": "code",
      "source": [
        "print(min(z))"
      ],
      "metadata": {
        "colab": {
          "base_uri": "https://localhost:8080/"
        },
        "id": "zFzGjFWt12lk",
        "outputId": "96cc4cb8-f92c-4da4-eddc-0328c9beaf01"
      },
      "execution_count": null,
      "outputs": [
        {
          "output_type": "stream",
          "name": "stdout",
          "text": [
            "7\n"
          ]
        }
      ]
    },
    {
      "cell_type": "markdown",
      "source": [
        "##Fibonacci number"
      ],
      "metadata": {
        "id": "QHsvSA6i2BN0"
      }
    },
    {
      "cell_type": "code",
      "source": [
        "def Fib(n):\n",
        "  if n<= 2:\n",
        "    return 1\n",
        "  else:\n",
        "    return Fib(n-1) + Fib(n-2)"
      ],
      "metadata": {
        "id": "FdOSP5cf148U"
      },
      "execution_count": null,
      "outputs": []
    },
    {
      "cell_type": "code",
      "source": [
        "Fib(38)"
      ],
      "metadata": {
        "colab": {
          "base_uri": "https://localhost:8080/"
        },
        "id": "s8LWj5g12r3M",
        "outputId": "48a9fb45-aa4d-4895-fb82-f7eb09fcd81e"
      },
      "execution_count": null,
      "outputs": [
        {
          "output_type": "execute_result",
          "data": {
            "text/plain": [
              "39088169"
            ]
          },
          "metadata": {},
          "execution_count": 63
        }
      ]
    },
    {
      "cell_type": "code",
      "source": [
        "def Fib2(n):\n",
        "\n",
        "  f = [0, 1]\n",
        "\n",
        "  for i in range(2, n+1):\n",
        "      f.append(f[i-1]+ f[i-2])\n",
        "  print(f)\n",
        "  return f[n]"
      ],
      "metadata": {
        "id": "C2Qvmk9P2vUE"
      },
      "execution_count": null,
      "outputs": []
    },
    {
      "cell_type": "code",
      "source": [
        "Fib2(38)"
      ],
      "metadata": {
        "colab": {
          "base_uri": "https://localhost:8080/"
        },
        "id": "Ea4Kxn_B3kn0",
        "outputId": "6a6b3c62-c1be-4741-ecce-65617c1db05f"
      },
      "execution_count": null,
      "outputs": [
        {
          "output_type": "stream",
          "name": "stdout",
          "text": [
            "[0, 1, 1, 2, 3, 5, 8, 13, 21, 34, 55, 89, 144, 233, 377, 610, 987, 1597, 2584, 4181, 6765, 10946, 17711, 28657, 46368, 75025, 121393, 196418, 317811, 514229, 832040, 1346269, 2178309, 3524578, 5702887, 9227465, 14930352, 24157817, 39088169]\n"
          ]
        },
        {
          "output_type": "execute_result",
          "data": {
            "text/plain": [
              "39088169"
            ]
          },
          "metadata": {},
          "execution_count": 67
        }
      ]
    },
    {
      "cell_type": "code",
      "source": [],
      "metadata": {
        "id": "Fmf8WmGV3x2T"
      },
      "execution_count": null,
      "outputs": []
    },
    {
      "cell_type": "markdown",
      "source": [
        "# Primeira Função"
      ],
      "metadata": {
        "id": "cVwkmU_vzm-S"
      }
    },
    {
      "cell_type": "code",
      "source": [
        "def soma (a, b):\n",
        "  print (a + b)"
      ],
      "metadata": {
        "id": "QIq4e3vWzrIA"
      },
      "execution_count": null,
      "outputs": []
    },
    {
      "cell_type": "code",
      "source": [
        "soma (10, 2)"
      ],
      "metadata": {
        "colab": {
          "base_uri": "https://localhost:8080/"
        },
        "id": "3pInaZxMzxl4",
        "outputId": "3f1ba4ba-be88-4e4e-81c0-cd87bfb1a0c0"
      },
      "execution_count": null,
      "outputs": [
        {
          "output_type": "stream",
          "name": "stdout",
          "text": [
            "12\n"
          ]
        }
      ]
    },
    {
      "cell_type": "code",
      "source": [
        "soma (7, 8)"
      ],
      "metadata": {
        "colab": {
          "base_uri": "https://localhost:8080/"
        },
        "id": "F67sdfjPz7j4",
        "outputId": "eca966ff-e819-4f59-a716-c49eb574cecf"
      },
      "execution_count": null,
      "outputs": [
        {
          "output_type": "stream",
          "name": "stdout",
          "text": [
            "15\n"
          ]
        }
      ]
    },
    {
      "cell_type": "code",
      "source": [
        "def soma(a, b):      #define a função e mostra o output\n",
        "  return a + b"
      ],
      "metadata": {
        "id": "vTm8xeYXz_aY"
      },
      "execution_count": null,
      "outputs": []
    },
    {
      "cell_type": "code",
      "source": [
        "soma (10, 2)"
      ],
      "metadata": {
        "colab": {
          "base_uri": "https://localhost:8080/"
        },
        "id": "bViT1XaF0Ni5",
        "outputId": "9db542c8-68ca-4e3f-bc94-97cd942d56ec"
      },
      "execution_count": null,
      "outputs": [
        {
          "output_type": "execute_result",
          "data": {
            "text/plain": [
              "12"
            ]
          },
          "metadata": {},
          "execution_count": 5
        }
      ]
    },
    {
      "cell_type": "markdown",
      "source": [
        "#Exercicio Par/Impar (return)"
      ],
      "metadata": {
        "id": "M6C-J0YZ3Oni"
      }
    },
    {
      "cell_type": "code",
      "source": [
        "def epar(n):\n",
        "  return n % 2 ==0\n"
      ],
      "metadata": {
        "id": "6dh7b2kC0S1Z"
      },
      "execution_count": null,
      "outputs": []
    },
    {
      "cell_type": "code",
      "source": [
        "epar(20)"
      ],
      "metadata": {
        "colab": {
          "base_uri": "https://localhost:8080/"
        },
        "id": "Phr2ad4S3GSb",
        "outputId": "5c7ab101-b40d-4f73-cbda-d266d3316cf1"
      },
      "execution_count": null,
      "outputs": [
        {
          "output_type": "execute_result",
          "data": {
            "text/plain": [
              "True"
            ]
          },
          "metadata": {},
          "execution_count": 22
        }
      ]
    },
    {
      "cell_type": "code",
      "source": [
        "def par_ou_impar(n):\n",
        "  if epar(n):\n",
        "    return \"par\"\n",
        "  else:\n",
        "    return \"impar\""
      ],
      "metadata": {
        "id": "dz5FBCqH1IJR"
      },
      "execution_count": null,
      "outputs": []
    },
    {
      "cell_type": "code",
      "source": [
        "par_ou_impar(20)"
      ],
      "metadata": {
        "colab": {
          "base_uri": "https://localhost:8080/",
          "height": 35
        },
        "id": "BL5s1e-T20AZ",
        "outputId": "a9ecba9c-11ab-4973-82c4-337810fe2e99"
      },
      "execution_count": null,
      "outputs": [
        {
          "output_type": "execute_result",
          "data": {
            "text/plain": [
              "'par'"
            ],
            "application/vnd.google.colaboratory.intrinsic+json": {
              "type": "string"
            }
          },
          "metadata": {},
          "execution_count": 24
        }
      ]
    },
    {
      "cell_type": "markdown",
      "source": [
        "#help"
      ],
      "metadata": {
        "id": "jnKIfhH514H4"
      }
    },
    {
      "cell_type": "code",
      "source": [
        "help(soma)"
      ],
      "metadata": {
        "colab": {
          "base_uri": "https://localhost:8080/"
        },
        "id": "JNaG9w8O15Uo",
        "outputId": "c7ca917f-63e9-443f-a2fb-122461f33478"
      },
      "execution_count": null,
      "outputs": [
        {
          "output_type": "stream",
          "name": "stdout",
          "text": [
            "Help on function soma in module __main__:\n",
            "\n",
            "soma(a, b)\n",
            "\n"
          ]
        }
      ]
    },
    {
      "cell_type": "code",
      "source": [
        "help(print)"
      ],
      "metadata": {
        "colab": {
          "base_uri": "https://localhost:8080/"
        },
        "id": "779fCIcr166o",
        "outputId": "71c59268-fe64-498b-a9fd-6fc06935a2e7"
      },
      "execution_count": null,
      "outputs": [
        {
          "output_type": "stream",
          "name": "stdout",
          "text": [
            "Help on built-in function print in module builtins:\n",
            "\n",
            "print(...)\n",
            "    print(value, ..., sep=' ', end='\\n', file=sys.stdout, flush=False)\n",
            "    \n",
            "    Prints the values to a stream, or to sys.stdout by default.\n",
            "    Optional keyword arguments:\n",
            "    file:  a file-like object (stream); defaults to the current sys.stdout.\n",
            "    sep:   string inserted between values, default a space.\n",
            "    end:   string appended after the last value, default a newline.\n",
            "    flush: whether to forcibly flush the stream.\n",
            "\n"
          ]
        }
      ]
    },
    {
      "cell_type": "code",
      "source": [
        "help(np.arange)   #cria vetor de valores igualmente espaçados"
      ],
      "metadata": {
        "colab": {
          "base_uri": "https://localhost:8080/"
        },
        "id": "XDoKY_Kw5ZVI",
        "outputId": "5ff68b67-718a-4b4b-bc13-3bf41aa39b6c"
      },
      "execution_count": null,
      "outputs": [
        {
          "output_type": "stream",
          "name": "stdout",
          "text": [
            "Help on built-in function arange in module numpy:\n",
            "\n",
            "arange(...)\n",
            "    arange([start,] stop[, step,], dtype=None, *, like=None)\n",
            "    \n",
            "    Return evenly spaced values within a given interval.\n",
            "    \n",
            "    Values are generated within the half-open interval ``[start, stop)``\n",
            "    (in other words, the interval including `start` but excluding `stop`).\n",
            "    For integer arguments the function is equivalent to the Python built-in\n",
            "    `range` function, but returns an ndarray rather than a list.\n",
            "    \n",
            "    When using a non-integer step, such as 0.1, it is often better to use\n",
            "    `numpy.linspace`. See the warnings section below for more information.\n",
            "    \n",
            "    Parameters\n",
            "    ----------\n",
            "    start : integer or real, optional\n",
            "        Start of interval.  The interval includes this value.  The default\n",
            "        start value is 0.\n",
            "    stop : integer or real\n",
            "        End of interval.  The interval does not include this value, except\n",
            "        in some cases where `step` is not an integer and floating point\n",
            "        round-off affects the length of `out`.\n",
            "    step : integer or real, optional\n",
            "        Spacing between values.  For any output `out`, this is the distance\n",
            "        between two adjacent values, ``out[i+1] - out[i]``.  The default\n",
            "        step size is 1.  If `step` is specified as a position argument,\n",
            "        `start` must also be given.\n",
            "    dtype : dtype\n",
            "        The type of the output array.  If `dtype` is not given, infer the data\n",
            "        type from the other input arguments.\n",
            "    like : array_like\n",
            "        Reference object to allow the creation of arrays which are not\n",
            "        NumPy arrays. If an array-like passed in as ``like`` supports\n",
            "        the ``__array_function__`` protocol, the result will be defined\n",
            "        by it. In this case, it ensures the creation of an array object\n",
            "        compatible with that passed in via this argument.\n",
            "    \n",
            "        .. versionadded:: 1.20.0\n",
            "    \n",
            "    Returns\n",
            "    -------\n",
            "    arange : ndarray\n",
            "        Array of evenly spaced values.\n",
            "    \n",
            "        For floating point arguments, the length of the result is\n",
            "        ``ceil((stop - start)/step)``.  Because of floating point overflow,\n",
            "        this rule may result in the last element of `out` being greater\n",
            "        than `stop`.\n",
            "    \n",
            "    Warnings\n",
            "    --------\n",
            "    The length of the output might not be numerically stable.\n",
            "    \n",
            "    Another stability issue is due to the internal implementation of\n",
            "    `numpy.arange`.\n",
            "    The actual step value used to populate the array is\n",
            "    ``dtype(start + step) - dtype(start)`` and not `step`. Precision loss\n",
            "    can occur here, due to casting or due to using floating points when\n",
            "    `start` is much larger than `step`. This can lead to unexpected\n",
            "    behaviour. For example::\n",
            "    \n",
            "      >>> np.arange(0, 5, 0.5, dtype=int)\n",
            "      array([0, 0, 0, 0, 0, 0, 0, 0, 0, 0])\n",
            "      >>> np.arange(-3, 3, 0.5, dtype=int)\n",
            "      array([-3, -2, -1,  0,  1,  2,  3,  4,  5,  6,  7,  8])\n",
            "    \n",
            "    In such cases, the use of `numpy.linspace` should be preferred.\n",
            "    \n",
            "    See Also\n",
            "    --------\n",
            "    numpy.linspace : Evenly spaced numbers with careful handling of endpoints.\n",
            "    numpy.ogrid: Arrays of evenly spaced numbers in N-dimensions.\n",
            "    numpy.mgrid: Grid-shaped arrays of evenly spaced numbers in N-dimensions.\n",
            "    \n",
            "    Examples\n",
            "    --------\n",
            "    >>> np.arange(3)\n",
            "    array([0, 1, 2])\n",
            "    >>> np.arange(3.0)\n",
            "    array([ 0.,  1.,  2.])\n",
            "    >>> np.arange(3,7)\n",
            "    array([3, 4, 5, 6])\n",
            "    >>> np.arange(3,7,2)\n",
            "    array([3, 5])\n",
            "\n"
          ]
        }
      ]
    },
    {
      "cell_type": "code",
      "source": [
        "help(sum)"
      ],
      "metadata": {
        "colab": {
          "base_uri": "https://localhost:8080/"
        },
        "id": "dHffuZz-HwU4",
        "outputId": "fc0c69c4-8553-4d55-8564-5809cceff2f3"
      },
      "execution_count": null,
      "outputs": [
        {
          "output_type": "stream",
          "name": "stdout",
          "text": [
            "Help on built-in function sum in module builtins:\n",
            "\n",
            "sum(iterable, /, start=0)\n",
            "    Return the sum of a 'start' value (default: 0) plus an iterable of numbers\n",
            "    \n",
            "    When the iterable is empty, return the start value.\n",
            "    This function is intended specifically for use with numeric values and may\n",
            "    reject non-numeric types.\n",
            "\n"
          ]
        }
      ]
    },
    {
      "cell_type": "markdown",
      "source": [
        "#Importar Biblioteca"
      ],
      "metadata": {
        "id": "Z87nh4tQ3avs"
      }
    },
    {
      "cell_type": "code",
      "source": [
        "import matplotlib.pyplot as plt\n",
        "import numpy as np"
      ],
      "metadata": {
        "id": "kRzm8zmX3d-7"
      },
      "execution_count": null,
      "outputs": []
    },
    {
      "cell_type": "code",
      "source": [
        "x = np.arange(1, 10, 0.1)\n",
        "y= np.sin(x)\n",
        "plt.plot(x, y)"
      ],
      "metadata": {
        "colab": {
          "base_uri": "https://localhost:8080/",
          "height": 447
        },
        "id": "R4bmHS0w4FKK",
        "outputId": "cb41565a-c342-41ce-ffeb-b36f85bf33d2"
      },
      "execution_count": null,
      "outputs": [
        {
          "output_type": "execute_result",
          "data": {
            "text/plain": [
              "[<matplotlib.lines.Line2D at 0x7f2345908eb0>]"
            ]
          },
          "metadata": {},
          "execution_count": 28
        },
        {
          "output_type": "display_data",
          "data": {
            "text/plain": [
              "<Figure size 640x480 with 1 Axes>"
            ],
            "image/png": "[encoded data removed]"
          },
          "metadata": {}
        }
      ]
    },
    {
      "cell_type": "code",
      "source": [
        "help(np.arange)"
      ],
      "metadata": {
        "colab": {
          "base_uri": "https://localhost:8080/"
        },
        "id": "L58bnzxk44rt",
        "outputId": "e5b2576e-21ab-4b6f-ac53-a15417486a84"
      },
      "execution_count": null,
      "outputs": [
        {
          "output_type": "stream",
          "name": "stdout",
          "text": [
            "Help on built-in function arange in module numpy:\n",
            "\n",
            "arange(...)\n",
            "    arange([start,] stop[, step,], dtype=None, *, like=None)\n",
            "    \n",
            "    Return evenly spaced values within a given interval.\n",
            "    \n",
            "    Values are generated within the half-open interval ``[start, stop)``\n",
            "    (in other words, the interval including `start` but excluding `stop`).\n",
            "    For integer arguments the function is equivalent to the Python built-in\n",
            "    `range` function, but returns an ndarray rather than a list.\n",
            "    \n",
            "    When using a non-integer step, such as 0.1, it is often better to use\n",
            "    `numpy.linspace`. See the warnings section below for more information.\n",
            "    \n",
            "    Parameters\n",
            "    ----------\n",
            "    start : integer or real, optional\n",
            "        Start of interval.  The interval includes this value.  The default\n",
            "        start value is 0.\n",
            "    stop : integer or real\n",
            "        End of interval.  The interval does not include this value, except\n",
            "        in some cases where `step` is not an integer and floating point\n",
            "        round-off affects the length of `out`.\n",
            "    step : integer or real, optional\n",
            "        Spacing between values.  For any output `out`, this is the distance\n",
            "        between two adjacent values, ``out[i+1] - out[i]``.  The default\n",
            "        step size is 1.  If `step` is specified as a position argument,\n",
            "        `start` must also be given.\n",
            "    dtype : dtype\n",
            "        The type of the output array.  If `dtype` is not given, infer the data\n",
            "        type from the other input arguments.\n",
            "    like : array_like\n",
            "        Reference object to allow the creation of arrays which are not\n",
            "        NumPy arrays. If an array-like passed in as ``like`` supports\n",
            "        the ``__array_function__`` protocol, the result will be defined\n",
            "        by it. In this case, it ensures the creation of an array object\n",
            "        compatible with that passed in via this argument.\n",
            "    \n",
            "        .. versionadded:: 1.20.0\n",
            "    \n",
            "    Returns\n",
            "    -------\n",
            "    arange : ndarray\n",
            "        Array of evenly spaced values.\n",
            "    \n",
            "        For floating point arguments, the length of the result is\n",
            "        ``ceil((stop - start)/step)``.  Because of floating point overflow,\n",
            "        this rule may result in the last element of `out` being greater\n",
            "        than `stop`.\n",
            "    \n",
            "    Warnings\n",
            "    --------\n",
            "    The length of the output might not be numerically stable.\n",
            "    \n",
            "    Another stability issue is due to the internal implementation of\n",
            "    `numpy.arange`.\n",
            "    The actual step value used to populate the array is\n",
            "    ``dtype(start + step) - dtype(start)`` and not `step`. Precision loss\n",
            "    can occur here, due to casting or due to using floating points when\n",
            "    `start` is much larger than `step`. This can lead to unexpected\n",
            "    behaviour. For example::\n",
            "    \n",
            "      >>> np.arange(0, 5, 0.5, dtype=int)\n",
            "      array([0, 0, 0, 0, 0, 0, 0, 0, 0, 0])\n",
            "      >>> np.arange(-3, 3, 0.5, dtype=int)\n",
            "      array([-3, -2, -1,  0,  1,  2,  3,  4,  5,  6,  7,  8])\n",
            "    \n",
            "    In such cases, the use of `numpy.linspace` should be preferred.\n",
            "    \n",
            "    See Also\n",
            "    --------\n",
            "    numpy.linspace : Evenly spaced numbers with careful handling of endpoints.\n",
            "    numpy.ogrid: Arrays of evenly spaced numbers in N-dimensions.\n",
            "    numpy.mgrid: Grid-shaped arrays of evenly spaced numbers in N-dimensions.\n",
            "    \n",
            "    Examples\n",
            "    --------\n",
            "    >>> np.arange(3)\n",
            "    array([0, 1, 2])\n",
            "    >>> np.arange(3.0)\n",
            "    array([ 0.,  1.,  2.])\n",
            "    >>> np.arange(3,7)\n",
            "    array([3, 4, 5, 6])\n",
            "    >>> np.arange(3,7,2)\n",
            "    array([3, 5])\n",
            "\n"
          ]
        }
      ]
    },
    {
      "cell_type": "markdown",
      "source": [
        "https://numpy.org/doc/stable/reference/generated/numpy.sin.html"
      ],
      "metadata": {
        "id": "5uaEDnNf6JNV"
      }
    },
    {
      "cell_type": "markdown",
      "source": [
        "https://matplotlib.org/2.0.2/users/pyplot_tutorial.html"
      ],
      "metadata": {
        "id": "-0CTXWrC-tFJ"
      }
    },
    {
      "cell_type": "markdown",
      "source": [
        "https://matplotlib.org/stable/tutorials/introductory/pyplot.html"
      ],
      "metadata": {
        "id": "20ZaPyum-52B"
      }
    },
    {
      "cell_type": "code",
      "source": [
        "import matplotlib.pyplot as plt\n",
        "plt.plot([1, 2, 3, 4])\n",
        "plt.ylabel(\"some numbers\")\n",
        "plt.show()"
      ],
      "metadata": {
        "colab": {
          "base_uri": "https://localhost:8080/",
          "height": 430
        },
        "id": "m8VAKbqE6yuh",
        "outputId": "013d998a-79e0-43ba-841b-831e6d645219"
      },
      "execution_count": null,
      "outputs": [
        {
          "output_type": "display_data",
          "data": {
            "text/plain": [
              "<Figure size 640x480 with 1 Axes>"
            ],
            "image/png": "[encoded data removed]"
          },
          "metadata": {}
        }
      ]
    },
    {
      "cell_type": "code",
      "source": [
        "plt.plot([1, 2, 3, 4], [1, 4, 9, 16], 'ro')\n",
        "plt.axis([0, 6, 0, 20])\n",
        "plt.show()"
      ],
      "metadata": {
        "colab": {
          "base_uri": "https://localhost:8080/",
          "height": 435
        },
        "id": "X7GAizHW670R",
        "outputId": "69631543-62b5-4984-c6b8-4bdc4ba2fd62"
      },
      "execution_count": null,
      "outputs": [
        {
          "output_type": "display_data",
          "data": {
            "text/plain": [
              "<Figure size 640x480 with 1 Axes>"
            ],
            "image/png": "[encoded data removed]"
          },
          "metadata": {}
        }
      ]
    },
    {
      "cell_type": "code",
      "source": [
        "plt.plot([1, 2, 3, 4], [1, 4, 9, 16], 'r-')\n",
        "plt.axis([0, 6, 0, 20])\n",
        "plt.show()"
      ],
      "metadata": {
        "colab": {
          "base_uri": "https://localhost:8080/",
          "height": 435
        },
        "id": "NZce1M1v7nsT",
        "outputId": "c877784e-c7b3-4d53-dec1-b2f6a4508338"
      },
      "execution_count": null,
      "outputs": [
        {
          "output_type": "display_data",
          "data": {
            "text/plain": [
              "<Figure size 640x480 with 1 Axes>"
            ],
            "image/png": "[encoded data removed]"
          },
          "metadata": {}
        }
      ]
    },
    {
      "cell_type": "code",
      "source": [
        "plt.plot([1, 2, 3, 4], [1, 4, 9, 16], 'r--')\n",
        "plt.axis([0, 6, 0, 20])\n",
        "plt.show()"
      ],
      "metadata": {
        "colab": {
          "base_uri": "https://localhost:8080/",
          "height": 435
        },
        "id": "7lD05_bd7w51",
        "outputId": "e301b6b6-05b8-4218-9642-68efc441883f"
      },
      "execution_count": null,
      "outputs": [
        {
          "output_type": "display_data",
          "data": {
            "text/plain": [
              "<Figure size 640x480 with 1 Axes>"
            ],
            "image/png": "[encoded data removed]"
          },
          "metadata": {}
        }
      ]
    },
    {
      "cell_type": "code",
      "source": [
        "plt.plot([1, 2, 3, 4], [1, 4, 9, 16], 'b-')\n",
        "plt.axis([0, 6, 0, 20])\n",
        "plt.show()"
      ],
      "metadata": {
        "colab": {
          "base_uri": "https://localhost:8080/",
          "height": 435
        },
        "id": "P8BRqhN470rl",
        "outputId": "cc7645dc-0843-4a74-dc73-83ec00bd9a9c"
      },
      "execution_count": null,
      "outputs": [
        {
          "output_type": "display_data",
          "data": {
            "text/plain": [
              "<Figure size 640x480 with 1 Axes>"
            ],
            "image/png": "[encoded data removed]"
          },
          "metadata": {}
        }
      ]
    },
    {
      "cell_type": "code",
      "source": [
        "plt.plot([1, 2, 3, 4], [1, 4, 9, 16], 'g-')\n",
        "plt.axis([0, 6, 0, 20])\n",
        "plt.show()"
      ],
      "metadata": {
        "colab": {
          "base_uri": "https://localhost:8080/",
          "height": 435
        },
        "id": "D7C52kFO78SV",
        "outputId": "1107773a-130c-402d-dd3d-96b5c4987fb9"
      },
      "execution_count": null,
      "outputs": [
        {
          "output_type": "display_data",
          "data": {
            "text/plain": [
              "<Figure size 640x480 with 1 Axes>"
            ],
            "image/png": "[encoded data removed]"
          },
          "metadata": {}
        }
      ]
    },
    {
      "cell_type": "code",
      "source": [
        "plt.plot([1, 2, 3, 4], [1, 4, 9, 16], 'k-')\n",
        "plt.axis([0, 6, 0, 20])\n",
        "plt.show()"
      ],
      "metadata": {
        "colab": {
          "base_uri": "https://localhost:8080/",
          "height": 435
        },
        "id": "blaY0ZXf7-UV",
        "outputId": "54a6d138-4f3f-436f-84bc-8dc177e6b28b"
      },
      "execution_count": null,
      "outputs": [
        {
          "output_type": "display_data",
          "data": {
            "text/plain": [
              "<Figure size 640x480 with 1 Axes>"
            ],
            "image/png": "[encoded data removed]"
          },
          "metadata": {}
        }
      ]
    },
    {
      "cell_type": "code",
      "source": [
        "import numpy as np\n",
        "import matplotlib.pyplot as plt\n",
        "\n",
        "# evenly sampled time at 200ms intervals\n",
        "t = np.arange(0., 5., 0.2)\n",
        "\n",
        "# red dashes, blue squares and green triangles\n",
        "plt.plot(t, t, 'r--', t, t**2, 'bs', t, t**3, 'g^')\n",
        "plt.show()\n"
      ],
      "metadata": {
        "colab": {
          "base_uri": "https://localhost:8080/",
          "height": 430
        },
        "id": "k029Rr_j8AzV",
        "outputId": "c95cb739-00ae-4681-f7b3-2c57c573057b"
      },
      "execution_count": null,
      "outputs": [
        {
          "output_type": "display_data",
          "data": {
            "text/plain": [
              "<Figure size 640x480 with 1 Axes>"
            ],
            "image/png": "[encoded data removed]"
          },
          "metadata": {}
        }
      ]
    },
    {
      "cell_type": "code",
      "source": [
        "names = ['group_a', 'group_b', 'group_c']\n",
        "values = [1, 10, 100]\n",
        "\n",
        "plt.figure(figsize=(9, 3))\n",
        "\n",
        "plt.subplot(131)\n",
        "plt.bar(names, values)\n",
        "plt.subplot(132)\n",
        "plt.scatter(names, values)\n",
        "plt.subplot(133)\n",
        "plt.plot(names, values)\n",
        "plt.suptitle('Categorical Plotting')\n",
        "plt.show()"
      ],
      "metadata": {
        "colab": {
          "base_uri": "https://localhost:8080/",
          "height": 321
        },
        "id": "HxO4W_J18sHo",
        "outputId": "228cca7a-d4d1-451b-f082-5b5ffadee687"
      },
      "execution_count": null,
      "outputs": [
        {
          "output_type": "display_data",
          "data": {
            "text/plain": [
              "<Figure size 900x300 with 3 Axes>"
            ],
            "image/png": "[encoded data removed]"
          },
          "metadata": {}
        }
      ]
    },
    {
      "cell_type": "code",
      "source": [
        "import numpy as np\n",
        "import matplotlib.pyplot as plt\n",
        "\n",
        "def f(t):\n",
        "    return np.exp(-t) * np.cos(2*np.pi*t)\n",
        "\n",
        "t1 = np.arange(0.0, 5.0, 0.1)\n",
        "t2 = np.arange(0.0, 5.0, 0.02)\n",
        "\n",
        "plt.figure(1)\n",
        "plt.subplot(211)\n",
        "plt.plot(t1, f(t1), 'bo', t2, f(t2), 'k')\n",
        "\n",
        "plt.subplot(212)\n",
        "plt.plot(t2, np.cos(2*np.pi*t2), 'r--')\n",
        "plt.show()"
      ],
      "metadata": {
        "colab": {
          "base_uri": "https://localhost:8080/",
          "height": 430
        },
        "id": "Yv1zkzf19xPe",
        "outputId": "5acbeb02-3211-4cde-887f-fb99f340d27c"
      },
      "execution_count": null,
      "outputs": [
        {
          "output_type": "display_data",
          "data": {
            "text/plain": [
              "<Figure size 640x480 with 2 Axes>"
            ],
            "image/png": "[encoded data removed]"
          },
          "metadata": {}
        }
      ]
    },
    {
      "cell_type": "code",
      "source": [
        "mu, sigma = 100, 15\n",
        "x = mu + sigma * np.random.randn(10000)\n",
        "\n",
        "# the histogram of the data\n",
        "n, bins, patches = plt.hist(x, 50, density=True, facecolor='g', alpha=0.75)\n",
        "\n",
        "\n",
        "plt.xlabel('Smarts')\n",
        "plt.ylabel('Probability')\n",
        "plt.title('Histogram of IQ')\n",
        "plt.text(60, .025, r'$\\mu=100,\\ \\sigma=15$')\n",
        "plt.axis([40, 160, 0, 0.03])\n",
        "plt.grid(True)\n",
        "plt.show()"
      ],
      "metadata": {
        "colab": {
          "base_uri": "https://localhost:8080/",
          "height": 472
        },
        "id": "zZRXc43O-7pB",
        "outputId": "890cbecc-8d13-425e-ffdb-3c0b49be90c5"
      },
      "execution_count": null,
      "outputs": [
        {
          "output_type": "display_data",
          "data": {
            "text/plain": [
              "<Figure size 640x480 with 1 Axes>"
            ],
            "image/png": "[encoded data removed]"
          },
          "metadata": {}
        }
      ]
    },
    {
      "cell_type": "markdown",
      "source": [
        "https://numpy.org/doc/stable/reference/random/generated/numpy.random.randn.html  >> O que é random"
      ],
      "metadata": {
        "id": "Y5cq9rLr_Z8z"
      }
    },
    {
      "cell_type": "markdown",
      "source": [
        "Return a sample (or samples) from the “standard normal” distribution."
      ],
      "metadata": {
        "id": "EGfpuMyg_ojS"
      }
    },
    {
      "cell_type": "code",
      "source": [
        "mu, sigma = 100, 15\n",
        "x = mu + sigma * np.random.randn(10000)\n",
        "\n",
        "# the histogram of the data\n",
        "n, bins, patches = plt.hist(x, 50, density=True, facecolor='g', alpha=0.2)\n",
        "\n",
        "\n",
        "plt.xlabel('Smarts')\n",
        "plt.ylabel('Probability')\n",
        "plt.title('Histogram of IQ')\n",
        "plt.text(74, .025, r'$\\mu=100,\\ \\sigma=15$')\n",
        "plt.axis([40, 160, 0, 0.03])\n",
        "plt.grid(True)\n",
        "plt.show()"
      ],
      "metadata": {
        "colab": {
          "base_uri": "https://localhost:8080/",
          "height": 472
        },
        "id": "0FAsF2h4_D7S",
        "outputId": "ba121d4d-c395-445a-bc52-c3506a4ad3fb"
      },
      "execution_count": null,
      "outputs": [
        {
          "output_type": "display_data",
          "data": {
            "text/plain": [
              "<Figure size 640x480 with 1 Axes>"
            ],
            "image/png": "[encoded data removed]"
          },
          "metadata": {}
        }
      ]
    },
    {
      "cell_type": "code",
      "source": [
        "ax = plt\n",
        "ax.yaxis.grid()\n",
        "ax.yaxis.glrd()"
      ],
      "metadata": {
        "id": "dPAtYujxBpNK",
        "colab": {
          "base_uri": "https://localhost:8080/",
          "height": 200
        },
        "outputId": "95d35178-908b-4d89-f666-3c47161f7c47"
      },
      "execution_count": null,
      "outputs": [
        {
          "output_type": "error",
          "ename": "NameError",
          "evalue": "ignored",
          "traceback": [
            "\u001b[0;31m---------------------------------------------------------------------------\u001b[0m",
            "\u001b[0;31mNameError\u001b[0m                                 Traceback (most recent call last)",
            "\u001b[0;32m<ipython-input-5-2ecde5d08831>\u001b[0m in \u001b[0;36m<cell line: 1>\u001b[0;34m()\u001b[0m\n\u001b[0;32m----> 1\u001b[0;31m \u001b[0max\u001b[0m \u001b[0;34m=\u001b[0m \u001b[0mplt\u001b[0m\u001b[0;34m\u001b[0m\u001b[0;34m\u001b[0m\u001b[0m\n\u001b[0m\u001b[1;32m      2\u001b[0m \u001b[0max\u001b[0m\u001b[0;34m.\u001b[0m\u001b[0myaxis\u001b[0m\u001b[0;34m.\u001b[0m\u001b[0mgrid\u001b[0m\u001b[0;34m(\u001b[0m\u001b[0;34m)\u001b[0m\u001b[0;34m\u001b[0m\u001b[0;34m\u001b[0m\u001b[0m\n\u001b[1;32m      3\u001b[0m \u001b[0max\u001b[0m\u001b[0;34m.\u001b[0m\u001b[0myaxis\u001b[0m\u001b[0;34m.\u001b[0m\u001b[0mglrd\u001b[0m\u001b[0;34m(\u001b[0m\u001b[0;34m)\u001b[0m\u001b[0;34m\u001b[0m\u001b[0;34m\u001b[0m\u001b[0m\n",
            "\u001b[0;31mNameError\u001b[0m: name 'plt' is not defined"
          ]
        }
      ]
    },
    {
      "cell_type": "code",
      "source": [
        "mu, sigma = 100, 15\n",
        "x = mu + sigma * np.random.randn(10000)\n",
        "\n",
        "# the histogram of the data\n",
        "n, bins, patches = plt.hist(x, 50, density=True, facecolor='g', alpha=0.2)\n",
        "\n",
        "\n",
        "plt.xlabel('Smarts')\n",
        "plt.ylabel('Probability')\n",
        "plt.title('Histogram of IQ')\n",
        "plt.text(100, .025, r'$\\mu=100,\\ \\sigma=15$')\n",
        "plt.axis([40, 160, 0, 0.03])\n",
        "plt.grid(True, which=\"both\")\n",
        "plt.show()"
      ],
      "metadata": {
        "colab": {
          "base_uri": "https://localhost:8080/",
          "height": 472
        },
        "id": "tZF4mZgkBxBK",
        "outputId": "09cc24da-c8e3-46e1-9178-0803c37adc07"
      },
      "execution_count": null,
      "outputs": [
        {
          "output_type": "display_data",
          "data": {
            "text/plain": [
              "<Figure size 640x480 with 1 Axes>"
            ],
            "image/png": "[encoded data removed]"
          },
          "metadata": {}
        }
      ]
    },
    {
      "cell_type": "markdown",
      "source": [
        "https://matplotlib.org/stable/api/_as_gen/matplotlib.pyplot.grid.html"
      ],
      "metadata": {
        "id": "_a1yZH7sCn-V"
      }
    },
    {
      "cell_type": "markdown",
      "source": [
        "# Regressão linear"
      ],
      "metadata": {
        "id": "eqYAE-vaEAMQ"
      }
    },
    {
      "cell_type": "code",
      "source": [
        " #entrada de dados\n",
        " x = [0, 1, 2, 3, 4, 5, 6]\n",
        " y = [0, 2.2, 4.1, 6.7, 8.0, 9.8, 13]\n",
        " #estimado modelo\n",
        " import numpy as np\n",
        " mod_linear = np.polyfit(x, y, 1)\n",
        " novo_y = np.polyval(mod_linear, x)\n",
        " #construindo grafico\n",
        " import matplotlib.pyplot as plt\n",
        " plt.plot(x, y, \"o\", label=\"pontos experimentais\")\n",
        " plt.plot(x, novo_y, \"r-\", label=\"modelo\")\n",
        " plt.xlabel(\"x\")\n",
        " plt.xlabel(\"y\")\n",
        " plt.title(\"ajuste de uma reta\")\n",
        " plt.legend()\n",
        " plt.show()"
      ],
      "metadata": {
        "colab": {
          "base_uri": "https://localhost:8080/",
          "height": 472
        },
        "id": "LRb58Hm0CxAO",
        "outputId": "c1c746d2-71bc-49d6-9d23-b557d765e9ef"
      },
      "execution_count": null,
      "outputs": [
        {
          "output_type": "display_data",
          "data": {
            "text/plain": [
              "<Figure size 640x480 with 1 Axes>"
            ],
            "image/png": "[encoded data removed]"
          },
          "metadata": {}
        }
      ]
    },
    {
      "cell_type": "code",
      "source": [
        " #entrada de dados\n",
        " x = [0, 1, 2, 3, 4, 5, 6]\n",
        " y = [0, 2.2, 4.1, 6.7, 8.0, 9.8, 13]\n",
        " #estimado modelo\n",
        " import numpy as np\n",
        " mod_linear = np.polyfit(x, y, 1)\n",
        " novo_y = np.polyval(mod_linear, x)\n",
        " print(mod_linear)\n",
        " #construindo grafico\n",
        "\n",
        " import matplotlib.pyplot as plt\n",
        " plt.plot(x, y, \"o\", label=\"pontos experimentais\")\n",
        " plt.plot(x, novo_y, \"r-\", label=\"modelo\")\n",
        " plt.xlabel(\"x\")\n",
        " plt.xlabel(\"y\")\n",
        " plt.title(\"ajuste de uma reta\")\n",
        " plt.legend()\n",
        " plt.show()"
      ],
      "metadata": {
        "colab": {
          "base_uri": "https://localhost:8080/",
          "height": 489
        },
        "id": "pdjSGmI0D9-x",
        "outputId": "03eaf4b9-759b-4b78-fc7d-77fbbc113d70"
      },
      "execution_count": null,
      "outputs": [
        {
          "output_type": "stream",
          "name": "stdout",
          "text": [
            "[2.075      0.03214286]\n"
          ]
        },
        {
          "output_type": "display_data",
          "data": {
            "text/plain": [
              "<Figure size 640x480 with 1 Axes>"
            ],
            "image/png": "[encoded data removed]"
          },
          "metadata": {}
        }
      ]
    },
    {
      "cell_type": "markdown",
      "source": [
        "https://numpy.org/doc/stable/reference/generated/numpy.polyfit.html\n",
        "\n",
        "numpy.polyfit(x, y, deg, rcond=None, full=False, w=None, cov=False)\n",
        "\n",
        "Returns:\n",
        "pndarray, shape (deg + 1,) or (deg + 1, K)\n",
        "Polynomial coefficients, highest power first. If y was 2-D, the coefficients for k-th data set are in p[:,k].\n",
        "\n",
        "Fit a polynomial p(x) = p[0] * x**deg + ... + p[deg] of degree deg to points (x, y). Returns a vector of coefficients p that minimises the squared error in the order deg, deg-1, … 0."
      ],
      "metadata": {
        "id": "3Lg0WjyvFO4T"
      }
    },
    {
      "cell_type": "code",
      "source": [
        " #entrada de dados\n",
        " x = [0, 1, 2, 3, 4, 5, 6]\n",
        " y = [0, 2.2, 4.1, 6.7, 8.0, 9.8, 13]\n",
        " #estimado modelo\n",
        " import numpy as np\n",
        " mod_linear = np.polyfit(x, y, 1)\n",
        " novo_y = np.polyval(mod_linear, x)\n",
        " print(mod_linear)\n",
        " #construindo grafico\n",
        "\n",
        " import matplotlib.pyplot as plt\n",
        " plt.plot(x, y, \"o\", label=\"pontos experimentais\")\n",
        " plt.plot(x, novo_y, \"r-\", label=\"modelo\")\n",
        " plt.xlabel(\"x\")\n",
        " plt.xlabel(\"y\")\n",
        " plt.title(\"ajuste de uma reta\")\n",
        " plt.legend()\n",
        " plt.show()\n",
        "\n",
        "#calcular coeficiente de determinação\n",
        " y_resid = y - novo_y\n",
        " SQresid = sum(y_resid**2)\n",
        " y_tot = y - np.mean(y)\n",
        " SQtotal = sum(y_tot**2)\n",
        " R2= 1 - SQresid/SQtotal\n",
        " print(f\"O coeficiente de determinação do ajuste é {R2}\")"
      ],
      "metadata": {
        "colab": {
          "base_uri": "https://localhost:8080/",
          "height": 507
        },
        "id": "hHw4p37aFC5y",
        "outputId": "5b8d7a78-6974-4faf-f2cb-30cdd45e2465"
      },
      "execution_count": null,
      "outputs": [
        {
          "output_type": "stream",
          "name": "stdout",
          "text": [
            "[2.075      0.03214286]\n"
          ]
        },
        {
          "output_type": "display_data",
          "data": {
            "text/plain": [
              "<Figure size 640x480 with 1 Axes>"
            ],
            "image/png": "[encoded data removed]"
          },
          "metadata": {}
        },
        {
          "output_type": "stream",
          "name": "stdout",
          "text": [
            "O coeficiente de determinação do ajuste é 0.9921028191201712\n"
          ]
        }
      ]
    },
    {
      "cell_type": "code",
      "source": [
        "help(sum)"
      ],
      "metadata": {
        "colab": {
          "base_uri": "https://localhost:8080/"
        },
        "id": "eiyzCqBAGd4e",
        "outputId": "4fb71870-9e6e-4137-e8cb-917477cde73f"
      },
      "execution_count": null,
      "outputs": [
        {
          "output_type": "stream",
          "name": "stdout",
          "text": [
            "Help on built-in function sum in module builtins:\n",
            "\n",
            "sum(iterable, /, start=0)\n",
            "    Return the sum of a 'start' value (default: 0) plus an iterable of numbers\n",
            "    \n",
            "    When the iterable is empty, return the start value.\n",
            "    This function is intended specifically for use with numeric values and may\n",
            "    reject non-numeric types.\n",
            "\n"
          ]
        }
      ]
    },
    {
      "cell_type": "code",
      "source": [],
      "metadata": {
        "id": "bWZtohCHHr9Y"
      },
      "execution_count": null,
      "outputs": []
    },
    {
      "cell_type": "markdown",
      "source": [
        "#Importar Planilha do Excel"
      ],
      "metadata": {
        "id": "m_lG1qHwmdb0"
      }
    },
    {
      "cell_type": "markdown",
      "source": [
        "https://pandas.pydata.org/docs/reference/api/pandas.read_excel.html"
      ],
      "metadata": {
        "id": "gbSGlIP4nZmU"
      }
    },
    {
      "cell_type": "code",
      "source": [
        "import pandas as pd\n",
        "\n",
        "importado = pd.read_excel('dados.xlsx')"
      ],
      "metadata": {
        "id": "waDDfmoVmgwd",
        "colab": {
          "base_uri": "https://localhost:8080/",
          "height": 345
        },
        "outputId": "a89b201a-c0ed-4888-e424-6e37aa9b944e"
      },
      "execution_count": null,
      "outputs": [
        {
          "output_type": "error",
          "ename": "FileNotFoundError",
          "evalue": "ignored",
          "traceback": [
            "\u001b[0;31m---------------------------------------------------------------------------\u001b[0m",
            "\u001b[0;31mFileNotFoundError\u001b[0m                         Traceback (most recent call last)",
            "\u001b[0;32m<ipython-input-1-fe9040df301a>\u001b[0m in \u001b[0;36m<cell line: 3>\u001b[0;34m()\u001b[0m\n\u001b[1;32m      1\u001b[0m \u001b[0;32mimport\u001b[0m \u001b[0mpandas\u001b[0m \u001b[0;32mas\u001b[0m \u001b[0mpd\u001b[0m\u001b[0;34m\u001b[0m\u001b[0;34m\u001b[0m\u001b[0m\n\u001b[1;32m      2\u001b[0m \u001b[0;34m\u001b[0m\u001b[0m\n\u001b[0;32m----> 3\u001b[0;31m \u001b[0mimportado\u001b[0m \u001b[0;34m=\u001b[0m \u001b[0mpd\u001b[0m\u001b[0;34m.\u001b[0m\u001b[0mread_excel\u001b[0m\u001b[0;34m(\u001b[0m\u001b[0;34m'dados.xlsx'\u001b[0m\u001b[0;34m)\u001b[0m\u001b[0;34m\u001b[0m\u001b[0;34m\u001b[0m\u001b[0m\n\u001b[0m",
            "\u001b[0;32m/usr/local/lib/python3.10/dist-packages/pandas/util/_decorators.py\u001b[0m in \u001b[0;36mwrapper\u001b[0;34m(*args, **kwargs)\u001b[0m\n\u001b[1;32m    209\u001b[0m                 \u001b[0;32melse\u001b[0m\u001b[0;34m:\u001b[0m\u001b[0;34m\u001b[0m\u001b[0;34m\u001b[0m\u001b[0m\n\u001b[1;32m    210\u001b[0m                     \u001b[0mkwargs\u001b[0m\u001b[0;34m[\u001b[0m\u001b[0mnew_arg_name\u001b[0m\u001b[0;34m]\u001b[0m \u001b[0;34m=\u001b[0m \u001b[0mnew_arg_value\u001b[0m\u001b[0;34m\u001b[0m\u001b[0;34m\u001b[0m\u001b[0m\n\u001b[0;32m--> 211\u001b[0;31m             \u001b[0;32mreturn\u001b[0m \u001b[0mfunc\u001b[0m\u001b[0;34m(\u001b[0m\u001b[0;34m*\u001b[0m\u001b[0margs\u001b[0m\u001b[0;34m,\u001b[0m \u001b[0;34m**\u001b[0m\u001b[0mkwargs\u001b[0m\u001b[0;34m)\u001b[0m\u001b[0;34m\u001b[0m\u001b[0;34m\u001b[0m\u001b[0m\n\u001b[0m\u001b[1;32m    212\u001b[0m \u001b[0;34m\u001b[0m\u001b[0m\n\u001b[1;32m    213\u001b[0m         \u001b[0;32mreturn\u001b[0m \u001b[0mcast\u001b[0m\u001b[0;34m(\u001b[0m\u001b[0mF\u001b[0m\u001b[0;34m,\u001b[0m \u001b[0mwrapper\u001b[0m\u001b[0;34m)\u001b[0m\u001b[0;34m\u001b[0m\u001b[0;34m\u001b[0m\u001b[0m\n",
            "\u001b[0;32m/usr/local/lib/python3.10/dist-packages/pandas/util/_decorators.py\u001b[0m in \u001b[0;36mwrapper\u001b[0;34m(*args, **kwargs)\u001b[0m\n\u001b[1;32m    329\u001b[0m                     \u001b[0mstacklevel\u001b[0m\u001b[0;34m=\u001b[0m\u001b[0mfind_stack_level\u001b[0m\u001b[0;34m(\u001b[0m\u001b[0;34m)\u001b[0m\u001b[0;34m,\u001b[0m\u001b[0;34m\u001b[0m\u001b[0;34m\u001b[0m\u001b[0m\n\u001b[1;32m    330\u001b[0m                 )\n\u001b[0;32m--> 331\u001b[0;31m             \u001b[0;32mreturn\u001b[0m \u001b[0mfunc\u001b[0m\u001b[0;34m(\u001b[0m\u001b[0;34m*\u001b[0m\u001b[0margs\u001b[0m\u001b[0;34m,\u001b[0m \u001b[0;34m**\u001b[0m\u001b[0mkwargs\u001b[0m\u001b[0;34m)\u001b[0m\u001b[0;34m\u001b[0m\u001b[0;34m\u001b[0m\u001b[0m\n\u001b[0m\u001b[1;32m    332\u001b[0m \u001b[0;34m\u001b[0m\u001b[0m\n\u001b[1;32m    333\u001b[0m         \u001b[0;31m# error: \"Callable[[VarArg(Any), KwArg(Any)], Any]\" has no\u001b[0m\u001b[0;34m\u001b[0m\u001b[0;34m\u001b[0m\u001b[0m\n",
            "\u001b[0;32m/usr/local/lib/python3.10/dist-packages/pandas/io/excel/_base.py\u001b[0m in \u001b[0;36mread_excel\u001b[0;34m(io, sheet_name, header, names, index_col, usecols, squeeze, dtype, engine, converters, true_values, false_values, skiprows, nrows, na_values, keep_default_na, na_filter, verbose, parse_dates, date_parser, thousands, decimal, comment, skipfooter, convert_float, mangle_dupe_cols, storage_options)\u001b[0m\n\u001b[1;32m    480\u001b[0m     \u001b[0;32mif\u001b[0m \u001b[0;32mnot\u001b[0m \u001b[0misinstance\u001b[0m\u001b[0;34m(\u001b[0m\u001b[0mio\u001b[0m\u001b[0;34m,\u001b[0m \u001b[0mExcelFile\u001b[0m\u001b[0;34m)\u001b[0m\u001b[0;34m:\u001b[0m\u001b[0;34m\u001b[0m\u001b[0;34m\u001b[0m\u001b[0m\n\u001b[1;32m    481\u001b[0m         \u001b[0mshould_close\u001b[0m \u001b[0;34m=\u001b[0m \u001b[0;32mTrue\u001b[0m\u001b[0;34m\u001b[0m\u001b[0;34m\u001b[0m\u001b[0m\n\u001b[0;32m--> 482\u001b[0;31m         \u001b[0mio\u001b[0m \u001b[0;34m=\u001b[0m \u001b[0mExcelFile\u001b[0m\u001b[0;34m(\u001b[0m\u001b[0mio\u001b[0m\u001b[0;34m,\u001b[0m \u001b[0mstorage_options\u001b[0m\u001b[0;34m=\u001b[0m\u001b[0mstorage_options\u001b[0m\u001b[0;34m,\u001b[0m \u001b[0mengine\u001b[0m\u001b[0;34m=\u001b[0m\u001b[0mengine\u001b[0m\u001b[0;34m)\u001b[0m\u001b[0;34m\u001b[0m\u001b[0;34m\u001b[0m\u001b[0m\n\u001b[0m\u001b[1;32m    483\u001b[0m     \u001b[0;32melif\u001b[0m \u001b[0mengine\u001b[0m \u001b[0;32mand\u001b[0m \u001b[0mengine\u001b[0m \u001b[0;34m!=\u001b[0m \u001b[0mio\u001b[0m\u001b[0;34m.\u001b[0m\u001b[0mengine\u001b[0m\u001b[0;34m:\u001b[0m\u001b[0;34m\u001b[0m\u001b[0;34m\u001b[0m\u001b[0m\n\u001b[1;32m    484\u001b[0m         raise ValueError(\n",
            "\u001b[0;32m/usr/local/lib/python3.10/dist-packages/pandas/io/excel/_base.py\u001b[0m in \u001b[0;36m__init__\u001b[0;34m(self, path_or_buffer, engine, storage_options)\u001b[0m\n\u001b[1;32m   1650\u001b[0m                 \u001b[0mext\u001b[0m \u001b[0;34m=\u001b[0m \u001b[0;34m\"xls\"\u001b[0m\u001b[0;34m\u001b[0m\u001b[0;34m\u001b[0m\u001b[0m\n\u001b[1;32m   1651\u001b[0m             \u001b[0;32melse\u001b[0m\u001b[0;34m:\u001b[0m\u001b[0;34m\u001b[0m\u001b[0;34m\u001b[0m\u001b[0m\n\u001b[0;32m-> 1652\u001b[0;31m                 ext = inspect_excel_format(\n\u001b[0m\u001b[1;32m   1653\u001b[0m                     \u001b[0mcontent_or_path\u001b[0m\u001b[0;34m=\u001b[0m\u001b[0mpath_or_buffer\u001b[0m\u001b[0;34m,\u001b[0m \u001b[0mstorage_options\u001b[0m\u001b[0;34m=\u001b[0m\u001b[0mstorage_options\u001b[0m\u001b[0;34m\u001b[0m\u001b[0;34m\u001b[0m\u001b[0m\n\u001b[1;32m   1654\u001b[0m                 )\n",
            "\u001b[0;32m/usr/local/lib/python3.10/dist-packages/pandas/io/excel/_base.py\u001b[0m in \u001b[0;36minspect_excel_format\u001b[0;34m(content_or_path, storage_options)\u001b[0m\n\u001b[1;32m   1523\u001b[0m         \u001b[0mcontent_or_path\u001b[0m \u001b[0;34m=\u001b[0m \u001b[0mBytesIO\u001b[0m\u001b[0;34m(\u001b[0m\u001b[0mcontent_or_path\u001b[0m\u001b[0;34m)\u001b[0m\u001b[0;34m\u001b[0m\u001b[0;34m\u001b[0m\u001b[0m\n\u001b[1;32m   1524\u001b[0m \u001b[0;34m\u001b[0m\u001b[0m\n\u001b[0;32m-> 1525\u001b[0;31m     with get_handle(\n\u001b[0m\u001b[1;32m   1526\u001b[0m         \u001b[0mcontent_or_path\u001b[0m\u001b[0;34m,\u001b[0m \u001b[0;34m\"rb\"\u001b[0m\u001b[0;34m,\u001b[0m \u001b[0mstorage_options\u001b[0m\u001b[0;34m=\u001b[0m\u001b[0mstorage_options\u001b[0m\u001b[0;34m,\u001b[0m \u001b[0mis_text\u001b[0m\u001b[0;34m=\u001b[0m\u001b[0;32mFalse\u001b[0m\u001b[0;34m\u001b[0m\u001b[0;34m\u001b[0m\u001b[0m\n\u001b[1;32m   1527\u001b[0m     ) as handle:\n",
            "\u001b[0;32m/usr/local/lib/python3.10/dist-packages/pandas/io/common.py\u001b[0m in \u001b[0;36mget_handle\u001b[0;34m(path_or_buf, mode, encoding, compression, memory_map, is_text, errors, storage_options)\u001b[0m\n\u001b[1;32m    863\u001b[0m         \u001b[0;32melse\u001b[0m\u001b[0;34m:\u001b[0m\u001b[0;34m\u001b[0m\u001b[0;34m\u001b[0m\u001b[0m\n\u001b[1;32m    864\u001b[0m             \u001b[0;31m# Binary mode\u001b[0m\u001b[0;34m\u001b[0m\u001b[0;34m\u001b[0m\u001b[0m\n\u001b[0;32m--> 865\u001b[0;31m             \u001b[0mhandle\u001b[0m \u001b[0;34m=\u001b[0m \u001b[0mopen\u001b[0m\u001b[0;34m(\u001b[0m\u001b[0mhandle\u001b[0m\u001b[0;34m,\u001b[0m \u001b[0mioargs\u001b[0m\u001b[0;34m.\u001b[0m\u001b[0mmode\u001b[0m\u001b[0;34m)\u001b[0m\u001b[0;34m\u001b[0m\u001b[0;34m\u001b[0m\u001b[0m\n\u001b[0m\u001b[1;32m    866\u001b[0m         \u001b[0mhandles\u001b[0m\u001b[0;34m.\u001b[0m\u001b[0mappend\u001b[0m\u001b[0;34m(\u001b[0m\u001b[0mhandle\u001b[0m\u001b[0;34m)\u001b[0m\u001b[0;34m\u001b[0m\u001b[0;34m\u001b[0m\u001b[0m\n\u001b[1;32m    867\u001b[0m \u001b[0;34m\u001b[0m\u001b[0m\n",
            "\u001b[0;31mFileNotFoundError\u001b[0m: [Errno 2] No such file or directory: 'dados.xlsx'"
          ]
        }
      ]
    },
    {
      "cell_type": "code",
      "source": [
        "print (importado)"
      ],
      "metadata": {
        "id": "CKNDCHmIoJMk",
        "colab": {
          "base_uri": "https://localhost:8080/",
          "height": 165
        },
        "outputId": "1ea62f33-128a-4503-e29a-cef45bd5027e"
      },
      "execution_count": null,
      "outputs": [
        {
          "output_type": "error",
          "ename": "NameError",
          "evalue": "ignored",
          "traceback": [
            "\u001b[0;31m---------------------------------------------------------------------------\u001b[0m",
            "\u001b[0;31mNameError\u001b[0m                                 Traceback (most recent call last)",
            "\u001b[0;32m<ipython-input-2-3c53161d4633>\u001b[0m in \u001b[0;36m<cell line: 1>\u001b[0;34m()\u001b[0m\n\u001b[0;32m----> 1\u001b[0;31m \u001b[0mprint\u001b[0m \u001b[0;34m(\u001b[0m\u001b[0mimportado\u001b[0m\u001b[0;34m)\u001b[0m\u001b[0;34m\u001b[0m\u001b[0;34m\u001b[0m\u001b[0m\n\u001b[0m",
            "\u001b[0;31mNameError\u001b[0m: name 'importado' is not defined"
          ]
        }
      ]
    },
    {
      "cell_type": "code",
      "source": [
        "import numpy as np\n",
        "importado_np =importado.values\n",
        "importado_np"
      ],
      "metadata": {
        "colab": {
          "base_uri": "https://localhost:8080/",
          "height": 200
        },
        "id": "fj3186ujp3xe",
        "outputId": "b66e7e35-6ff4-4cf1-8048-88112c973dd2"
      },
      "execution_count": null,
      "outputs": [
        {
          "output_type": "error",
          "ename": "NameError",
          "evalue": "ignored",
          "traceback": [
            "\u001b[0;31m---------------------------------------------------------------------------\u001b[0m",
            "\u001b[0;31mNameError\u001b[0m                                 Traceback (most recent call last)",
            "\u001b[0;32m<ipython-input-3-226cfd0dd4da>\u001b[0m in \u001b[0;36m<cell line: 2>\u001b[0;34m()\u001b[0m\n\u001b[1;32m      1\u001b[0m \u001b[0;32mimport\u001b[0m \u001b[0mnumpy\u001b[0m \u001b[0;32mas\u001b[0m \u001b[0mnp\u001b[0m\u001b[0;34m\u001b[0m\u001b[0;34m\u001b[0m\u001b[0m\n\u001b[0;32m----> 2\u001b[0;31m \u001b[0mimportado_np\u001b[0m \u001b[0;34m=\u001b[0m\u001b[0mimportado\u001b[0m\u001b[0;34m.\u001b[0m\u001b[0mvalues\u001b[0m\u001b[0;34m\u001b[0m\u001b[0;34m\u001b[0m\u001b[0m\n\u001b[0m\u001b[1;32m      3\u001b[0m \u001b[0mimportado_np\u001b[0m\u001b[0;34m\u001b[0m\u001b[0;34m\u001b[0m\u001b[0m\n",
            "\u001b[0;31mNameError\u001b[0m: name 'importado' is not defined"
          ]
        }
      ]
    },
    {
      "cell_type": "code",
      "source": [
        "x = importado_np[:,0]\n",
        "x"
      ],
      "metadata": {
        "colab": {
          "base_uri": "https://localhost:8080/",
          "height": 183
        },
        "id": "JUncQ1cxqhMf",
        "outputId": "0a5b41f0-356c-4ead-96e5-ae46b835ebd6"
      },
      "execution_count": null,
      "outputs": [
        {
          "output_type": "error",
          "ename": "NameError",
          "evalue": "ignored",
          "traceback": [
            "\u001b[0;31m---------------------------------------------------------------------------\u001b[0m",
            "\u001b[0;31mNameError\u001b[0m                                 Traceback (most recent call last)",
            "\u001b[0;32m<ipython-input-4-f31cbe98c314>\u001b[0m in \u001b[0;36m<cell line: 1>\u001b[0;34m()\u001b[0m\n\u001b[0;32m----> 1\u001b[0;31m \u001b[0mx\u001b[0m \u001b[0;34m=\u001b[0m \u001b[0mimportado_np\u001b[0m\u001b[0;34m[\u001b[0m\u001b[0;34m:\u001b[0m\u001b[0;34m,\u001b[0m\u001b[0;36m0\u001b[0m\u001b[0;34m]\u001b[0m\u001b[0;34m\u001b[0m\u001b[0;34m\u001b[0m\u001b[0m\n\u001b[0m\u001b[1;32m      2\u001b[0m \u001b[0mx\u001b[0m\u001b[0;34m\u001b[0m\u001b[0;34m\u001b[0m\u001b[0m\n",
            "\u001b[0;31mNameError\u001b[0m: name 'importado_np' is not defined"
          ]
        }
      ]
    },
    {
      "cell_type": "code",
      "source": [
        "x = importado_np[3:10,0]\n",
        "x"
      ],
      "metadata": {
        "colab": {
          "base_uri": "https://localhost:8080/",
          "height": 183
        },
        "id": "7oDge0S1r0T1",
        "outputId": "be1fb39a-9ee9-4eea-9734-f3ff862b4af8"
      },
      "execution_count": null,
      "outputs": [
        {
          "output_type": "error",
          "ename": "NameError",
          "evalue": "ignored",
          "traceback": [
            "\u001b[0;31m---------------------------------------------------------------------------\u001b[0m",
            "\u001b[0;31mNameError\u001b[0m                                 Traceback (most recent call last)",
            "\u001b[0;32m<ipython-input-5-2642b95f4970>\u001b[0m in \u001b[0;36m<cell line: 1>\u001b[0;34m()\u001b[0m\n\u001b[0;32m----> 1\u001b[0;31m \u001b[0mx\u001b[0m \u001b[0;34m=\u001b[0m \u001b[0mimportado_np\u001b[0m\u001b[0;34m[\u001b[0m\u001b[0;36m3\u001b[0m\u001b[0;34m:\u001b[0m\u001b[0;36m10\u001b[0m\u001b[0;34m,\u001b[0m\u001b[0;36m0\u001b[0m\u001b[0;34m]\u001b[0m\u001b[0;34m\u001b[0m\u001b[0;34m\u001b[0m\u001b[0m\n\u001b[0m\u001b[1;32m      2\u001b[0m \u001b[0mx\u001b[0m\u001b[0;34m\u001b[0m\u001b[0;34m\u001b[0m\u001b[0m\n",
            "\u001b[0;31mNameError\u001b[0m: name 'importado_np' is not defined"
          ]
        }
      ]
    },
    {
      "cell_type": "code",
      "source": [
        "y = importado_np[:,1]\n",
        "y"
      ],
      "metadata": {
        "colab": {
          "base_uri": "https://localhost:8080/",
          "height": 183
        },
        "id": "5i1Y83PpsH49",
        "outputId": "6848c47f-d16e-4e8e-9d89-504bf2d8b226"
      },
      "execution_count": null,
      "outputs": [
        {
          "output_type": "error",
          "ename": "NameError",
          "evalue": "ignored",
          "traceback": [
            "\u001b[0;31m---------------------------------------------------------------------------\u001b[0m",
            "\u001b[0;31mNameError\u001b[0m                                 Traceback (most recent call last)",
            "\u001b[0;32m<ipython-input-6-6de9d13a2434>\u001b[0m in \u001b[0;36m<cell line: 1>\u001b[0;34m()\u001b[0m\n\u001b[0;32m----> 1\u001b[0;31m \u001b[0my\u001b[0m \u001b[0;34m=\u001b[0m \u001b[0mimportado_np\u001b[0m\u001b[0;34m[\u001b[0m\u001b[0;34m:\u001b[0m\u001b[0;34m,\u001b[0m\u001b[0;36m1\u001b[0m\u001b[0;34m]\u001b[0m\u001b[0;34m\u001b[0m\u001b[0;34m\u001b[0m\u001b[0m\n\u001b[0m\u001b[1;32m      2\u001b[0m \u001b[0my\u001b[0m\u001b[0;34m\u001b[0m\u001b[0;34m\u001b[0m\u001b[0m\n",
            "\u001b[0;31mNameError\u001b[0m: name 'importado_np' is not defined"
          ]
        }
      ]
    },
    {
      "cell_type": "code",
      "source": [
        "modelo_linear = np.polyfit(x, y, 1)\n"
      ],
      "metadata": {
        "id": "AR77xPQosS0u",
        "colab": {
          "base_uri": "https://localhost:8080/",
          "height": 165
        },
        "outputId": "2f32f09b-83c6-4c38-927a-7864b3a0dede"
      },
      "execution_count": null,
      "outputs": [
        {
          "output_type": "error",
          "ename": "NameError",
          "evalue": "ignored",
          "traceback": [
            "\u001b[0;31m---------------------------------------------------------------------------\u001b[0m",
            "\u001b[0;31mNameError\u001b[0m                                 Traceback (most recent call last)",
            "\u001b[0;32m<ipython-input-7-585c99663ac4>\u001b[0m in \u001b[0;36m<cell line: 1>\u001b[0;34m()\u001b[0m\n\u001b[0;32m----> 1\u001b[0;31m \u001b[0mmodelo_linear\u001b[0m \u001b[0;34m=\u001b[0m \u001b[0mnp\u001b[0m\u001b[0;34m.\u001b[0m\u001b[0mpolyfit\u001b[0m\u001b[0;34m(\u001b[0m\u001b[0mx\u001b[0m\u001b[0;34m,\u001b[0m \u001b[0my\u001b[0m\u001b[0;34m,\u001b[0m \u001b[0;36m1\u001b[0m\u001b[0;34m)\u001b[0m\u001b[0;34m\u001b[0m\u001b[0;34m\u001b[0m\u001b[0m\n\u001b[0m",
            "\u001b[0;31mNameError\u001b[0m: name 'x' is not defined"
          ]
        }
      ]
    },
    {
      "cell_type": "code",
      "source": [
        "modelo_linear"
      ],
      "metadata": {
        "colab": {
          "base_uri": "https://localhost:8080/",
          "height": 165
        },
        "id": "EWDtQTI4slmN",
        "outputId": "d8f69b0b-6612-431f-82d3-af7bf4e3aaa5"
      },
      "execution_count": null,
      "outputs": [
        {
          "output_type": "error",
          "ename": "NameError",
          "evalue": "ignored",
          "traceback": [
            "\u001b[0;31m---------------------------------------------------------------------------\u001b[0m",
            "\u001b[0;31mNameError\u001b[0m                                 Traceback (most recent call last)",
            "\u001b[0;32m<ipython-input-8-0bd5efcf907a>\u001b[0m in \u001b[0;36m<cell line: 1>\u001b[0;34m()\u001b[0m\n\u001b[0;32m----> 1\u001b[0;31m \u001b[0mmodelo_linear\u001b[0m\u001b[0;34m\u001b[0m\u001b[0;34m\u001b[0m\u001b[0m\n\u001b[0m",
            "\u001b[0;31mNameError\u001b[0m: name 'modelo_linear' is not defined"
          ]
        }
      ]
    },
    {
      "cell_type": "code",
      "source": [
        "import pandas as pd\n",
        "import numpy as np\n",
        "import matplotlib.pyplot as plt\n",
        "from scipy import stats\n",
        "# importando os dados\n",
        "importado = pd.read_excel('dados.xlsx')\n",
        "importado_np = importado.values"
      ],
      "metadata": {
        "id": "q-2iVhANtFRN",
        "colab": {
          "base_uri": "https://localhost:8080/",
          "height": 363
        },
        "outputId": "71c9d385-5836-4842-ee26-bf3e96264ce6"
      },
      "execution_count": null,
      "outputs": [
        {
          "output_type": "error",
          "ename": "FileNotFoundError",
          "evalue": "ignored",
          "traceback": [
            "\u001b[0;31m---------------------------------------------------------------------------\u001b[0m",
            "\u001b[0;31mFileNotFoundError\u001b[0m                         Traceback (most recent call last)",
            "\u001b[0;32m<ipython-input-9-427b367237c5>\u001b[0m in \u001b[0;36m<cell line: 6>\u001b[0;34m()\u001b[0m\n\u001b[1;32m      4\u001b[0m \u001b[0;32mfrom\u001b[0m \u001b[0mscipy\u001b[0m \u001b[0;32mimport\u001b[0m \u001b[0mstats\u001b[0m\u001b[0;34m\u001b[0m\u001b[0;34m\u001b[0m\u001b[0m\n\u001b[1;32m      5\u001b[0m \u001b[0;31m# importando os dados\u001b[0m\u001b[0;34m\u001b[0m\u001b[0;34m\u001b[0m\u001b[0m\n\u001b[0;32m----> 6\u001b[0;31m \u001b[0mimportado\u001b[0m \u001b[0;34m=\u001b[0m \u001b[0mpd\u001b[0m\u001b[0;34m.\u001b[0m\u001b[0mread_excel\u001b[0m\u001b[0;34m(\u001b[0m\u001b[0;34m'dados.xlsx'\u001b[0m\u001b[0;34m)\u001b[0m\u001b[0;34m\u001b[0m\u001b[0;34m\u001b[0m\u001b[0m\n\u001b[0m\u001b[1;32m      7\u001b[0m \u001b[0mimportado_np\u001b[0m \u001b[0;34m=\u001b[0m \u001b[0mimportado\u001b[0m\u001b[0;34m.\u001b[0m\u001b[0mvalues\u001b[0m\u001b[0;34m\u001b[0m\u001b[0;34m\u001b[0m\u001b[0m\n",
            "\u001b[0;32m/usr/local/lib/python3.10/dist-packages/pandas/util/_decorators.py\u001b[0m in \u001b[0;36mwrapper\u001b[0;34m(*args, **kwargs)\u001b[0m\n\u001b[1;32m    209\u001b[0m                 \u001b[0;32melse\u001b[0m\u001b[0;34m:\u001b[0m\u001b[0;34m\u001b[0m\u001b[0;34m\u001b[0m\u001b[0m\n\u001b[1;32m    210\u001b[0m                     \u001b[0mkwargs\u001b[0m\u001b[0;34m[\u001b[0m\u001b[0mnew_arg_name\u001b[0m\u001b[0;34m]\u001b[0m \u001b[0;34m=\u001b[0m \u001b[0mnew_arg_value\u001b[0m\u001b[0;34m\u001b[0m\u001b[0;34m\u001b[0m\u001b[0m\n\u001b[0;32m--> 211\u001b[0;31m             \u001b[0;32mreturn\u001b[0m \u001b[0mfunc\u001b[0m\u001b[0;34m(\u001b[0m\u001b[0;34m*\u001b[0m\u001b[0margs\u001b[0m\u001b[0;34m,\u001b[0m \u001b[0;34m**\u001b[0m\u001b[0mkwargs\u001b[0m\u001b[0;34m)\u001b[0m\u001b[0;34m\u001b[0m\u001b[0;34m\u001b[0m\u001b[0m\n\u001b[0m\u001b[1;32m    212\u001b[0m \u001b[0;34m\u001b[0m\u001b[0m\n\u001b[1;32m    213\u001b[0m         \u001b[0;32mreturn\u001b[0m \u001b[0mcast\u001b[0m\u001b[0;34m(\u001b[0m\u001b[0mF\u001b[0m\u001b[0;34m,\u001b[0m \u001b[0mwrapper\u001b[0m\u001b[0;34m)\u001b[0m\u001b[0;34m\u001b[0m\u001b[0;34m\u001b[0m\u001b[0m\n",
            "\u001b[0;32m/usr/local/lib/python3.10/dist-packages/pandas/util/_decorators.py\u001b[0m in \u001b[0;36mwrapper\u001b[0;34m(*args, **kwargs)\u001b[0m\n\u001b[1;32m    329\u001b[0m                     \u001b[0mstacklevel\u001b[0m\u001b[0;34m=\u001b[0m\u001b[0mfind_stack_level\u001b[0m\u001b[0;34m(\u001b[0m\u001b[0;34m)\u001b[0m\u001b[0;34m,\u001b[0m\u001b[0;34m\u001b[0m\u001b[0;34m\u001b[0m\u001b[0m\n\u001b[1;32m    330\u001b[0m                 )\n\u001b[0;32m--> 331\u001b[0;31m             \u001b[0;32mreturn\u001b[0m \u001b[0mfunc\u001b[0m\u001b[0;34m(\u001b[0m\u001b[0;34m*\u001b[0m\u001b[0margs\u001b[0m\u001b[0;34m,\u001b[0m \u001b[0;34m**\u001b[0m\u001b[0mkwargs\u001b[0m\u001b[0;34m)\u001b[0m\u001b[0;34m\u001b[0m\u001b[0;34m\u001b[0m\u001b[0m\n\u001b[0m\u001b[1;32m    332\u001b[0m \u001b[0;34m\u001b[0m\u001b[0m\n\u001b[1;32m    333\u001b[0m         \u001b[0;31m# error: \"Callable[[VarArg(Any), KwArg(Any)], Any]\" has no\u001b[0m\u001b[0;34m\u001b[0m\u001b[0;34m\u001b[0m\u001b[0m\n",
            "\u001b[0;32m/usr/local/lib/python3.10/dist-packages/pandas/io/excel/_base.py\u001b[0m in \u001b[0;36mread_excel\u001b[0;34m(io, sheet_name, header, names, index_col, usecols, squeeze, dtype, engine, converters, true_values, false_values, skiprows, nrows, na_values, keep_default_na, na_filter, verbose, parse_dates, date_parser, thousands, decimal, comment, skipfooter, convert_float, mangle_dupe_cols, storage_options)\u001b[0m\n\u001b[1;32m    480\u001b[0m     \u001b[0;32mif\u001b[0m \u001b[0;32mnot\u001b[0m \u001b[0misinstance\u001b[0m\u001b[0;34m(\u001b[0m\u001b[0mio\u001b[0m\u001b[0;34m,\u001b[0m \u001b[0mExcelFile\u001b[0m\u001b[0;34m)\u001b[0m\u001b[0;34m:\u001b[0m\u001b[0;34m\u001b[0m\u001b[0;34m\u001b[0m\u001b[0m\n\u001b[1;32m    481\u001b[0m         \u001b[0mshould_close\u001b[0m \u001b[0;34m=\u001b[0m \u001b[0;32mTrue\u001b[0m\u001b[0;34m\u001b[0m\u001b[0;34m\u001b[0m\u001b[0m\n\u001b[0;32m--> 482\u001b[0;31m         \u001b[0mio\u001b[0m \u001b[0;34m=\u001b[0m \u001b[0mExcelFile\u001b[0m\u001b[0;34m(\u001b[0m\u001b[0mio\u001b[0m\u001b[0;34m,\u001b[0m \u001b[0mstorage_options\u001b[0m\u001b[0;34m=\u001b[0m\u001b[0mstorage_options\u001b[0m\u001b[0;34m,\u001b[0m \u001b[0mengine\u001b[0m\u001b[0;34m=\u001b[0m\u001b[0mengine\u001b[0m\u001b[0;34m)\u001b[0m\u001b[0;34m\u001b[0m\u001b[0;34m\u001b[0m\u001b[0m\n\u001b[0m\u001b[1;32m    483\u001b[0m     \u001b[0;32melif\u001b[0m \u001b[0mengine\u001b[0m \u001b[0;32mand\u001b[0m \u001b[0mengine\u001b[0m \u001b[0;34m!=\u001b[0m \u001b[0mio\u001b[0m\u001b[0;34m.\u001b[0m\u001b[0mengine\u001b[0m\u001b[0;34m:\u001b[0m\u001b[0;34m\u001b[0m\u001b[0;34m\u001b[0m\u001b[0m\n\u001b[1;32m    484\u001b[0m         raise ValueError(\n",
            "\u001b[0;32m/usr/local/lib/python3.10/dist-packages/pandas/io/excel/_base.py\u001b[0m in \u001b[0;36m__init__\u001b[0;34m(self, path_or_buffer, engine, storage_options)\u001b[0m\n\u001b[1;32m   1650\u001b[0m                 \u001b[0mext\u001b[0m \u001b[0;34m=\u001b[0m \u001b[0;34m\"xls\"\u001b[0m\u001b[0;34m\u001b[0m\u001b[0;34m\u001b[0m\u001b[0m\n\u001b[1;32m   1651\u001b[0m             \u001b[0;32melse\u001b[0m\u001b[0;34m:\u001b[0m\u001b[0;34m\u001b[0m\u001b[0;34m\u001b[0m\u001b[0m\n\u001b[0;32m-> 1652\u001b[0;31m                 ext = inspect_excel_format(\n\u001b[0m\u001b[1;32m   1653\u001b[0m                     \u001b[0mcontent_or_path\u001b[0m\u001b[0;34m=\u001b[0m\u001b[0mpath_or_buffer\u001b[0m\u001b[0;34m,\u001b[0m \u001b[0mstorage_options\u001b[0m\u001b[0;34m=\u001b[0m\u001b[0mstorage_options\u001b[0m\u001b[0;34m\u001b[0m\u001b[0;34m\u001b[0m\u001b[0m\n\u001b[1;32m   1654\u001b[0m                 )\n",
            "\u001b[0;32m/usr/local/lib/python3.10/dist-packages/pandas/io/excel/_base.py\u001b[0m in \u001b[0;36minspect_excel_format\u001b[0;34m(content_or_path, storage_options)\u001b[0m\n\u001b[1;32m   1523\u001b[0m         \u001b[0mcontent_or_path\u001b[0m \u001b[0;34m=\u001b[0m \u001b[0mBytesIO\u001b[0m\u001b[0;34m(\u001b[0m\u001b[0mcontent_or_path\u001b[0m\u001b[0;34m)\u001b[0m\u001b[0;34m\u001b[0m\u001b[0;34m\u001b[0m\u001b[0m\n\u001b[1;32m   1524\u001b[0m \u001b[0;34m\u001b[0m\u001b[0m\n\u001b[0;32m-> 1525\u001b[0;31m     with get_handle(\n\u001b[0m\u001b[1;32m   1526\u001b[0m         \u001b[0mcontent_or_path\u001b[0m\u001b[0;34m,\u001b[0m \u001b[0;34m\"rb\"\u001b[0m\u001b[0;34m,\u001b[0m \u001b[0mstorage_options\u001b[0m\u001b[0;34m=\u001b[0m\u001b[0mstorage_options\u001b[0m\u001b[0;34m,\u001b[0m \u001b[0mis_text\u001b[0m\u001b[0;34m=\u001b[0m\u001b[0;32mFalse\u001b[0m\u001b[0;34m\u001b[0m\u001b[0;34m\u001b[0m\u001b[0m\n\u001b[1;32m   1527\u001b[0m     ) as handle:\n",
            "\u001b[0;32m/usr/local/lib/python3.10/dist-packages/pandas/io/common.py\u001b[0m in \u001b[0;36mget_handle\u001b[0;34m(path_or_buf, mode, encoding, compression, memory_map, is_text, errors, storage_options)\u001b[0m\n\u001b[1;32m    863\u001b[0m         \u001b[0;32melse\u001b[0m\u001b[0;34m:\u001b[0m\u001b[0;34m\u001b[0m\u001b[0;34m\u001b[0m\u001b[0m\n\u001b[1;32m    864\u001b[0m             \u001b[0;31m# Binary mode\u001b[0m\u001b[0;34m\u001b[0m\u001b[0;34m\u001b[0m\u001b[0m\n\u001b[0;32m--> 865\u001b[0;31m             \u001b[0mhandle\u001b[0m \u001b[0;34m=\u001b[0m \u001b[0mopen\u001b[0m\u001b[0;34m(\u001b[0m\u001b[0mhandle\u001b[0m\u001b[0;34m,\u001b[0m \u001b[0mioargs\u001b[0m\u001b[0;34m.\u001b[0m\u001b[0mmode\u001b[0m\u001b[0;34m)\u001b[0m\u001b[0;34m\u001b[0m\u001b[0;34m\u001b[0m\u001b[0m\n\u001b[0m\u001b[1;32m    866\u001b[0m         \u001b[0mhandles\u001b[0m\u001b[0;34m.\u001b[0m\u001b[0mappend\u001b[0m\u001b[0;34m(\u001b[0m\u001b[0mhandle\u001b[0m\u001b[0;34m)\u001b[0m\u001b[0;34m\u001b[0m\u001b[0;34m\u001b[0m\u001b[0m\n\u001b[1;32m    867\u001b[0m \u001b[0;34m\u001b[0m\u001b[0m\n",
            "\u001b[0;31mFileNotFoundError\u001b[0m: [Errno 2] No such file or directory: 'dados.xlsx'"
          ]
        }
      ]
    },
    {
      "cell_type": "code",
      "source": [
        "x = importado_np[:,0]\n",
        "y1 = importado_np[:,1]\n",
        "y2 = importado_np[:,2]\n",
        "y3 = importado_np[:,3]"
      ],
      "metadata": {
        "id": "h4nMb6iJvxlu",
        "colab": {
          "base_uri": "https://localhost:8080/",
          "height": 217
        },
        "outputId": "e9508fa3-a6c8-468b-bae6-da253c0b6462"
      },
      "execution_count": null,
      "outputs": [
        {
          "output_type": "error",
          "ename": "NameError",
          "evalue": "ignored",
          "traceback": [
            "\u001b[0;31m---------------------------------------------------------------------------\u001b[0m",
            "\u001b[0;31mNameError\u001b[0m                                 Traceback (most recent call last)",
            "\u001b[0;32m<ipython-input-10-a3c9ed873d81>\u001b[0m in \u001b[0;36m<cell line: 1>\u001b[0;34m()\u001b[0m\n\u001b[0;32m----> 1\u001b[0;31m \u001b[0mx\u001b[0m \u001b[0;34m=\u001b[0m \u001b[0mimportado_np\u001b[0m\u001b[0;34m[\u001b[0m\u001b[0;34m:\u001b[0m\u001b[0;34m,\u001b[0m\u001b[0;36m0\u001b[0m\u001b[0;34m]\u001b[0m\u001b[0;34m\u001b[0m\u001b[0;34m\u001b[0m\u001b[0m\n\u001b[0m\u001b[1;32m      2\u001b[0m \u001b[0my1\u001b[0m \u001b[0;34m=\u001b[0m \u001b[0mimportado_np\u001b[0m\u001b[0;34m[\u001b[0m\u001b[0;34m:\u001b[0m\u001b[0;34m,\u001b[0m\u001b[0;36m1\u001b[0m\u001b[0;34m]\u001b[0m\u001b[0;34m\u001b[0m\u001b[0;34m\u001b[0m\u001b[0m\n\u001b[1;32m      3\u001b[0m \u001b[0my2\u001b[0m \u001b[0;34m=\u001b[0m \u001b[0mimportado_np\u001b[0m\u001b[0;34m[\u001b[0m\u001b[0;34m:\u001b[0m\u001b[0;34m,\u001b[0m\u001b[0;36m2\u001b[0m\u001b[0;34m]\u001b[0m\u001b[0;34m\u001b[0m\u001b[0;34m\u001b[0m\u001b[0m\n\u001b[1;32m      4\u001b[0m \u001b[0my3\u001b[0m \u001b[0;34m=\u001b[0m \u001b[0mimportado_np\u001b[0m\u001b[0;34m[\u001b[0m\u001b[0;34m:\u001b[0m\u001b[0;34m,\u001b[0m\u001b[0;36m3\u001b[0m\u001b[0;34m]\u001b[0m\u001b[0;34m\u001b[0m\u001b[0;34m\u001b[0m\u001b[0m\n",
            "\u001b[0;31mNameError\u001b[0m: name 'importado_np' is not defined"
          ]
        }
      ]
    },
    {
      "cell_type": "code",
      "source": [
        "a = np.array([y1,y2,y3])\n",
        "a = np.transpose(a)\n",
        "a"
      ],
      "metadata": {
        "colab": {
          "base_uri": "https://localhost:8080/",
          "height": 200
        },
        "id": "MUO4StX7wJO-",
        "outputId": "484d251b-edf4-46bd-e964-d1116f95cbaa"
      },
      "execution_count": null,
      "outputs": [
        {
          "output_type": "error",
          "ename": "NameError",
          "evalue": "ignored",
          "traceback": [
            "\u001b[0;31m---------------------------------------------------------------------------\u001b[0m",
            "\u001b[0;31mNameError\u001b[0m                                 Traceback (most recent call last)",
            "\u001b[0;32m<ipython-input-11-e35683c02c7e>\u001b[0m in \u001b[0;36m<cell line: 1>\u001b[0;34m()\u001b[0m\n\u001b[0;32m----> 1\u001b[0;31m \u001b[0ma\u001b[0m \u001b[0;34m=\u001b[0m \u001b[0mnp\u001b[0m\u001b[0;34m.\u001b[0m\u001b[0marray\u001b[0m\u001b[0;34m(\u001b[0m\u001b[0;34m[\u001b[0m\u001b[0my1\u001b[0m\u001b[0;34m,\u001b[0m\u001b[0my2\u001b[0m\u001b[0;34m,\u001b[0m\u001b[0my3\u001b[0m\u001b[0;34m]\u001b[0m\u001b[0;34m)\u001b[0m\u001b[0;34m\u001b[0m\u001b[0;34m\u001b[0m\u001b[0m\n\u001b[0m\u001b[1;32m      2\u001b[0m \u001b[0ma\u001b[0m \u001b[0;34m=\u001b[0m \u001b[0mnp\u001b[0m\u001b[0;34m.\u001b[0m\u001b[0mtranspose\u001b[0m\u001b[0;34m(\u001b[0m\u001b[0ma\u001b[0m\u001b[0;34m)\u001b[0m\u001b[0;34m\u001b[0m\u001b[0;34m\u001b[0m\u001b[0m\n\u001b[1;32m      3\u001b[0m \u001b[0ma\u001b[0m\u001b[0;34m\u001b[0m\u001b[0;34m\u001b[0m\u001b[0m\n",
            "\u001b[0;31mNameError\u001b[0m: name 'y1' is not defined"
          ]
        }
      ]
    },
    {
      "cell_type": "code",
      "source": [
        "y_media = np.mean(a, axis=1)\n",
        "y_media\n"
      ],
      "metadata": {
        "colab": {
          "base_uri": "https://localhost:8080/",
          "height": 183
        },
        "id": "enXAlT1xwPzu",
        "outputId": "f24a00ca-da1d-4dc2-f4dc-ca102a2958a2"
      },
      "execution_count": null,
      "outputs": [
        {
          "output_type": "error",
          "ename": "NameError",
          "evalue": "ignored",
          "traceback": [
            "\u001b[0;31m---------------------------------------------------------------------------\u001b[0m",
            "\u001b[0;31mNameError\u001b[0m                                 Traceback (most recent call last)",
            "\u001b[0;32m<ipython-input-12-2191cf8d731a>\u001b[0m in \u001b[0;36m<cell line: 1>\u001b[0;34m()\u001b[0m\n\u001b[0;32m----> 1\u001b[0;31m \u001b[0my_media\u001b[0m \u001b[0;34m=\u001b[0m \u001b[0mnp\u001b[0m\u001b[0;34m.\u001b[0m\u001b[0mmean\u001b[0m\u001b[0;34m(\u001b[0m\u001b[0ma\u001b[0m\u001b[0;34m,\u001b[0m \u001b[0maxis\u001b[0m\u001b[0;34m=\u001b[0m\u001b[0;36m1\u001b[0m\u001b[0;34m)\u001b[0m\u001b[0;34m\u001b[0m\u001b[0;34m\u001b[0m\u001b[0m\n\u001b[0m\u001b[1;32m      2\u001b[0m \u001b[0my_media\u001b[0m\u001b[0;34m\u001b[0m\u001b[0;34m\u001b[0m\u001b[0m\n",
            "\u001b[0;31mNameError\u001b[0m: name 'a' is not defined"
          ]
        }
      ]
    },
    {
      "cell_type": "code",
      "source": [
        "y_std = np.std(a, axis=1)\n",
        "y_std"
      ],
      "metadata": {
        "colab": {
          "base_uri": "https://localhost:8080/",
          "height": 183
        },
        "id": "CqzCsuKeysU1",
        "outputId": "eb97ed0a-4486-479d-85a3-1bb13daf0667"
      },
      "execution_count": null,
      "outputs": [
        {
          "output_type": "error",
          "ename": "NameError",
          "evalue": "ignored",
          "traceback": [
            "\u001b[0;31m---------------------------------------------------------------------------\u001b[0m",
            "\u001b[0;31mNameError\u001b[0m                                 Traceback (most recent call last)",
            "\u001b[0;32m<ipython-input-13-303d62a3e123>\u001b[0m in \u001b[0;36m<cell line: 1>\u001b[0;34m()\u001b[0m\n\u001b[0;32m----> 1\u001b[0;31m \u001b[0my_std\u001b[0m \u001b[0;34m=\u001b[0m \u001b[0mnp\u001b[0m\u001b[0;34m.\u001b[0m\u001b[0mstd\u001b[0m\u001b[0;34m(\u001b[0m\u001b[0ma\u001b[0m\u001b[0;34m,\u001b[0m \u001b[0maxis\u001b[0m\u001b[0;34m=\u001b[0m\u001b[0;36m1\u001b[0m\u001b[0;34m)\u001b[0m\u001b[0;34m\u001b[0m\u001b[0;34m\u001b[0m\u001b[0m\n\u001b[0m\u001b[1;32m      2\u001b[0m \u001b[0my_std\u001b[0m\u001b[0;34m\u001b[0m\u001b[0;34m\u001b[0m\u001b[0m\n",
            "\u001b[0;31mNameError\u001b[0m: name 'a' is not defined"
          ]
        }
      ]
    },
    {
      "cell_type": "code",
      "source": [
        "conf_int = stats.norm.interval (0.95, loc=y_media, scale=y_std)\n",
        "conf_int"
      ],
      "metadata": {
        "colab": {
          "base_uri": "https://localhost:8080/",
          "height": 183
        },
        "id": "C-R-adsrzdT1",
        "outputId": "81059fae-e954-4032-cf2c-b0d71ce9c464"
      },
      "execution_count": null,
      "outputs": [
        {
          "output_type": "error",
          "ename": "NameError",
          "evalue": "ignored",
          "traceback": [
            "\u001b[0;31m---------------------------------------------------------------------------\u001b[0m",
            "\u001b[0;31mNameError\u001b[0m                                 Traceback (most recent call last)",
            "\u001b[0;32m<ipython-input-14-21a443a32088>\u001b[0m in \u001b[0;36m<cell line: 1>\u001b[0;34m()\u001b[0m\n\u001b[0;32m----> 1\u001b[0;31m \u001b[0mconf_int\u001b[0m \u001b[0;34m=\u001b[0m \u001b[0mstats\u001b[0m\u001b[0;34m.\u001b[0m\u001b[0mnorm\u001b[0m\u001b[0;34m.\u001b[0m\u001b[0minterval\u001b[0m \u001b[0;34m(\u001b[0m\u001b[0;36m0.95\u001b[0m\u001b[0;34m,\u001b[0m \u001b[0mloc\u001b[0m\u001b[0;34m=\u001b[0m\u001b[0my_media\u001b[0m\u001b[0;34m,\u001b[0m \u001b[0mscale\u001b[0m\u001b[0;34m=\u001b[0m\u001b[0my_std\u001b[0m\u001b[0;34m)\u001b[0m\u001b[0;34m\u001b[0m\u001b[0;34m\u001b[0m\u001b[0m\n\u001b[0m\u001b[1;32m      2\u001b[0m \u001b[0mconf_int\u001b[0m\u001b[0;34m\u001b[0m\u001b[0;34m\u001b[0m\u001b[0m\n",
            "\u001b[0;31mNameError\u001b[0m: name 'y_media' is not defined"
          ]
        }
      ]
    },
    {
      "cell_type": "code",
      "source": [
        "menor = np.array(conf_int[0])\n",
        "maior = np.array(conf_int[1])\n"
      ],
      "metadata": {
        "id": "lmAHbU520CM-",
        "colab": {
          "base_uri": "https://localhost:8080/",
          "height": 183
        },
        "outputId": "8fe60074-e88a-427f-a545-36cd4580cbc2"
      },
      "execution_count": null,
      "outputs": [
        {
          "output_type": "error",
          "ename": "NameError",
          "evalue": "ignored",
          "traceback": [
            "\u001b[0;31m---------------------------------------------------------------------------\u001b[0m",
            "\u001b[0;31mNameError\u001b[0m                                 Traceback (most recent call last)",
            "\u001b[0;32m<ipython-input-15-0e0f8c79513c>\u001b[0m in \u001b[0;36m<cell line: 1>\u001b[0;34m()\u001b[0m\n\u001b[0;32m----> 1\u001b[0;31m \u001b[0mmenor\u001b[0m \u001b[0;34m=\u001b[0m \u001b[0mnp\u001b[0m\u001b[0;34m.\u001b[0m\u001b[0marray\u001b[0m\u001b[0;34m(\u001b[0m\u001b[0mconf_int\u001b[0m\u001b[0;34m[\u001b[0m\u001b[0;36m0\u001b[0m\u001b[0;34m]\u001b[0m\u001b[0;34m)\u001b[0m\u001b[0;34m\u001b[0m\u001b[0;34m\u001b[0m\u001b[0m\n\u001b[0m\u001b[1;32m      2\u001b[0m \u001b[0mmaior\u001b[0m \u001b[0;34m=\u001b[0m \u001b[0mnp\u001b[0m\u001b[0;34m.\u001b[0m\u001b[0marray\u001b[0m\u001b[0;34m(\u001b[0m\u001b[0mconf_int\u001b[0m\u001b[0;34m[\u001b[0m\u001b[0;36m1\u001b[0m\u001b[0;34m]\u001b[0m\u001b[0;34m)\u001b[0m\u001b[0;34m\u001b[0m\u001b[0;34m\u001b[0m\u001b[0m\n",
            "\u001b[0;31mNameError\u001b[0m: name 'conf_int' is not defined"
          ]
        }
      ]
    },
    {
      "cell_type": "code",
      "source": [
        "modelo_linear = np.polyfit(x, y_media, 1)\n",
        "modelo_y = np.polyval(modelo_linear,x)"
      ],
      "metadata": {
        "id": "yTbZMtRK4QG2",
        "colab": {
          "base_uri": "https://localhost:8080/",
          "height": 183
        },
        "outputId": "555c2332-faaf-4f98-b9e1-f1b5701193c6"
      },
      "execution_count": null,
      "outputs": [
        {
          "output_type": "error",
          "ename": "NameError",
          "evalue": "ignored",
          "traceback": [
            "\u001b[0;31m---------------------------------------------------------------------------\u001b[0m",
            "\u001b[0;31mNameError\u001b[0m                                 Traceback (most recent call last)",
            "\u001b[0;32m<ipython-input-16-ecafcd5c78e7>\u001b[0m in \u001b[0;36m<cell line: 1>\u001b[0;34m()\u001b[0m\n\u001b[0;32m----> 1\u001b[0;31m \u001b[0mmodelo_linear\u001b[0m \u001b[0;34m=\u001b[0m \u001b[0mnp\u001b[0m\u001b[0;34m.\u001b[0m\u001b[0mpolyfit\u001b[0m\u001b[0;34m(\u001b[0m\u001b[0mx\u001b[0m\u001b[0;34m,\u001b[0m \u001b[0my_media\u001b[0m\u001b[0;34m,\u001b[0m \u001b[0;36m1\u001b[0m\u001b[0;34m)\u001b[0m\u001b[0;34m\u001b[0m\u001b[0;34m\u001b[0m\u001b[0m\n\u001b[0m\u001b[1;32m      2\u001b[0m \u001b[0mmodelo_y\u001b[0m \u001b[0;34m=\u001b[0m \u001b[0mnp\u001b[0m\u001b[0;34m.\u001b[0m\u001b[0mpolyval\u001b[0m\u001b[0;34m(\u001b[0m\u001b[0mmodelo_linear\u001b[0m\u001b[0;34m,\u001b[0m\u001b[0mx\u001b[0m\u001b[0;34m)\u001b[0m\u001b[0;34m\u001b[0m\u001b[0;34m\u001b[0m\u001b[0m\n",
            "\u001b[0;31mNameError\u001b[0m: name 'x' is not defined"
          ]
        }
      ]
    },
    {
      "cell_type": "code",
      "source": [
        "SMALL_SIZE = 14\n",
        "MEDIUM_SIZE = 20\n",
        "BIGGER_SIZE = 20\n",
        "\n",
        "plt.rc('font', size = SMALL_SIZE)\n",
        "plt.rc('axes', titlesize = SMALL_SIZE)\n",
        "plt.rc('xtick', labelsize = SMALL_SIZE)\n",
        "plt.rc('axes', labelsize = SMALL_SIZE)\n",
        "plt.rc('ytick', labelsize = SMALL_SIZE)\n",
        "plt.rc('legend', fontsize = SMALL_SIZE)\n",
        "plt.rc('figure', titlesize = BIGGER_SIZE)\n",
        "\n",
        "#Construindo o gráfico\n",
        "f= plt.figure()\n",
        "ax = f.add_subplot(111)\n",
        "lns1 = ax.plot(x,y_media, 'o', label=\"Dados Experimentais\")\n",
        "lns2 = ax.plot(x, modelo_y, 'b', label=\"Modelo linear\")\n",
        "ax.set_title(\"Ajuste linear dos pontos\")\n",
        "ax.fill_between(x, menor, maior, alpha = 0.3, label =\"Intervalo de confiança 95%\")\n",
        "ax.set_xlabel(\"Valores de X\", weight=\"bold\")\n",
        "ax.set_ylabel(\"Valores de y\", weight=\"bold\")\n",
        "ax.grid(True)\n",
        "f.set_figheight(5)\n",
        "f.set_figwidth(8)\n",
        "ax.legend(loc=0)\n",
        "f.patch.set_facecolor('white')\n",
        "plt.style.use('default')\n",
        "plt.savefig('linearizacao_com_media.png', dpi = 400)\n",
        "plt.show()"
      ],
      "metadata": {
        "colab": {
          "base_uri": "https://localhost:8080/",
          "height": 660
        },
        "id": "Q3rORhFg04Wd",
        "outputId": "281009d9-aaec-4e6b-b1c1-4dc5c2bf4e32"
      },
      "execution_count": null,
      "outputs": [
        {
          "output_type": "error",
          "ename": "NameError",
          "evalue": "ignored",
          "traceback": [
            "\u001b[0;31m---------------------------------------------------------------------------\u001b[0m",
            "\u001b[0;31mNameError\u001b[0m                                 Traceback (most recent call last)",
            "\u001b[0;32m<ipython-input-17-cd175bbc299f>\u001b[0m in \u001b[0;36m<cell line: 16>\u001b[0;34m()\u001b[0m\n\u001b[1;32m     14\u001b[0m \u001b[0mf\u001b[0m\u001b[0;34m=\u001b[0m \u001b[0mplt\u001b[0m\u001b[0;34m.\u001b[0m\u001b[0mfigure\u001b[0m\u001b[0;34m(\u001b[0m\u001b[0;34m)\u001b[0m\u001b[0;34m\u001b[0m\u001b[0;34m\u001b[0m\u001b[0m\n\u001b[1;32m     15\u001b[0m \u001b[0max\u001b[0m \u001b[0;34m=\u001b[0m \u001b[0mf\u001b[0m\u001b[0;34m.\u001b[0m\u001b[0madd_subplot\u001b[0m\u001b[0;34m(\u001b[0m\u001b[0;36m111\u001b[0m\u001b[0;34m)\u001b[0m\u001b[0;34m\u001b[0m\u001b[0;34m\u001b[0m\u001b[0m\n\u001b[0;32m---> 16\u001b[0;31m \u001b[0mlns1\u001b[0m \u001b[0;34m=\u001b[0m \u001b[0max\u001b[0m\u001b[0;34m.\u001b[0m\u001b[0mplot\u001b[0m\u001b[0;34m(\u001b[0m\u001b[0mx\u001b[0m\u001b[0;34m,\u001b[0m\u001b[0my_media\u001b[0m\u001b[0;34m,\u001b[0m \u001b[0;34m'o'\u001b[0m\u001b[0;34m,\u001b[0m \u001b[0mlabel\u001b[0m\u001b[0;34m=\u001b[0m\u001b[0;34m\"Dados Experimentais\"\u001b[0m\u001b[0;34m)\u001b[0m\u001b[0;34m\u001b[0m\u001b[0;34m\u001b[0m\u001b[0m\n\u001b[0m\u001b[1;32m     17\u001b[0m \u001b[0mlns2\u001b[0m \u001b[0;34m=\u001b[0m \u001b[0max\u001b[0m\u001b[0;34m.\u001b[0m\u001b[0mplot\u001b[0m\u001b[0;34m(\u001b[0m\u001b[0mx\u001b[0m\u001b[0;34m,\u001b[0m \u001b[0mmodelo_y\u001b[0m\u001b[0;34m,\u001b[0m \u001b[0;34m'b'\u001b[0m\u001b[0;34m,\u001b[0m \u001b[0mlabel\u001b[0m\u001b[0;34m=\u001b[0m\u001b[0;34m\"Modelo linear\"\u001b[0m\u001b[0;34m)\u001b[0m\u001b[0;34m\u001b[0m\u001b[0;34m\u001b[0m\u001b[0m\n\u001b[1;32m     18\u001b[0m \u001b[0max\u001b[0m\u001b[0;34m.\u001b[0m\u001b[0mset_title\u001b[0m\u001b[0;34m(\u001b[0m\u001b[0;34m\"Ajuste linear dos pontos\"\u001b[0m\u001b[0;34m)\u001b[0m\u001b[0;34m\u001b[0m\u001b[0;34m\u001b[0m\u001b[0m\n",
            "\u001b[0;31mNameError\u001b[0m: name 'x' is not defined"
          ]
        },
        {
          "output_type": "display_data",
          "data": {
            "text/plain": [
              "<Figure size 640x480 with 1 Axes>"
            ],
            "image/png": "[encoded data removed]"
          },
          "metadata": {}
        }
      ]
    },
    {
      "cell_type": "markdown",
      "source": [
        "https://matplotlib.org/stable/plot_types/basic/fill_between.html#sphx-glr-plot-types-basic-fill-between-py"
      ],
      "metadata": {
        "id": "8XKMUJ5R6KmG"
      }
    },
    {
      "cell_type": "markdown",
      "source": [
        "https://matplotlib.org/cheatsheets/_images/cheatsheets-1.png"
      ],
      "metadata": {
        "id": "awuo4MVs6X7m"
      }
    },
    {
      "cell_type": "markdown",
      "source": [
        "#Animation\n"
      ],
      "metadata": {
        "id": "dB3Ka7h71xnu"
      }
    },
    {
      "cell_type": "code",
      "source": [
        "import matplotlib.pyplot as plt\n",
        "import matplotlib.animation as mpla\n",
        "import numpy as np\n",
        "\n",
        "T = np.linspace(0, 2*np.pi, 100)\n",
        "S = np.sin(T)\n",
        "line = plt.plot(T,S)\n",
        "\n",
        "def animate(i):\n",
        "  line.set.ydata(np.sin(T+i/25))\n",
        "anim = mpla.FuncAnimation(plt.gcf(), animate, interval=5)\n",
        "plt.show()"
      ],
      "metadata": {
        "colab": {
          "base_uri": "https://localhost:8080/",
          "height": 485
        },
        "id": "AKNj3EbD2QbA",
        "outputId": "1b35ed4d-e3e2-449a-f391-b5fcf596477c"
      },
      "execution_count": null,
      "outputs": [
        {
          "output_type": "stream",
          "name": "stderr",
          "text": [
            "<ipython-input-3-a53045ed6073>:11: UserWarning: frames=None which we can infer the length of, did not pass an explicit *save_count* and passed cache_frame_data=True.  To avoid a possibly unbounded cache, frame data caching has been disabled. To suppress this warning either pass `cache_frame_data=False` or `save_count=MAX_FRAMES`.\n",
            "  anim = mpla.FuncAnimation(plt.gcf(), animate, interval=5)\n"
          ]
        },
        {
          "output_type": "display_data",
          "data": {
            "text/plain": [
              "<Figure size 640x480 with 1 Axes>"
            ],
            "image/png": "[encoded data removed]"
          },
          "metadata": {}
        }
      ]
    },
    {
      "cell_type": "code",
      "source": [
        "import numpy as np\n",
        "import matplotlib.pyplot as plt\n",
        "import matplotlib.animation as animation\n",
        "\n",
        "fig, ax = plt.subplots()\n",
        "\n",
        "x = np.arange(0, 2*np.pi, 0.01)\n",
        "line, = ax.plot(x, np.sin(x))\n",
        "\n",
        "\n",
        "def animate(i):\n",
        "    line.set_ydata(np.sin(x + i / 50))  # update the data.\n",
        "    return line,\n",
        "\n",
        "\n",
        "ani = animation.FuncAnimation(\n",
        "    fig, animate, interval=20, blit=True, save_count=50)\n",
        "\n",
        "# To save the animation, use e.g.\n",
        "#\n",
        "# ani.save(\"movie.mp4\")\n",
        "#\n",
        "# or\n",
        "#\n",
        "# writer = animation.FFMpegWriter(\n",
        "#     fps=15, metadata=dict(artist='Me'), bitrate=1800)\n",
        "# ani.save(\"movie.mp4\", writer=writer)\n",
        "\n",
        "plt.show()"
      ],
      "metadata": {
        "colab": {
          "base_uri": "https://localhost:8080/",
          "height": 430
        },
        "id": "_THqouXG3txS",
        "outputId": "aaca05bf-fe7f-4f6d-b368-64bbecda4f91"
      },
      "execution_count": null,
      "outputs": [
        {
          "output_type": "display_data",
          "data": {
            "text/plain": [
              "<Figure size 640x480 with 1 Axes>"
            ],
            "image/png": "[encoded data removed]"
          },
          "metadata": {}
        }
      ]
    },
    {
      "cell_type": "code",
      "source": [
        "import numpy as np\n",
        "import matplotlib.pyplot as plt\n",
        "import matplotlib.animation as animation\n",
        "\n",
        "fig, ax = plt.subplots()\n",
        "\n",
        "x = np.arange(0, 2*np.pi, 0.01)\n",
        "line, = ax.plot(x, np.sin(x))\n",
        "\n",
        "\n",
        "def animate(i):\n",
        "    line.set_ydata(np.sin(x + i / 10))  # update the data.\n",
        "    return line,\n",
        "\n",
        "\n",
        "ani = animation.FuncAnimation(\n",
        "    fig, animate, interval=20, blit=True, save_count=100)\n",
        "\n",
        "ani.save(\"movie.mp4\")  #  baixar arquivo e executar\n",
        "\n",
        "\n",
        "plt.show()"
      ],
      "metadata": {
        "colab": {
          "base_uri": "https://localhost:8080/",
          "height": 430
        },
        "id": "lB7TM9M84oti",
        "outputId": "6f45ebf1-799d-4da2-f8df-9fe436d62f0e"
      },
      "execution_count": null,
      "outputs": [
        {
          "output_type": "display_data",
          "data": {
            "text/plain": [
              "<Figure size 640x480 with 1 Axes>"
            ],
            "image/png": "[encoded data removed]"
          },
          "metadata": {}
        }
      ]
    },
    {
      "cell_type": "markdown",
      "source": [
        "https://matplotlib.org/stable/api/_as_gen/matplotlib.animation.FuncAnimation.html"
      ],
      "metadata": {
        "id": "LK_kJfOI573N"
      }
    },
    {
      "cell_type": "markdown",
      "source": [
        "#Lista, Tuplas e Sequências"
      ],
      "metadata": {
        "id": "O9BBZcSS6kEX"
      }
    },
    {
      "cell_type": "code",
      "source": [
        "# String\n",
        "x = \"frog\"\n",
        "print(x[3])\n",
        "\n",
        "# Lista\n",
        "x = ['pig', 'cow', 'horse']\n",
        "print(x[1])"
      ],
      "metadata": {
        "colab": {
          "base_uri": "https://localhost:8080/"
        },
        "id": "_HUY7sIM6phX",
        "outputId": "0f7554c1-c884-491c-ee9d-b4e6ba13b859"
      },
      "execution_count": null,
      "outputs": [
        {
          "output_type": "stream",
          "name": "stdout",
          "text": [
            "g\n",
            "cow\n"
          ]
        }
      ]
    },
    {
      "cell_type": "code",
      "source": [
        "x = 'Computer'\n",
        "\n",
        "print(x[1:4])"
      ],
      "metadata": {
        "colab": {
          "base_uri": "https://localhost:8080/"
        },
        "id": "cxpfMeQ76_Yw",
        "outputId": "c595393f-5257-472e-cb0d-0ab14fa4f062"
      },
      "execution_count": null,
      "outputs": [
        {
          "output_type": "stream",
          "name": "stdout",
          "text": [
            "omp\n"
          ]
        }
      ]
    },
    {
      "cell_type": "code",
      "source": [
        "x = 'Computer'\n",
        "\n",
        "print(x[1:6:2])   # vai imprimir do 2º elemento ao 5º de 2 em 2"
      ],
      "metadata": {
        "colab": {
          "base_uri": "https://localhost:8080/"
        },
        "id": "9Q752x3f7dbw",
        "outputId": "f45c81a7-5ef7-429b-b58b-ebc6c8b5789f"
      },
      "execution_count": null,
      "outputs": [
        {
          "output_type": "stream",
          "name": "stdout",
          "text": [
            "opt\n"
          ]
        }
      ]
    },
    {
      "cell_type": "code",
      "source": [
        "print(x[3:])"
      ],
      "metadata": {
        "colab": {
          "base_uri": "https://localhost:8080/"
        },
        "id": "WCJYEjsF7qSR",
        "outputId": "01483bdf-8e47-4ab1-a36b-211245befaff"
      },
      "execution_count": null,
      "outputs": [
        {
          "output_type": "stream",
          "name": "stdout",
          "text": [
            "puter\n"
          ]
        }
      ]
    },
    {
      "cell_type": "code",
      "source": [
        "print(x[:5])   #  até o 4º elemento"
      ],
      "metadata": {
        "colab": {
          "base_uri": "https://localhost:8080/"
        },
        "id": "qz8-Cmw479wy",
        "outputId": "18bbd888-3b0b-423f-a39c-d606ff16aeb8"
      },
      "execution_count": null,
      "outputs": [
        {
          "output_type": "stream",
          "name": "stdout",
          "text": [
            "Compu\n"
          ]
        }
      ]
    },
    {
      "cell_type": "code",
      "source": [
        "print(x[-1])   #  ultimo elemento"
      ],
      "metadata": {
        "colab": {
          "base_uri": "https://localhost:8080/"
        },
        "id": "Es3ewjTm8BUS",
        "outputId": "5d6ed682-2c34-42d4-bfe4-9f87eed29252"
      },
      "execution_count": null,
      "outputs": [
        {
          "output_type": "stream",
          "name": "stdout",
          "text": [
            "r\n"
          ]
        }
      ]
    },
    {
      "cell_type": "code",
      "source": [
        "print(x[-3:])   #   das tres ultimas em diante"
      ],
      "metadata": {
        "colab": {
          "base_uri": "https://localhost:8080/"
        },
        "id": "njysnMJ_8UHx",
        "outputId": "8099775e-4211-4d9b-f6ef-7bff878ce272"
      },
      "execution_count": null,
      "outputs": [
        {
          "output_type": "stream",
          "name": "stdout",
          "text": [
            "ter\n"
          ]
        }
      ]
    },
    {
      "cell_type": "code",
      "source": [
        "print(x[:-2])  # Todos os elementos menos os penultimos"
      ],
      "metadata": {
        "colab": {
          "base_uri": "https://localhost:8080/"
        },
        "id": "Tl_ub5do8ZmC",
        "outputId": "83f683fa-0ee5-408f-b366-ed9520163b15"
      },
      "execution_count": null,
      "outputs": [
        {
          "output_type": "stream",
          "name": "stdout",
          "text": [
            "Comput\n"
          ]
        }
      ]
    },
    {
      "cell_type": "markdown",
      "source": [
        "##Soma"
      ],
      "metadata": {
        "id": "jiWNMTxY9Uds"
      }
    },
    {
      "cell_type": "code",
      "source": [
        "x = \"horse\" + 'shoe'  #   concatena\n",
        "print(x)"
      ],
      "metadata": {
        "colab": {
          "base_uri": "https://localhost:8080/"
        },
        "id": "CerqLxU08jpD",
        "outputId": "dfdd0234-333a-4bb7-e1d5-bb20b00e9f58"
      },
      "execution_count": null,
      "outputs": [
        {
          "output_type": "stream",
          "name": "stdout",
          "text": [
            "horseshoe\n"
          ]
        }
      ]
    },
    {
      "cell_type": "code",
      "source": [
        "y = [\"pig\", 'cow'] + ['horse']\n",
        "print(y)"
      ],
      "metadata": {
        "colab": {
          "base_uri": "https://localhost:8080/"
        },
        "id": "Onk_SEEj88xG",
        "outputId": "f92dbe93-88ec-4691-aada-5d47eef07ad2"
      },
      "execution_count": null,
      "outputs": [
        {
          "output_type": "stream",
          "name": "stdout",
          "text": [
            "['pig', 'cow', 'horse']\n"
          ]
        }
      ]
    },
    {
      "cell_type": "markdown",
      "source": [
        "##Multiplicação"
      ],
      "metadata": {
        "id": "bTzTx6_S9WTT"
      }
    },
    {
      "cell_type": "code",
      "source": [
        "#String e Lista\n",
        "x = \"bug\"*3\n",
        "print(x)"
      ],
      "metadata": {
        "colab": {
          "base_uri": "https://localhost:8080/"
        },
        "id": "WMNb-_fh9N9k",
        "outputId": "0f27900c-8468-414b-b0af-82e6b7d0d9b3"
      },
      "execution_count": null,
      "outputs": [
        {
          "output_type": "stream",
          "name": "stdout",
          "text": [
            "bugbugbug\n"
          ]
        }
      ]
    },
    {
      "cell_type": "code",
      "source": [
        "y = [8,5]*3\n",
        "print(y)"
      ],
      "metadata": {
        "colab": {
          "base_uri": "https://localhost:8080/"
        },
        "id": "2jlIcxk79gQE",
        "outputId": "b505b909-6e33-4452-fe14-bf4ad6874e75"
      },
      "execution_count": null,
      "outputs": [
        {
          "output_type": "stream",
          "name": "stdout",
          "text": [
            "[8, 5, 8, 5, 8, 5]\n"
          ]
        }
      ]
    },
    {
      "cell_type": "code",
      "source": [
        "z = \"_____\"*50\n",
        "print(z)"
      ],
      "metadata": {
        "colab": {
          "base_uri": "https://localhost:8080/"
        },
        "id": "YUMqkwtT9li0",
        "outputId": "7b3bb1e2-fea5-44e9-9bb5-ab59c026ca94"
      },
      "execution_count": null,
      "outputs": [
        {
          "output_type": "stream",
          "name": "stdout",
          "text": [
            "__________________________________________________________________________________________________________________________________________________________________________________________________________________________________________________________\n"
          ]
        }
      ]
    },
    {
      "cell_type": "code",
      "source": [
        "x = 'bug'\n",
        "print('u' in x)"
      ],
      "metadata": {
        "colab": {
          "base_uri": "https://localhost:8080/"
        },
        "id": "GIdoHGTh9uRE",
        "outputId": "f20c762f-4599-4f88-8c59-d86a1776aa6d"
      },
      "execution_count": null,
      "outputs": [
        {
          "output_type": "stream",
          "name": "stdout",
          "text": [
            "True\n"
          ]
        }
      ]
    },
    {
      "cell_type": "code",
      "source": [
        "x = 'bug'\n",
        "print('f' in x)"
      ],
      "metadata": {
        "colab": {
          "base_uri": "https://localhost:8080/"
        },
        "id": "nBSjTgh_94q0",
        "outputId": "511471ab-782c-4460-fbf5-d75262580c71"
      },
      "execution_count": null,
      "outputs": [
        {
          "output_type": "stream",
          "name": "stdout",
          "text": [
            "False\n"
          ]
        }
      ]
    },
    {
      "cell_type": "code",
      "source": [
        "y = [\"pig\", 'cow','horse']\n",
        "print('cow' not in y)"
      ],
      "metadata": {
        "colab": {
          "base_uri": "https://localhost:8080/"
        },
        "id": "e3pbUvua97pk",
        "outputId": "36219865-c916-4b0c-d6f2-31747bcd44d9"
      },
      "execution_count": null,
      "outputs": [
        {
          "output_type": "stream",
          "name": "stdout",
          "text": [
            "False\n"
          ]
        }
      ]
    },
    {
      "cell_type": "code",
      "source": [
        "x = 'bug'\n",
        "print(len(x))\n",
        "\n",
        "y = [\"pig\", 'cow','horse']    # Conta o numero de elementos\n",
        "print(len(y))"
      ],
      "metadata": {
        "colab": {
          "base_uri": "https://localhost:8080/"
        },
        "id": "T6-IQslG-LRV",
        "outputId": "de083423-c114-4ee9-f0b6-e987542616e9"
      },
      "execution_count": null,
      "outputs": [
        {
          "output_type": "stream",
          "name": "stdout",
          "text": [
            "3\n",
            "3\n"
          ]
        }
      ]
    },
    {
      "cell_type": "code",
      "source": [
        "x = 'bug'\n",
        "print(min(x))\n",
        "\n",
        "y = [\"pig\", 'cow','horse']    # Conta o numero MINIMO de elementos\n",
        "print(min(y))"
      ],
      "metadata": {
        "colab": {
          "base_uri": "https://localhost:8080/"
        },
        "id": "fjMrCKha-Y8V",
        "outputId": "ac7408f8-0cca-49b4-e341-2417ef9c22b3"
      },
      "execution_count": null,
      "outputs": [
        {
          "output_type": "stream",
          "name": "stdout",
          "text": [
            "b\n",
            "cow\n"
          ]
        }
      ]
    },
    {
      "cell_type": "code",
      "source": [
        "y = [\"pig\", 'cow','horse']    # Coloca em ordem alfabetica\n",
        "print(sorted(y))"
      ],
      "metadata": {
        "colab": {
          "base_uri": "https://localhost:8080/"
        },
        "id": "mqihvfA9-j3V",
        "outputId": "59ef821a-ec1b-43cb-810a-5d61672f2f8d"
      },
      "execution_count": null,
      "outputs": [
        {
          "output_type": "stream",
          "name": "stdout",
          "text": [
            "['cow', 'horse', 'pig']\n"
          ]
        }
      ]
    },
    {
      "cell_type": "code",
      "source": [
        "y = [\"pig\", 'cow','horse']    \n",
        "print(max(y))"
      ],
      "metadata": {
        "colab": {
          "base_uri": "https://localhost:8080/"
        },
        "id": "Ls3a7Ieb-2XW",
        "outputId": "e27f6a69-6932-4e49-e089-4c2f030ac2a1"
      },
      "execution_count": null,
      "outputs": [
        {
          "output_type": "stream",
          "name": "stdout",
          "text": [
            "pig\n"
          ]
        }
      ]
    },
    {
      "cell_type": "code",
      "source": [
        "help(max)"
      ],
      "metadata": {
        "colab": {
          "base_uri": "https://localhost:8080/"
        },
        "id": "BgBez4X9-5em",
        "outputId": "935c2045-4482-48b7-af2c-4a5ac6eac8c6"
      },
      "execution_count": null,
      "outputs": [
        {
          "output_type": "stream",
          "name": "stdout",
          "text": [
            "Help on built-in function max in module builtins:\n",
            "\n",
            "max(...)\n",
            "    max(iterable, *[, default=obj, key=func]) -> value\n",
            "    max(arg1, arg2, *args, *[, key=func]) -> value\n",
            "    \n",
            "    With a single iterable argument, return its biggest item. The\n",
            "    default keyword-only argument specifies an object to return if\n",
            "    the provided iterable is empty.\n",
            "    With two or more arguments, return the largest argument.\n",
            "\n"
          ]
        }
      ]
    },
    {
      "cell_type": "code",
      "source": [
        "x = \"hippo\"\n",
        "print(x.count('p'))   # quantos 'p' tem na lista"
      ],
      "metadata": {
        "colab": {
          "base_uri": "https://localhost:8080/"
        },
        "id": "x4bMTK2N_YKn",
        "outputId": "da25a46b-a3cb-4857-c9e7-a87442739ede"
      },
      "execution_count": null,
      "outputs": [
        {
          "output_type": "stream",
          "name": "stdout",
          "text": [
            "2\n"
          ]
        }
      ]
    },
    {
      "cell_type": "code",
      "source": [
        "x = ['pig', 'cow', 'horse']\n",
        "a, b, c = x\n",
        "print(a, b, c)                # Imprime na ordem escolhida"
      ],
      "metadata": {
        "colab": {
          "base_uri": "https://localhost:8080/"
        },
        "id": "qL82OAOU_52Y",
        "outputId": "9565f7c1-3831-4838-c7de-4a5eedf71644"
      },
      "execution_count": null,
      "outputs": [
        {
          "output_type": "stream",
          "name": "stdout",
          "text": [
            "pig cow horse\n"
          ]
        }
      ]
    },
    {
      "cell_type": "code",
      "source": [
        "x = ['pig', 'cow', 'horse']\n",
        "a, b, c = x\n",
        "print(c, a, b)                # Imprime na ordem escolhida"
      ],
      "metadata": {
        "colab": {
          "base_uri": "https://localhost:8080/"
        },
        "id": "ID2ONJtHAMm4",
        "outputId": "187301d5-0ef6-46af-ce13-3e5d7492d6f1"
      },
      "execution_count": null,
      "outputs": [
        {
          "output_type": "stream",
          "name": "stdout",
          "text": [
            "horse pig cow\n"
          ]
        }
      ]
    },
    {
      "cell_type": "code",
      "source": [
        "x = {3, 5, 3, 5}\n",
        "print(x)                      # Não aceita valores duplicados"
      ],
      "metadata": {
        "colab": {
          "base_uri": "https://localhost:8080/"
        },
        "id": "vYAzhfWBAY9o",
        "outputId": "c763ae5e-072f-4d3f-d20f-f449d2b016df"
      },
      "execution_count": null,
      "outputs": [
        {
          "output_type": "stream",
          "name": "stdout",
          "text": [
            "{3, 5}\n"
          ]
        }
      ]
    },
    {
      "cell_type": "code",
      "source": [
        "lista = [2, 3, 4, 5]\n",
        "z = set(lista)\n",
        "print(z)                      #   Passa para '{}'"
      ],
      "metadata": {
        "colab": {
          "base_uri": "https://localhost:8080/"
        },
        "id": "wvviC4AVArIp",
        "outputId": "506341ae-2aa0-49bb-df99-91c49e459aab"
      },
      "execution_count": null,
      "outputs": [
        {
          "output_type": "stream",
          "name": "stdout",
          "text": [
            "{2, 3, 4, 5}\n"
          ]
        }
      ]
    },
    {
      "cell_type": "code",
      "source": [
        "tupla = (1, 2, 3)\n",
        "z = set(tupla)\n",
        "print(z)"
      ],
      "metadata": {
        "colab": {
          "base_uri": "https://localhost:8080/"
        },
        "id": "Y8C1tgSdA3T5",
        "outputId": "fb8995ac-639f-48c1-ff33-34a1dde2da3c"
      },
      "execution_count": null,
      "outputs": [
        {
          "output_type": "stream",
          "name": "stdout",
          "text": [
            "{1, 2, 3}\n"
          ]
        }
      ]
    },
    {
      "cell_type": "code",
      "source": [
        "tupla = (1, 2, 3)\n",
        "z = set(tupla)\n",
        "print(tupla)\n",
        "print(z)"
      ],
      "metadata": {
        "colab": {
          "base_uri": "https://localhost:8080/"
        },
        "id": "xdJZ3x--BMSq",
        "outputId": "eed6e54a-988e-4847-a751-f6556e5ce08d"
      },
      "execution_count": null,
      "outputs": [
        {
          "output_type": "stream",
          "name": "stdout",
          "text": [
            "(1, 2, 3)\n",
            "{1, 2, 3}\n"
          ]
        }
      ]
    },
    {
      "cell_type": "code",
      "source": [
        "z.add(3)\n",
        "print(z)                    # Não aceita valores duplicados"
      ],
      "metadata": {
        "colab": {
          "base_uri": "https://localhost:8080/"
        },
        "id": "LSu1waaaBRG6",
        "outputId": "56c425dc-98d3-4d03-c46a-9d7b61f2d4a0"
      },
      "execution_count": null,
      "outputs": [
        {
          "output_type": "stream",
          "name": "stdout",
          "text": [
            "{1, 2, 3}\n"
          ]
        }
      ]
    },
    {
      "cell_type": "code",
      "source": [
        "z.add(4)\n",
        "print(z)"
      ],
      "metadata": {
        "colab": {
          "base_uri": "https://localhost:8080/"
        },
        "id": "t8xCysdGBZ_7",
        "outputId": "4a2dcb87-0452-4e55-d32a-1d632a28a292"
      },
      "execution_count": null,
      "outputs": [
        {
          "output_type": "stream",
          "name": "stdout",
          "text": [
            "{1, 2, 3, 4}\n"
          ]
        }
      ]
    },
    {
      "cell_type": "code",
      "source": [
        "s1 = {1, 2, 3}\n",
        "s2 = {3, 4, 5}\n",
        "print(s1 & s2)              # Intercecção entre s1 e s2"
      ],
      "metadata": {
        "colab": {
          "base_uri": "https://localhost:8080/"
        },
        "id": "HXVjH5dyBew6",
        "outputId": "4e45c26c-b29f-4f57-8b60-6ac6a6696a06"
      },
      "execution_count": null,
      "outputs": [
        {
          "output_type": "stream",
          "name": "stdout",
          "text": [
            "{3}\n"
          ]
        }
      ]
    },
    {
      "cell_type": "code",
      "source": [
        "s1 = {1, 2, 3}\n",
        "s2 = {3, 4, 5}\n",
        "print(s1 ^ s2)             # Pega os elementos que não estão repetidos"
      ],
      "metadata": {
        "colab": {
          "base_uri": "https://localhost:8080/"
        },
        "id": "aSg2PkmKBvXr",
        "outputId": "60e64139-cf7f-4025-f719-2f86cc9122b4"
      },
      "execution_count": null,
      "outputs": [
        {
          "output_type": "stream",
          "name": "stdout",
          "text": [
            "{1, 2, 4, 5}\n"
          ]
        }
      ]
    },
    {
      "cell_type": "code",
      "source": [
        "s1 = {1, 2, 3}\n",
        "s2 = {3, 4, 5}\n",
        "print(s1 - s2)            # Usa o ultimo elemento do 'print' como base e retira todos os elementos"
      ],
      "metadata": {
        "colab": {
          "base_uri": "https://localhost:8080/"
        },
        "id": "dunVQzWVCDn4",
        "outputId": "3f178b69-62a8-48fc-b0ea-5c4238b92991"
      },
      "execution_count": null,
      "outputs": [
        {
          "output_type": "stream",
          "name": "stdout",
          "text": [
            "{1, 2}\n"
          ]
        }
      ]
    },
    {
      "cell_type": "code",
      "source": [
        "s1 = {1, 2, 3}\n",
        "s2 = {3, 4, 5}\n",
        "print(s2 - s1)"
      ],
      "metadata": {
        "colab": {
          "base_uri": "https://localhost:8080/"
        },
        "id": "iPQzACGDCLkY",
        "outputId": "6288f90b-444b-4d63-e231-3a28d4d61382"
      },
      "execution_count": null,
      "outputs": [
        {
          "output_type": "stream",
          "name": "stdout",
          "text": [
            "{4, 5}\n"
          ]
        }
      ]
    },
    {
      "cell_type": "markdown",
      "source": [
        "#Dicionário"
      ],
      "metadata": {
        "id": "khxZWGSSCxh0"
      }
    },
    {
      "cell_type": "code",
      "source": [
        "x = {'porco': 25.3, 'bife':33.8, 'frango':22.7}\n",
        "print(x)"
      ],
      "metadata": {
        "colab": {
          "base_uri": "https://localhost:8080/"
        },
        "id": "hb2-PIoWCkDc",
        "outputId": "9913e568-ff56-42ec-a957-01d1bb06d898"
      },
      "execution_count": null,
      "outputs": [
        {
          "output_type": "stream",
          "name": "stdout",
          "text": [
            "{'porco': 25.3, 'bife': 33.8, 'frango': 22.7}\n"
          ]
        }
      ]
    },
    {
      "cell_type": "code",
      "source": [
        "x = dict([('porco', 25.3),('bife', 33.8),('frango', 22.7)])\n",
        "print(x)"
      ],
      "metadata": {
        "colab": {
          "base_uri": "https://localhost:8080/"
        },
        "id": "0WKdKQnzDCc-",
        "outputId": "232eae75-0c6a-4c78-f862-2fd48fcb7199"
      },
      "execution_count": null,
      "outputs": [
        {
          "output_type": "stream",
          "name": "stdout",
          "text": [
            "{'porco': 25.3, 'bife': 33.8, 'frango': 22.7}\n"
          ]
        }
      ]
    },
    {
      "cell_type": "code",
      "source": [
        "x['camarão'] = 38.2          #   Adicionou outro elemento a lista\n",
        "print(x)"
      ],
      "metadata": {
        "colab": {
          "base_uri": "https://localhost:8080/"
        },
        "id": "4l1by4MPDZMu",
        "outputId": "ccb890dc-368d-4e10-976f-1321ebceef40"
      },
      "execution_count": null,
      "outputs": [
        {
          "output_type": "stream",
          "name": "stdout",
          "text": [
            "{'porco': 25.3, 'bife': 33.8, 'frango': 22.7, 'camarão': 38.2}\n"
          ]
        }
      ]
    },
    {
      "cell_type": "code",
      "source": [
        "print(len(x))                #   Conta o numero de elementos da lista"
      ],
      "metadata": {
        "colab": {
          "base_uri": "https://localhost:8080/"
        },
        "id": "V2zQ6HwNDfqe",
        "outputId": "503bece6-e1e7-47c7-df32-3fa383789d32"
      },
      "execution_count": null,
      "outputs": [
        {
          "output_type": "stream",
          "name": "stdout",
          "text": [
            "4\n"
          ]
        }
      ]
    },
    {
      "cell_type": "code",
      "source": [
        "print(x.keys())              #  Imprime as palavras da lista"
      ],
      "metadata": {
        "colab": {
          "base_uri": "https://localhost:8080/"
        },
        "id": "PEzGvu6hDiUu",
        "outputId": "b7941820-7ae9-4507-e6f1-504bbdb23058"
      },
      "execution_count": null,
      "outputs": [
        {
          "output_type": "stream",
          "name": "stdout",
          "text": [
            "dict_keys(['porco', 'bife', 'frango', 'camarão'])\n"
          ]
        }
      ]
    },
    {
      "cell_type": "code",
      "source": [
        "print(x.values())            #  Imprime os valores da lista"
      ],
      "metadata": {
        "colab": {
          "base_uri": "https://localhost:8080/"
        },
        "id": "6aXadrr2Dz8-",
        "outputId": "d76e2ca4-2ad1-431d-b691-ceade8f61512"
      },
      "execution_count": null,
      "outputs": [
        {
          "output_type": "stream",
          "name": "stdout",
          "text": [
            "dict_values([25.3, 33.8, 22.7, 38.2])\n"
          ]
        }
      ]
    },
    {
      "cell_type": "markdown",
      "source": [
        "https://docs.python.org/3/tutorial/datastructures.html"
      ],
      "metadata": {
        "id": "UzP8d_QEEbqv"
      }
    },
    {
      "cell_type": "code",
      "source": [
        "basket = ['apple', 'orange', 'apple', 'pear', 'orange', 'banana']\n",
        "for i in sorted(basket):\n",
        "    print(i)"
      ],
      "metadata": {
        "colab": {
          "base_uri": "https://localhost:8080/"
        },
        "id": "9-w03cIsD4l-",
        "outputId": "eb1d9cdd-61df-44b1-e3a8-0f7786fc9ced"
      },
      "execution_count": null,
      "outputs": [
        {
          "output_type": "stream",
          "name": "stdout",
          "text": [
            "apple\n",
            "apple\n",
            "banana\n",
            "orange\n",
            "orange\n",
            "pear\n"
          ]
        }
      ]
    },
    {
      "cell_type": "code",
      "source": [
        "basket = ['apple', 'orange', 'apple', 'pear', 'orange', 'banana']\n",
        "for f in sorted(set(basket)):\n",
        "    print(f)"
      ],
      "metadata": {
        "colab": {
          "base_uri": "https://localhost:8080/"
        },
        "id": "PYWBclPzFwkB",
        "outputId": "6bbda7d2-b6df-4cf6-f4c1-67a51982353c"
      },
      "execution_count": null,
      "outputs": [
        {
          "output_type": "stream",
          "name": "stdout",
          "text": [
            "apple\n",
            "banana\n",
            "orange\n",
            "pear\n"
          ]
        }
      ]
    },
    {
      "cell_type": "markdown",
      "source": [
        "#Numpy"
      ],
      "metadata": {
        "id": "y-4kWLDpGJ8R"
      }
    },
    {
      "cell_type": "markdown",
      "source": [
        "https://numpy.org/doc/1.23/numpy-ref.pdf"
      ],
      "metadata": {
        "id": "k2nXdfzkGlrC"
      }
    },
    {
      "cell_type": "markdown",
      "source": [
        "https://numpy.org/doc/"
      ],
      "metadata": {
        "id": "VCBbMzT_GjIi"
      }
    },
    {
      "cell_type": "markdown",
      "source": [
        "https://numpy.org/devdocs/user/absolute_beginners.html"
      ],
      "metadata": {
        "id": "yTeIKGKoHM4E"
      }
    },
    {
      "cell_type": "code",
      "source": [
        "import numpy as np\n",
        "\n",
        "a = np.arange(6)\n",
        "print(a)"
      ],
      "metadata": {
        "colab": {
          "base_uri": "https://localhost:8080/"
        },
        "id": "Dnjpbhy7GMlB",
        "outputId": "f4950a99-ca21-487e-9038-b1c4384a5104"
      },
      "execution_count": null,
      "outputs": [
        {
          "output_type": "stream",
          "name": "stdout",
          "text": [
            "[0 1 2 3 4 5]\n"
          ]
        }
      ]
    },
    {
      "cell_type": "code",
      "source": [
        "print(type(a))"
      ],
      "metadata": {
        "colab": {
          "base_uri": "https://localhost:8080/"
        },
        "id": "BrtJTzQxHdF7",
        "outputId": "32a85b07-9e62-4ec5-aacd-5778dec9ba7e"
      },
      "execution_count": null,
      "outputs": [
        {
          "output_type": "stream",
          "name": "stdout",
          "text": [
            "<class 'numpy.ndarray'>\n"
          ]
        }
      ]
    },
    {
      "cell_type": "code",
      "source": [
        "a2 = a[np.newaxis, :]\n",
        "a2.shape"
      ],
      "metadata": {
        "colab": {
          "base_uri": "https://localhost:8080/"
        },
        "id": "LCpfCk4qHZCo",
        "outputId": "32e5f835-4b96-42fa-e472-62edcf78f59b"
      },
      "execution_count": null,
      "outputs": [
        {
          "output_type": "execute_result",
          "data": {
            "text/plain": [
              "(1, 6)"
            ]
          },
          "metadata": {},
          "execution_count": 74
        }
      ]
    },
    {
      "cell_type": "markdown",
      "source": [
        "https://numpy.org/doc/stable/reference/generated/numpy.arange.html"
      ],
      "metadata": {
        "id": "ypddUbZ6ICqd"
      }
    },
    {
      "cell_type": "code",
      "source": [
        "a = np.array([1, 2, 3, 4, 5, 6])\n",
        "print(a)"
      ],
      "metadata": {
        "colab": {
          "base_uri": "https://localhost:8080/"
        },
        "id": "foSRsgoqHnr1",
        "outputId": "343cfd32-cae6-4caa-9b96-fc1224fa2c1c"
      },
      "execution_count": null,
      "outputs": [
        {
          "output_type": "stream",
          "name": "stdout",
          "text": [
            "[1 2 3 4 5 6]\n"
          ]
        }
      ]
    },
    {
      "cell_type": "markdown",
      "source": [
        "#Matriz"
      ],
      "metadata": {
        "id": "O-Fc6oKQIdY1"
      }
    },
    {
      "cell_type": "code",
      "source": [
        "a = np.array([[1, 2, 3, 4], [5, 6, 7, 8], [9, 10, 11, 12]])\n",
        "print(a)"
      ],
      "metadata": {
        "colab": {
          "base_uri": "https://localhost:8080/"
        },
        "id": "5HJadYhGILYm",
        "outputId": "ede29706-91fd-47c2-969f-b473a9d265dd"
      },
      "execution_count": null,
      "outputs": [
        {
          "output_type": "stream",
          "name": "stdout",
          "text": [
            "[[ 1  2  3  4]\n",
            " [ 5  6  7  8]\n",
            " [ 9 10 11 12]]\n"
          ]
        }
      ]
    },
    {
      "cell_type": "code",
      "source": [
        "print(a[0])   # Imprime a primeira linha"
      ],
      "metadata": {
        "colab": {
          "base_uri": "https://localhost:8080/"
        },
        "id": "6F7rC1kJIgGm",
        "outputId": "2f33af8a-77e9-4c62-8ee4-acbab19713df"
      },
      "execution_count": null,
      "outputs": [
        {
          "output_type": "stream",
          "name": "stdout",
          "text": [
            "[1 2 3 4]\n"
          ]
        }
      ]
    },
    {
      "cell_type": "code",
      "source": [
        "print(a[0,0])       # Imprime a o primeiro numero da primeira linha"
      ],
      "metadata": {
        "colab": {
          "base_uri": "https://localhost:8080/"
        },
        "id": "kljehAlqIs5H",
        "outputId": "b00a3fe5-1cae-46b3-fe9a-b8609d3da85f"
      },
      "execution_count": null,
      "outputs": [
        {
          "output_type": "stream",
          "name": "stdout",
          "text": [
            "1\n"
          ]
        }
      ]
    },
    {
      "cell_type": "code",
      "source": [
        "print(a[:,:])"
      ],
      "metadata": {
        "colab": {
          "base_uri": "https://localhost:8080/"
        },
        "id": "TOEkeH58IvL3",
        "outputId": "02ecb478-b25d-48b4-b6bd-0a65a1644528"
      },
      "execution_count": null,
      "outputs": [
        {
          "output_type": "stream",
          "name": "stdout",
          "text": [
            "[[ 1  2  3  4]\n",
            " [ 5  6  7  8]\n",
            " [ 9 10 11 12]]\n"
          ]
        }
      ]
    },
    {
      "cell_type": "code",
      "source": [
        "import numpy as np\n",
        "a = np.array([1, 2, 3])"
      ],
      "metadata": {
        "id": "lqQfaMJoI983"
      },
      "execution_count": null,
      "outputs": []
    },
    {
      "cell_type": "code",
      "source": [
        "z = np.zeros(3)\n",
        "print(z)"
      ],
      "metadata": {
        "colab": {
          "base_uri": "https://localhost:8080/"
        },
        "id": "crneJmYeJEbn",
        "outputId": "12447eb4-ef8d-4737-8a93-114e0055cd15"
      },
      "execution_count": null,
      "outputs": [
        {
          "output_type": "stream",
          "name": "stdout",
          "text": [
            "[0. 0. 0.]\n"
          ]
        }
      ]
    },
    {
      "cell_type": "code",
      "source": [
        "o = np.ones(10)\n",
        "print(o)"
      ],
      "metadata": {
        "colab": {
          "base_uri": "https://localhost:8080/"
        },
        "id": "t2ygm_sTJK_H",
        "outputId": "d99ab5d7-2bdd-4038-b596-7e074e0a5e54"
      },
      "execution_count": null,
      "outputs": [
        {
          "output_type": "stream",
          "name": "stdout",
          "text": [
            "[1. 1. 1. 1. 1. 1. 1. 1. 1. 1.]\n"
          ]
        }
      ]
    },
    {
      "cell_type": "code",
      "source": [
        "e = np.empty(3)\n",
        "print(e)"
      ],
      "metadata": {
        "colab": {
          "base_uri": "https://localhost:8080/"
        },
        "id": "quN0r-CeJTiX",
        "outputId": "f9339d64-3e17-4fb5-8031-085999803a80"
      },
      "execution_count": null,
      "outputs": [
        {
          "output_type": "stream",
          "name": "stdout",
          "text": [
            "[0. 0. 0.]\n"
          ]
        }
      ]
    },
    {
      "cell_type": "code",
      "source": [
        "arr = np.array([2, 1, 5, 3, 7, 4, 6, 8])"
      ],
      "metadata": {
        "id": "5oFm7d3xJe07"
      },
      "execution_count": null,
      "outputs": []
    },
    {
      "cell_type": "code",
      "source": [
        "a = np.sort(arr)          # Colocou em ordem os valores de 'arr'\n",
        "print(a)"
      ],
      "metadata": {
        "colab": {
          "base_uri": "https://localhost:8080/"
        },
        "id": "lW3K1g3kJumo",
        "outputId": "f8e79bd5-a32b-4371-eac7-7fd92af45872"
      },
      "execution_count": null,
      "outputs": [
        {
          "output_type": "stream",
          "name": "stdout",
          "text": [
            "[1 2 3 4 5 6 7 8]\n"
          ]
        }
      ]
    },
    {
      "cell_type": "code",
      "source": [
        "for i in a:\n",
        "  print(i)"
      ],
      "metadata": {
        "colab": {
          "base_uri": "https://localhost:8080/"
        },
        "id": "5yO_9WjzJxJJ",
        "outputId": "10e27d18-ef13-482e-d185-7e1d0e1cc2e3"
      },
      "execution_count": null,
      "outputs": [
        {
          "output_type": "stream",
          "name": "stdout",
          "text": [
            "1\n",
            "2\n",
            "3\n",
            "4\n",
            "5\n",
            "6\n",
            "7\n",
            "8\n"
          ]
        }
      ]
    },
    {
      "cell_type": "code",
      "source": [
        "a = np.array([1, 2, 3, 4])\n",
        "b = np.array ([5, 6, 7, 8])\n",
        "\n",
        "print(np.concatenate((a, b)))"
      ],
      "metadata": {
        "colab": {
          "base_uri": "https://localhost:8080/"
        },
        "id": "cAFL5tgmJ_ZZ",
        "outputId": "4d292a6c-3ba9-457f-869e-2584823834ac"
      },
      "execution_count": null,
      "outputs": [
        {
          "output_type": "stream",
          "name": "stdout",
          "text": [
            "[1 2 3 4 5 6 7 8]\n"
          ]
        }
      ]
    },
    {
      "cell_type": "code",
      "source": [],
      "metadata": {
        "id": "Fl1j6wPnKuRJ"
      },
      "execution_count": null,
      "outputs": []
    },
    {
      "cell_type": "markdown",
      "source": [
        "#Desafio\n",
        "\n",
        "##Gerador de senhas:\n",
        "##a) número de caracteres = 4 a 20; \n",
        "##b) Letra maiúscula, minuscúla, caracter especial e números; \n"
      ],
      "metadata": {
        "id": "7wkF5st7nvZT"
      }
    },
    {
      "cell_type": "markdown",
      "source": [
        "https://www.thepythoncode.com/article/make-a-password-generator-in-python\n"
      ],
      "metadata": {
        "id": "MVJWQc5mtGpN"
      }
    },
    {
      "cell_type": "code",
      "source": [
        "#Perguntar para o usuário o tamanho da senha (4 a 20 caracteres) e qual o tipo de senha\n",
        "\n",
        "print(70*'_')\n",
        "print('Esse é um gerador de senha que vai gerar de 4 a 20 caracteres')\n",
        "print(\"Escolha o numero de caracteres da sua senha e qual o tipo\")\n",
        "print(70*'_')\n",
        "int(input(\"quantos caracteres tem a senha? (4 a 20)\"))\n"
      ],
      "metadata": {
        "colab": {
          "base_uri": "https://localhost:8080/"
        },
        "id": "lQH8GAtJpYbL",
        "outputId": "ea2299bf-72b4-44a6-9efc-025711ddaa5e"
      },
      "execution_count": null,
      "outputs": [
        {
          "name": "stdout",
          "output_type": "stream",
          "text": [
            "______________________________________________________________________\n",
            "Esse é um gerador de senha que vai gerar de 4 a 20 caracteres\n",
            "Escolha o numero de caracteres da sua senha e qual o tipo\n",
            "______________________________________________________________________\n",
            "quantos caracteres tem a senha? (4 a 20)10\n"
          ]
        },
        {
          "output_type": "execute_result",
          "data": {
            "text/plain": [
              "10"
            ]
          },
          "metadata": {},
          "execution_count": 2
        }
      ]
    },
    {
      "cell_type": "markdown",
      "source": [
        "##Importando biblioteca string"
      ],
      "metadata": {
        "id": "er_TLnOE3Uw3"
      }
    },
    {
      "cell_type": "code",
      "source": [
        "print(70*'_')\n",
        "print('Esse é um gerador de senha que vai gerar de 4 a 20 caracteres')\n",
        "print(\"Escolha o numero de caracteres da sua senha e qual o tipo\")\n",
        "print(70*'_')\n",
        "tamanho = int(input(\"quantos caracteres tem a senha? (4 a 20)\"))\n",
        "print(tamanho)\n",
        "\n",
        "import string    # importando biblioteca     \n",
        "\n",
        "letra_min = string.ascii_lowercase\n",
        "print(letra_min)\n",
        "letra_mai = string.ascii_uppercase\n",
        "print(letra_mai)\n",
        "print(type(letra_mai))"
      ],
      "metadata": {
        "colab": {
          "base_uri": "https://localhost:8080/"
        },
        "id": "Nyu3mAipq9fE",
        "outputId": "caf57655-77b1-498e-807a-e4784d253438"
      },
      "execution_count": null,
      "outputs": [
        {
          "output_type": "stream",
          "name": "stdout",
          "text": [
            "______________________________________________________________________\n",
            "Esse é um gerador de senha que vai gerar de 4 a 20 caracteres\n",
            "Escolha o numero de caracteres da sua senha e qual o tipo\n",
            "______________________________________________________________________\n",
            "quantos caracteres tem a senha? (4 a 20)17\n",
            "17\n",
            "abcdefghijklmnopqrstuvwxyz\n",
            "ABCDEFGHIJKLMNOPQRSTUVWXYZ\n",
            "<class 'str'>\n"
          ]
        }
      ]
    },
    {
      "cell_type": "code",
      "source": [
        "print(70*'_')\n",
        "print('Esse é um gerador de senha que vai gerar de 4 a 20 caracteres')\n",
        "print(\"Escolha o numero de caracteres da sua senha e qual o tipo\")\n",
        "print(70*'_')\n",
        "tamanho = int(input(\"quantos caracteres tem a senha? (4 a 20)\"))\n",
        "print(tamanho)\n",
        "\n",
        "import string\n",
        "\n",
        "letra_min = string.ascii_lowercase\n",
        "print(letra_min)\n",
        "letra_mai = string.ascii_uppercase\n",
        "print(letra_mai)\n",
        "print(type(letra_mai))\n",
        "\n",
        "numeros = string.digits       #numeros\n",
        "print(numeros)\n",
        "\n",
        "especiais = string.punctuation  #caracteres\n",
        "print(especiais)"
      ],
      "metadata": {
        "colab": {
          "base_uri": "https://localhost:8080/"
        },
        "id": "Mn6-xQ1wrTz9",
        "outputId": "065db915-1eb1-410d-c9e2-596e35ca380e"
      },
      "execution_count": null,
      "outputs": [
        {
          "output_type": "stream",
          "name": "stdout",
          "text": [
            "______________________________________________________________________\n",
            "Esse é um gerador de senha que vai gerar de 4 a 20 caracteres\n",
            "Escolha o numero de caracteres da sua senha e qual o tipo\n",
            "______________________________________________________________________\n",
            "quantos caracteres tem a senha? (4 a 20)17\n",
            "17\n",
            "abcdefghijklmnopqrstuvwxyz\n",
            "ABCDEFGHIJKLMNOPQRSTUVWXYZ\n",
            "<class 'str'>\n",
            "0123456789\n",
            "!\"#$%&'()*+,-./:;<=>?@[\\]^_`{|}~\n"
          ]
        }
      ]
    },
    {
      "cell_type": "code",
      "source": [
        "# condições para a escolha de senha\n",
        "# 1 - letra minuscula\n",
        "# 2 - letra maiuscula\n",
        "# 3 - numeros\n",
        "# 4 - letras minuscula + maiuscula\n",
        "# 5 - minuscula + maiuscula + numeros\n",
        "# 6 - minuscula + maiuscula + numeros + especiais\n",
        "\n",
        "print(80*'_')\n",
        "print('Esse é um gerador de senha que vai gerar de 4 a 20 caracteres')\n",
        "print(\"Escolha o numero de caracteres da sua senha e qual o tipo\")\n",
        "\n",
        "# para escolher o tipo de senha\n",
        "\n",
        "print(\"O tipo de senha pode ser escolhido de 1 a 6\") \n",
        "print(\"Opção 1 - letras minusculas\")\n",
        "print(\"Opção 2 - letras maiúsculas\")\n",
        "print(\"Opção 3 - números\")\n",
        "print(\"Opção 4 - letras minúsculas + letras maiúsculas\")\n",
        "print(\"Opção 5 - letras minúsculas + letras maiúsculas + números\")\n",
        "print(\"Opção 6 - letras minúsculas + letras maiúsculas + números + caracteres especiais\")\n",
        "\n",
        "print(80*'_')\n",
        "\n",
        "tamanho = int(input(\"quantos caracteres tem a senha? (4 a 20)\"))\n",
        "opcao = int(input(\"Qual o tipo de senha? (escola de 1 a 6)\"))\n",
        "\n",
        "import string\n",
        "\n",
        "letra_min = string.ascii_lowercase\n",
        "letra_mai = string.ascii_uppercase\n",
        "numeros = string.digits       \n",
        "especiais = string.punctuation    \n",
        "\n",
        "if opcao == 1:\n",
        "  valores = letra_min\n",
        "elif opcao == 2:\n",
        "  valores = letra_mai\n",
        "elif opcao == 3:\n",
        "  valores = numeros\n",
        "elif opcao == 4:\n",
        "  valores = letra_min + letra_mai\n",
        "elif opcao == 5:\n",
        "  valores = letra_min + letra_mai + numeros\n",
        "elif opcao == 6:\n",
        "  valores = letra_min + letra_mai + numeros + especiais\n",
        "\n",
        "\n",
        "\n"
      ],
      "metadata": {
        "colab": {
          "base_uri": "https://localhost:8080/"
        },
        "id": "_ae-JP2RuPBt",
        "outputId": "7a96f6ef-4629-467f-c4e1-61fcb78afba9"
      },
      "execution_count": null,
      "outputs": [
        {
          "name": "stdout",
          "output_type": "stream",
          "text": [
            "________________________________________________________________________________\n",
            "Esse é um gerador de senha que vai gerar de 4 a 20 caracteres\n",
            "Escolha o numero de caracteres da sua senha e qual o tipo\n",
            "O tipo de senha pode ser escolhido de 1 a 6\n",
            "Opção 1 - letras minusculas\n",
            "Opção 2 - letras maiúsculas\n",
            "Opção 3 - números\n",
            "Opção 4 - letras minúsculas + letras maiúsculas\n",
            "Opção 5 - letras minúsculas + letras maiúsculas + números\n",
            "Opção 6 - letras minúsculas + letras maiúsculas + números + caracteres especiais\n",
            "________________________________________________________________________________\n",
            "quantos caracteres tem a senha? (4 a 20)10\n",
            "Qual o tipo de senha? (escola de 1 a 6)6\n"
          ]
        }
      ]
    },
    {
      "cell_type": "markdown",
      "source": [
        "## Importar biblioteca random\n",
        "https://pynative.com/python-random-choice/"
      ],
      "metadata": {
        "id": "qhzFR6Qe2JEl"
      }
    },
    {
      "cell_type": "code",
      "source": [
        "print(80*'_')\n",
        "print('Esse é um gerador de senha que vai gerar de 4 a 20 caracteres')\n",
        "print(\"Escolha o numero de caracteres da sua senha e qual o tipo\")\n",
        "print(\"O tipo de senha pode ser escolhido de 1 a 6\") \n",
        "print(\"Opção 1 - letras minusculas\")\n",
        "print(\"Opção 2 - letras maiúsculas\")\n",
        "print(\"Opção 3 - números\")\n",
        "print(\"Opção 4 - letras minúsculas + letras maiúsculas\")\n",
        "print(\"Opção 5 - letras minúsculas + letras maiúsculas + números\")\n",
        "print(\"Opção 6 - letras minúsculas + letras maiúsculas + números + caracteres especiais\")\n",
        "print(80*'_')\n",
        "\n",
        "tamanho = int(input(\"quantos caracteres tem a senha? (4 a 20)\"))\n",
        "opcao = int(input(\"Qual o tipo de senha? (escola de 1 a 6)\"))\n",
        "\n",
        "import string\n",
        "import random            #biblioteca random\n",
        "\n",
        "letra_min = string.ascii_lowercase\n",
        "letra_mai = string.ascii_uppercase\n",
        "numeros = string.digits       \n",
        "especiais = string.punctuation    \n",
        "\n",
        "if opcao == 1:\n",
        "  valores = letra_min\n",
        "elif opcao == 2:\n",
        "  valores = letra_mai\n",
        "elif opcao == 3:\n",
        "  valores = numeros\n",
        "elif opcao == 4:\n",
        "  valores = letra_min + letra_mai\n",
        "elif opcao == 5:\n",
        "  valores = letra_min + letra_mai + numeros\n",
        "elif opcao == 6:\n",
        "  valores = letra_min + letra_mai + numeros + especiais\n",
        "\n",
        "# Gerando a senha\n",
        "\n",
        "senha = \"\"\n",
        "for i in range(tamanho):\n",
        "  senha = senha + random.choice(valores)\n",
        "\n",
        "print(senha)\n",
        "\n"
      ],
      "metadata": {
        "colab": {
          "base_uri": "https://localhost:8080/"
        },
        "id": "ss3giW33zBpO",
        "outputId": "6a53b731-4a59-4501-e5e0-bedb40fa864f"
      },
      "execution_count": null,
      "outputs": [
        {
          "output_type": "stream",
          "name": "stdout",
          "text": [
            "________________________________________________________________________________\n",
            "Esse é um gerador de senha que vai gerar de 4 a 20 caracteres\n",
            "Escolha o numero de caracteres da sua senha e qual o tipo\n",
            "O tipo de senha pode ser escolhido de 1 a 6\n",
            "Opção 1 - letras minusculas\n",
            "Opção 2 - letras maiúsculas\n",
            "Opção 3 - números\n",
            "Opção 4 - letras minúsculas + letras maiúsculas\n",
            "Opção 5 - letras minúsculas + letras maiúsculas + números\n",
            "Opção 6 - letras minúsculas + letras maiúsculas + números + caracteres especiais\n",
            "________________________________________________________________________________\n",
            "quantos caracteres tem a senha? (4 a 20)10\n",
            "Qual o tipo de senha? (escola de 1 a 6)6\n",
            "0jNTTnXo6b\n"
          ]
        }
      ]
    },
    {
      "cell_type": "markdown",
      "source": [
        "## seed():  \n",
        "##\"fixa\" a minha randomização garantindo que a amostra randomizada para A será a mesma amostra randomizada para B o que me garante uma comparação justa."
      ],
      "metadata": {
        "id": "vdWOyEyP4qCu"
      }
    },
    {
      "cell_type": "code",
      "source": [
        "print(80*'_')\n",
        "print('Esse é um gerador de senha que vai gerar de 4 a 20 caracteres')\n",
        "print(\"Escolha o numero de caracteres da sua senha e qual o tipo\")\n",
        "print(\"O tipo de senha pode ser escolhido de 1 a 6\") \n",
        "print(\"Opção 1 - letras minusculas\")\n",
        "print(\"Opção 2 - letras maiúsculas\")\n",
        "print(\"Opção 3 - números\")\n",
        "print(\"Opção 4 - letras minúsculas + letras maiúsculas\")\n",
        "print(\"Opção 5 - letras minúsculas + letras maiúsculas + números\")\n",
        "print(\"Opção 6 - letras minúsculas + letras maiúsculas + números + caracteres especiais\")\n",
        "print(80*'_')\n",
        "\n",
        "tamanho = int(input(\"quantos caracteres tem a senha? (4 a 20)\"))\n",
        "opcao = int(input(\"Qual o tipo de senha? (escola de 1 a 6)\"))\n",
        "\n",
        "import string\n",
        "import random\n",
        "random.seed(1234)      #seed()        \n",
        "\n",
        "letra_min = string.ascii_lowercase\n",
        "letra_mai = string.ascii_uppercase\n",
        "numeros = string.digits       \n",
        "especiais = string.punctuation    \n",
        "\n",
        "if opcao == 1:\n",
        "  valores = letra_min\n",
        "elif opcao == 2:\n",
        "  valores = letra_mai\n",
        "elif opcao == 3:\n",
        "  valores = numeros\n",
        "elif opcao == 4:\n",
        "  valores = letra_min + letra_mai\n",
        "elif opcao == 5:\n",
        "  valores = letra_min + letra_mai + numeros\n",
        "elif opcao == 6:\n",
        "  valores = letra_min + letra_mai + numeros + especiais\n",
        "\n",
        "# Gerando a senha\n",
        "\n",
        "senha = \"\"\n",
        "for i in range(tamanho):\n",
        "  senha = senha + random.choice(valores)\n",
        "\n",
        "print(senha)"
      ],
      "metadata": {
        "colab": {
          "base_uri": "https://localhost:8080/"
        },
        "id": "t8_-c-x42sPv",
        "outputId": "dde1c180-6bd8-42db-f730-924e528c7aeb"
      },
      "execution_count": null,
      "outputs": [
        {
          "output_type": "stream",
          "name": "stdout",
          "text": [
            "________________________________________________________________________________\n",
            "Esse é um gerador de senha que vai gerar de 4 a 20 caracteres\n",
            "Escolha o numero de caracteres da sua senha e qual o tipo\n",
            "O tipo de senha pode ser escolhido de 1 a 6\n",
            "Opção 1 - letras minusculas\n",
            "Opção 2 - letras maiúsculas\n",
            "Opção 3 - números\n",
            "Opção 4 - letras minúsculas + letras maiúsculas\n",
            "Opção 5 - letras minúsculas + letras maiúsculas + números\n",
            "Opção 6 - letras minúsculas + letras maiúsculas + números + caracteres especiais\n",
            "________________________________________________________________________________\n",
            "quantos caracteres tem a senha? (4 a 20)6\n",
            "Qual o tipo de senha? (escola de 1 a 6)6\n",
            "4oal-e\n"
          ]
        }
      ]
    },
    {
      "cell_type": "markdown",
      "source": [
        "## Tarefa: Puxar senha para o Tkinter\n",
        "https://docs.python.org/3/library/tkinter.html#"
      ],
      "metadata": {
        "id": "9U12j1q578SW"
      }
    },
    {
      "cell_type": "code",
      "source": [
        "https://docs.python.org/3/library/tkinter.html\n",
        "\n",
        "from tkinter import *\n",
        "from tkinter import ttk\n",
        "root = Tk()\n",
        "frm = ttk.Frame(root, padding=10)\n",
        "frm.grid()\n",
        "ttk.Label(frm, text=\"Hello World!\").grid(column=0, row=0)\n",
        "ttk.Button(frm, text=\"Quit\", command=root.destroy).grid(column=1, row=0)\n",
        "root.mainloop()\n"
      ],
      "metadata": {
        "colab": {
          "base_uri": "https://localhost:8080/",
          "height": 356
        },
        "id": "IGEcynA83-3g",
        "outputId": "3f6632f7-040e-4987-a0a8-2b9d6c205ca9"
      },
      "execution_count": null,
      "outputs": [
        {
          "output_type": "error",
          "ename": "TclError",
          "evalue": "ignored",
          "traceback": [
            "\u001b[0;31m---------------------------------------------------------------------------\u001b[0m",
            "\u001b[0;31mTclError\u001b[0m                                  Traceback (most recent call last)",
            "\u001b[0;32m<ipython-input-17-29445cf203ea>\u001b[0m in \u001b[0;36m<cell line: 3>\u001b[0;34m()\u001b[0m\n\u001b[1;32m      1\u001b[0m \u001b[0;32mfrom\u001b[0m \u001b[0mtkinter\u001b[0m \u001b[0;32mimport\u001b[0m \u001b[0;34m*\u001b[0m\u001b[0;34m\u001b[0m\u001b[0;34m\u001b[0m\u001b[0m\n\u001b[1;32m      2\u001b[0m \u001b[0;32mfrom\u001b[0m \u001b[0mtkinter\u001b[0m \u001b[0;32mimport\u001b[0m \u001b[0mttk\u001b[0m\u001b[0;34m\u001b[0m\u001b[0;34m\u001b[0m\u001b[0m\n\u001b[0;32m----> 3\u001b[0;31m \u001b[0mroot\u001b[0m \u001b[0;34m=\u001b[0m \u001b[0mTk\u001b[0m\u001b[0;34m(\u001b[0m\u001b[0;34m)\u001b[0m\u001b[0;34m\u001b[0m\u001b[0;34m\u001b[0m\u001b[0m\n\u001b[0m\u001b[1;32m      4\u001b[0m \u001b[0mfrm\u001b[0m \u001b[0;34m=\u001b[0m \u001b[0mttk\u001b[0m\u001b[0;34m.\u001b[0m\u001b[0mFrame\u001b[0m\u001b[0;34m(\u001b[0m\u001b[0mroot\u001b[0m\u001b[0;34m,\u001b[0m \u001b[0mpadding\u001b[0m\u001b[0;34m=\u001b[0m\u001b[0;36m10\u001b[0m\u001b[0;34m)\u001b[0m\u001b[0;34m\u001b[0m\u001b[0;34m\u001b[0m\u001b[0m\n\u001b[1;32m      5\u001b[0m \u001b[0mfrm\u001b[0m\u001b[0;34m.\u001b[0m\u001b[0mgrid\u001b[0m\u001b[0;34m(\u001b[0m\u001b[0;34m)\u001b[0m\u001b[0;34m\u001b[0m\u001b[0;34m\u001b[0m\u001b[0m\n",
            "\u001b[0;32m/usr/lib/python3.10/tkinter/__init__.py\u001b[0m in \u001b[0;36m__init__\u001b[0;34m(self, screenName, baseName, className, useTk, sync, use)\u001b[0m\n\u001b[1;32m   2300\u001b[0m                 \u001b[0mbaseName\u001b[0m \u001b[0;34m=\u001b[0m \u001b[0mbaseName\u001b[0m \u001b[0;34m+\u001b[0m \u001b[0mext\u001b[0m\u001b[0;34m\u001b[0m\u001b[0;34m\u001b[0m\u001b[0m\n\u001b[1;32m   2301\u001b[0m         \u001b[0minteractive\u001b[0m \u001b[0;34m=\u001b[0m \u001b[0;32mFalse\u001b[0m\u001b[0;34m\u001b[0m\u001b[0;34m\u001b[0m\u001b[0m\n\u001b[0;32m-> 2302\u001b[0;31m         \u001b[0mself\u001b[0m\u001b[0;34m.\u001b[0m\u001b[0mtk\u001b[0m \u001b[0;34m=\u001b[0m \u001b[0m_tkinter\u001b[0m\u001b[0;34m.\u001b[0m\u001b[0mcreate\u001b[0m\u001b[0;34m(\u001b[0m\u001b[0mscreenName\u001b[0m\u001b[0;34m,\u001b[0m \u001b[0mbaseName\u001b[0m\u001b[0;34m,\u001b[0m \u001b[0mclassName\u001b[0m\u001b[0;34m,\u001b[0m \u001b[0minteractive\u001b[0m\u001b[0;34m,\u001b[0m \u001b[0mwantobjects\u001b[0m\u001b[0;34m,\u001b[0m \u001b[0museTk\u001b[0m\u001b[0;34m,\u001b[0m \u001b[0msync\u001b[0m\u001b[0;34m,\u001b[0m \u001b[0muse\u001b[0m\u001b[0;34m)\u001b[0m\u001b[0;34m\u001b[0m\u001b[0;34m\u001b[0m\u001b[0m\n\u001b[0m\u001b[1;32m   2303\u001b[0m         \u001b[0;32mif\u001b[0m \u001b[0museTk\u001b[0m\u001b[0;34m:\u001b[0m\u001b[0;34m\u001b[0m\u001b[0;34m\u001b[0m\u001b[0m\n\u001b[1;32m   2304\u001b[0m             \u001b[0mself\u001b[0m\u001b[0;34m.\u001b[0m\u001b[0m_loadtk\u001b[0m\u001b[0;34m(\u001b[0m\u001b[0;34m)\u001b[0m\u001b[0;34m\u001b[0m\u001b[0;34m\u001b[0m\u001b[0m\n",
            "\u001b[0;31mTclError\u001b[0m: no display name and no $DISPLAY environment variable"
          ]
        }
      ]
    },
    {
      "cell_type": "markdown",
      "source": [
        "#Aula 31/05\n"
      ],
      "metadata": {
        "id": "vSBBCgYPEY5T"
      }
    },
    {
      "cell_type": "markdown",
      "source": [
        "#Curve Fit"
      ],
      "metadata": {
        "id": "S78KY-neNiuS"
      }
    },
    {
      "cell_type": "code",
      "source": [
        "#Importando função\n",
        "from scipy.optimize import curve_fit\n",
        "import numpy as np\n",
        "\n",
        "def exponencial(x,a,b):\n",
        "  return a*x**b\n",
        "\n",
        "#Criando valores de x\n",
        "x = np.linspace(1,10,50)\n",
        "np.random.seed(123456)\n",
        "\n",
        "y = exponencial(x, 1, 1.8)\n",
        "\n",
        "ruido = 2*np.random.normal(size=y.size)\n",
        "y = y + ruido"
      ],
      "metadata": {
        "id": "sjLAODruEaw6"
      },
      "execution_count": null,
      "outputs": []
    },
    {
      "cell_type": "code",
      "source": [
        "import matplotlib.pyplot as plt\n",
        "plt.scatter(x,y)\n",
        "plt.show"
      ],
      "metadata": {
        "colab": {
          "base_uri": "https://localhost:8080/",
          "height": 452
        },
        "id": "LyYSEIQFNo3V",
        "outputId": "3bdc6ea0-b5af-4ddc-c279-ef3374f93dd1"
      },
      "execution_count": null,
      "outputs": [
        {
          "output_type": "execute_result",
          "data": {
            "text/plain": [
              "<function matplotlib.pyplot.show(close=None, block=None)>"
            ]
          },
          "metadata": {},
          "execution_count": 20
        },
        {
          "output_type": "display_data",
          "data": {
            "text/plain": [
              "<Figure size 640x480 with 1 Axes>"
            ],
            "image/png": "[encoded data removed]"
          },
          "metadata": {}
        }
      ]
    },
    {
      "cell_type": "code",
      "source": [
        "#Ajustar modelo aos pontos experimentais\n",
        "pars, cov = curve_fit(f=exponencial, xdata=x, ydata=y, p0=[1,1], bounds=(-np.inf,np.inf))\n",
        "\n",
        "perr = np.sqrt(np.diag(cov))\n",
        "\n",
        "plt.plot(x,exponencial(x,*pars), linestyle=\"--\", linewidth=2, color=\"k\")\n",
        "plt.scatter(x,y)\n",
        "plt.show"
      ],
      "metadata": {
        "colab": {
          "base_uri": "https://localhost:8080/",
          "height": 452
        },
        "id": "K0gPuuqPNq4k",
        "outputId": "ceebd5f3-e2d3-498c-c871-25f1e44767be"
      },
      "execution_count": null,
      "outputs": [
        {
          "output_type": "execute_result",
          "data": {
            "text/plain": [
              "<function matplotlib.pyplot.show(close=None, block=None)>"
            ]
          },
          "metadata": {},
          "execution_count": 21
        },
        {
          "output_type": "display_data",
          "data": {
            "text/plain": [
              "<Figure size 640x480 with 1 Axes>"
            ],
            "image/png": "[encoded data removed]"
          },
          "metadata": {}
        }
      ]
    },
    {
      "cell_type": "code",
      "source": [
        "from scipy.stats.distributions import gausshyper_gen\n",
        "#Exemplo\n",
        "from scipy.optimize import curve_fit\n",
        "import numpy as np\n",
        "\n",
        "def Gau(x,a,b,c):\n",
        "  return a*np.exp(-((x-b)**2/(2*c**2)))\n",
        "\n",
        "x = np.linspace(-10,10,100)\n",
        "np.random.seed(123456)\n",
        "\n",
        "y = Gau(x, 8,-1,3)\n",
        "\n",
        "ruido = 0.5*np.random.normal(size=y.size)\n",
        "y = y + ruido\n",
        "\n",
        "pars, cov = curve_fit(f=Gau, xdata=x, ydata=y, p0=[1,1,1], bounds=(-np.inf,np.inf))\n",
        "\n",
        "perr = np.sqrt(np.diag(cov))\n",
        "\n",
        "plt.plot(x,Gau(x,*pars), linestyle=\"--\", linewidth=2, color=\"k\")\n",
        "plt.scatter(x,y)\n",
        "plt.show"
      ],
      "metadata": {
        "colab": {
          "base_uri": "https://localhost:8080/",
          "height": 452
        },
        "id": "75wi8jT0NtUy",
        "outputId": "bb8ef993-5ab0-4f90-8903-e8c0c55e1a8a"
      },
      "execution_count": null,
      "outputs": [
        {
          "output_type": "execute_result",
          "data": {
            "text/plain": [
              "<function matplotlib.pyplot.show(close=None, block=None)>"
            ]
          },
          "metadata": {},
          "execution_count": 22
        },
        {
          "output_type": "display_data",
          "data": {
            "text/plain": [
              "<Figure size 640x480 with 1 Axes>"
            ],
            "image/png": "[encoded data removed]"
          },
          "metadata": {}
        }
      ]
    },
    {
      "cell_type": "code",
      "source": [],
      "metadata": {
        "id": "vDN0KQ3TNwC4"
      },
      "execution_count": null,
      "outputs": []
    },
    {
      "cell_type": "markdown",
      "source": [],
      "metadata": {
        "id": "qnN8stIzO6XM"
      }
    }
  ]
}